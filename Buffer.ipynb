{
 "cells": [
  {
   "cell_type": "code",
   "execution_count": 36,
   "id": "436048e8-eb0e-48fc-ab55-2cff9983d01a",
   "metadata": {},
   "outputs": [],
   "source": [
    "class Buffer:\n",
    "    \"\"\"\n",
    "    A buffer that handles insertion & consumption of items.\n",
    "    Has 2 possible policies: FIFO (First In First Out) and LIFO (Last In\n",
    "    First Out).\n",
    "    \"\"\"\n",
    "\n",
    "    def __init__(self, policy: str):\n",
    "        \"\"\"\n",
    "        Build a buffer, if is FIFO or LFIO\n",
    "        attr:\n",
    "        return\n",
    "        \"\"\"\n",
    "        policy = policy.upper()\n",
    "        if policy not in ['FIFO', 'LIFO']:\n",
    "            raise ValueError()\n",
    "        self._policy = policy\n",
    "        self.data = []\n",
    "\n",
    "    def insert(self, item):\n",
    "        self.data.append(item)\n",
    "    \n",
    "    def extract(self):\n",
    "        if len(self.data) == 0:\n",
    "            raise Exception(\"Empty Buffer\")\n",
    "        if self._policy == 'LIFO':\n",
    "            return self.data.pop()\n",
    "        elif self._policy == 'FIFO':\n",
    "            return self.data.pop(0)"
   ]
  },
  {
   "cell_type": "code",
   "execution_count": 45,
   "id": "3aade13f-ac8f-416c-b948-ba3f068513c4",
   "metadata": {},
   "outputs": [],
   "source": [
    "buffer= Buffer('FIFO')"
   ]
  },
  {
   "cell_type": "code",
   "execution_count": 46,
   "id": "6294db36-b4cb-44a2-ba64-ed8388b1b606",
   "metadata": {},
   "outputs": [],
   "source": [
    "buffer.insert(1)"
   ]
  },
  {
   "cell_type": "code",
   "execution_count": 47,
   "id": "b57caa5c-4abc-4126-a156-39711fd11880",
   "metadata": {},
   "outputs": [],
   "source": [
    "buffer.insert(2)"
   ]
  },
  {
   "cell_type": "code",
   "execution_count": 48,
   "id": "5de70291-6fce-4f3e-95b5-b35b578f139a",
   "metadata": {},
   "outputs": [],
   "source": [
    "buffer.insert(3)"
   ]
  },
  {
   "cell_type": "code",
   "execution_count": 49,
   "id": "548bf27e-cbdc-4ec4-898e-b09cb4eb1ba4",
   "metadata": {},
   "outputs": [
    {
     "data": {
      "text/plain": [
       "1"
      ]
     },
     "execution_count": 49,
     "metadata": {},
     "output_type": "execute_result"
    }
   ],
   "source": [
    "buffer.extract()"
   ]
  },
  {
   "cell_type": "code",
   "execution_count": 50,
   "id": "c213cf25-313a-4d62-acbf-4a41a208dff0",
   "metadata": {},
   "outputs": [
    {
     "data": {
      "text/plain": [
       "2"
      ]
     },
     "execution_count": 50,
     "metadata": {},
     "output_type": "execute_result"
    }
   ],
   "source": [
    "buffer.extract()"
   ]
  },
  {
   "cell_type": "code",
   "execution_count": 51,
   "id": "9ed854df-414e-4a21-91f1-120fd5439a53",
   "metadata": {},
   "outputs": [
    {
     "data": {
      "text/plain": [
       "3"
      ]
     },
     "execution_count": 51,
     "metadata": {},
     "output_type": "execute_result"
    }
   ],
   "source": [
    "buffer.extract()"
   ]
  },
  {
   "cell_type": "code",
   "execution_count": 52,
   "id": "e0bd23bc-7da2-4294-8903-bd43ee5ab946",
   "metadata": {},
   "outputs": [
    {
     "ename": "Exception",
     "evalue": "Empty Buffer",
     "output_type": "error",
     "traceback": [
      "\u001b[0;31m---------------------------------------------------------------------------\u001b[0m",
      "\u001b[0;31mException\u001b[0m                                 Traceback (most recent call last)",
      "Cell \u001b[0;32mIn[52], line 1\u001b[0m\n\u001b[0;32m----> 1\u001b[0m \u001b[43mbuffer\u001b[49m\u001b[38;5;241;43m.\u001b[39;49m\u001b[43mextract\u001b[49m\u001b[43m(\u001b[49m\u001b[43m)\u001b[49m\n",
      "Cell \u001b[0;32mIn[36], line 20\u001b[0m, in \u001b[0;36mBuffer.extract\u001b[0;34m(self)\u001b[0m\n\u001b[1;32m     18\u001b[0m \u001b[38;5;28;01mdef\u001b[39;00m \u001b[38;5;21mextract\u001b[39m(\u001b[38;5;28mself\u001b[39m):\n\u001b[1;32m     19\u001b[0m     \u001b[38;5;28;01mif\u001b[39;00m \u001b[38;5;28mlen\u001b[39m(\u001b[38;5;28mself\u001b[39m\u001b[38;5;241m.\u001b[39mdata) \u001b[38;5;241m==\u001b[39m \u001b[38;5;241m0\u001b[39m:\n\u001b[0;32m---> 20\u001b[0m         \u001b[38;5;28;01mraise\u001b[39;00m \u001b[38;5;167;01mException\u001b[39;00m(\u001b[38;5;124m\"\u001b[39m\u001b[38;5;124mEmpty Buffer\u001b[39m\u001b[38;5;124m\"\u001b[39m)\n\u001b[1;32m     21\u001b[0m     \u001b[38;5;28;01mif\u001b[39;00m \u001b[38;5;28mself\u001b[39m\u001b[38;5;241m.\u001b[39m_policy \u001b[38;5;241m==\u001b[39m \u001b[38;5;124m'\u001b[39m\u001b[38;5;124mLIFO\u001b[39m\u001b[38;5;124m'\u001b[39m:\n\u001b[1;32m     22\u001b[0m         \u001b[38;5;28;01mreturn\u001b[39;00m \u001b[38;5;28mself\u001b[39m\u001b[38;5;241m.\u001b[39mdata\u001b[38;5;241m.\u001b[39mpop()\n",
      "\u001b[0;31mException\u001b[0m: Empty Buffer"
     ]
    }
   ],
   "source": [
    "buffer.extract()"
   ]
  },
  {
   "cell_type": "code",
   "execution_count": null,
   "id": "05d04f1d-fd28-4a62-a637-826578369ed6",
   "metadata": {},
   "outputs": [],
   "source": []
  },
  {
   "cell_type": "code",
   "execution_count": null,
   "id": "50eb183b-f3a2-4c74-b44f-8bafe5ec31c6",
   "metadata": {},
   "outputs": [],
   "source": []
  }
 ],
 "metadata": {
  "kernelspec": {
   "display_name": "Python 3 (ipykernel)",
   "language": "python",
   "name": "python3"
  },
  "language_info": {
   "codemirror_mode": {
    "name": "ipython",
    "version": 3
   },
   "file_extension": ".py",
   "mimetype": "text/x-python",
   "name": "python",
   "nbconvert_exporter": "python",
   "pygments_lexer": "ipython3",
   "version": "3.8.9"
  }
 },
 "nbformat": 4,
 "nbformat_minor": 5
}
