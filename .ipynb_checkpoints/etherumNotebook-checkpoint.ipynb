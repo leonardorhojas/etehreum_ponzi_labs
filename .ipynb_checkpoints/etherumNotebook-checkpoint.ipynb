{
 "cells": [
  {
   "cell_type": "code",
   "execution_count": 17,
   "id": "97165b71-2a54-46db-b351-525469ef1bf7",
   "metadata": {},
   "outputs": [
    {
     "name": "stdout",
     "output_type": "stream",
     "text": [
      "Requirement already satisfied: attrs==21.2.0 in ./venv/lib/python3.8/site-packages (from -r requirements.txt (line 1)) (21.2.0)\n",
      "Requirement already satisfied: certifi==2021.5.30 in ./venv/lib/python3.8/site-packages (from -r requirements.txt (line 2)) (2021.5.30)\n",
      "Requirement already satisfied: charset-normalizer==2.0.4 in ./venv/lib/python3.8/site-packages (from -r requirements.txt (line 3)) (2.0.4)\n",
      "Requirement already satisfied: idna==3.2 in ./venv/lib/python3.8/site-packages (from -r requirements.txt (line 5)) (3.2)\n",
      "Requirement already satisfied: itsdangerous==2.0.1 in ./venv/lib/python3.8/site-packages (from -r requirements.txt (line 6)) (2.0.1)\n",
      "Requirement already satisfied: python-dateutil==2.8.2 in ./venv/lib/python3.8/site-packages (from -r requirements.txt (line 8)) (2.8.2)\n",
      "Requirement already satisfied: PyYAML==5.4.1 in ./venv/lib/python3.8/site-packages (from -r requirements.txt (line 9)) (5.4.1)\n",
      "Requirement already satisfied: requests==2.26.0 in ./venv/lib/python3.8/site-packages (from -r requirements.txt (line 10)) (2.26.0)\n",
      "Requirement already satisfied: requests-cache==0.7.4 in ./venv/lib/python3.8/site-packages (from -r requirements.txt (line 11)) (0.7.4)\n",
      "Requirement already satisfied: six==1.16.0 in ./venv/lib/python3.8/site-packages (from -r requirements.txt (line 12)) (1.16.0)\n",
      "Requirement already satisfied: url-normalize==1.4.3 in ./venv/lib/python3.8/site-packages (from -r requirements.txt (line 13)) (1.4.3)\n",
      "Requirement already satisfied: urllib3==1.26.6 in ./venv/lib/python3.8/site-packages (from -r requirements.txt (line 14)) (1.26.6)\n",
      "Requirement already satisfied: pandas==1.3.3 in ./venv/lib/python3.8/site-packages (from -r requirements.txt (line 15)) (1.3.3)\n",
      "Requirement already satisfied: openpyxl in ./venv/lib/python3.8/site-packages (from -r requirements.txt (line 16)) (3.0.9)\n",
      "Requirement already satisfied: web3 in ./venv/lib/python3.8/site-packages (from -r requirements.txt (line 17)) (5.24.0)\n",
      "Requirement already satisfied: nltk in ./venv/lib/python3.8/site-packages (from -r requirements.txt (line 18)) (3.6.5)\n",
      "Requirement already satisfied: seaborn in ./venv/lib/python3.8/site-packages (from -r requirements.txt (line 19)) (0.11.2)\n",
      "Requirement already satisfied: sklearn in ./venv/lib/python3.8/site-packages (from -r requirements.txt (line 20)) (0.0)\n",
      "Requirement already satisfied: wordcloud in ./venv/lib/python3.8/site-packages (from -r requirements.txt (line 21)) (1.8.1)\n",
      "Requirement already satisfied: torch-geometric in ./venv/lib/python3.8/site-packages (from -r requirements.txt (line 22)) (2.3.1)\n",
      "Requirement already satisfied: torch in ./venv/lib/python3.8/site-packages (from -r requirements.txt (line 23)) (2.0.1)\n",
      "Requirement already satisfied: progressbar in ./venv/lib/python3.8/site-packages (from -r requirements.txt (line 24)) (2.5)\n",
      "Requirement already satisfied: numpy>=1.17.3 in ./venv/lib/python3.8/site-packages (from pandas==1.3.3->-r requirements.txt (line 15)) (1.21.2)\n",
      "Requirement already satisfied: pytz>=2017.3 in ./venv/lib/python3.8/site-packages (from pandas==1.3.3->-r requirements.txt (line 15)) (2021.1)\n",
      "Requirement already satisfied: et-xmlfile in ./venv/lib/python3.8/site-packages (from openpyxl->-r requirements.txt (line 16)) (1.1.0)\n",
      "Requirement already satisfied: eth-typing<3.0.0,>=2.0.0 in ./venv/lib/python3.8/site-packages (from web3->-r requirements.txt (line 17)) (2.2.2)\n",
      "Requirement already satisfied: hexbytes<1.0.0,>=0.1.0 in ./venv/lib/python3.8/site-packages (from web3->-r requirements.txt (line 17)) (0.2.2)\n",
      "Requirement already satisfied: aiohttp<4,>=3.7.4.post0 in ./venv/lib/python3.8/site-packages (from web3->-r requirements.txt (line 17)) (3.7.4.post0)\n",
      "Requirement already satisfied: jsonschema<4.0.0,>=3.2.0 in ./venv/lib/python3.8/site-packages (from web3->-r requirements.txt (line 17)) (3.2.0)\n",
      "Requirement already satisfied: lru-dict<2.0.0,>=1.1.6 in ./venv/lib/python3.8/site-packages (from web3->-r requirements.txt (line 17)) (1.1.7)\n",
      "Requirement already satisfied: protobuf<4,>=3.10.0 in ./venv/lib/python3.8/site-packages (from web3->-r requirements.txt (line 17)) (3.18.0)\n",
      "Requirement already satisfied: eth-abi<3.0.0,>=2.0.0b6 in ./venv/lib/python3.8/site-packages (from web3->-r requirements.txt (line 17)) (2.1.1)\n",
      "Requirement already satisfied: websockets<10,>=9.1 in ./venv/lib/python3.8/site-packages (from web3->-r requirements.txt (line 17)) (9.1)\n",
      "Requirement already satisfied: eth-account<0.6.0,>=0.5.6 in ./venv/lib/python3.8/site-packages (from web3->-r requirements.txt (line 17)) (0.5.6)\n",
      "Requirement already satisfied: eth-utils<2.0.0,>=1.9.5 in ./venv/lib/python3.8/site-packages (from web3->-r requirements.txt (line 17)) (1.10.0)\n",
      "Requirement already satisfied: ipfshttpclient==0.8.0a2 in ./venv/lib/python3.8/site-packages (from web3->-r requirements.txt (line 17)) (0.8.0a2)\n",
      "Requirement already satisfied: eth-hash[pycryptodome]<1.0.0,>=0.2.0 in ./venv/lib/python3.8/site-packages (from web3->-r requirements.txt (line 17)) (0.3.2)\n",
      "Requirement already satisfied: multiaddr>=0.0.7 in ./venv/lib/python3.8/site-packages (from ipfshttpclient==0.8.0a2->web3->-r requirements.txt (line 17)) (0.0.9)\n",
      "Requirement already satisfied: tqdm in ./venv/lib/python3.8/site-packages (from nltk->-r requirements.txt (line 18)) (4.62.3)\n",
      "Requirement already satisfied: click in ./venv/lib/python3.8/site-packages (from nltk->-r requirements.txt (line 18)) (8.0.3)\n",
      "Requirement already satisfied: joblib in ./venv/lib/python3.8/site-packages (from nltk->-r requirements.txt (line 18)) (1.1.0)\n",
      "Requirement already satisfied: regex>=2021.8.3 in ./venv/lib/python3.8/site-packages (from nltk->-r requirements.txt (line 18)) (2021.11.2)\n",
      "Requirement already satisfied: matplotlib>=2.2 in ./venv/lib/python3.8/site-packages (from seaborn->-r requirements.txt (line 19)) (3.4.3)\n",
      "Requirement already satisfied: scipy>=1.0 in ./venv/lib/python3.8/site-packages (from seaborn->-r requirements.txt (line 19)) (1.7.2)\n",
      "Requirement already satisfied: scikit-learn in ./venv/lib/python3.8/site-packages (from sklearn->-r requirements.txt (line 20)) (1.0.1)\n",
      "Requirement already satisfied: pillow in ./venv/lib/python3.8/site-packages (from wordcloud->-r requirements.txt (line 21)) (8.4.0)\n",
      "Requirement already satisfied: pyparsing in ./venv/lib/python3.8/site-packages (from torch-geometric->-r requirements.txt (line 22)) (2.4.7)\n",
      "Requirement already satisfied: psutil>=5.8.0 in ./venv/lib/python3.8/site-packages (from torch-geometric->-r requirements.txt (line 22)) (5.9.5)\n",
      "Requirement already satisfied: jinja2 in ./venv/lib/python3.8/site-packages (from torch-geometric->-r requirements.txt (line 22)) (3.0.1)\n",
      "Requirement already satisfied: networkx in ./venv/lib/python3.8/site-packages (from torch->-r requirements.txt (line 23)) (3.1)\n",
      "Requirement already satisfied: typing-extensions in ./venv/lib/python3.8/site-packages (from torch->-r requirements.txt (line 23)) (3.10.0.2)\n",
      "Requirement already satisfied: sympy in ./venv/lib/python3.8/site-packages (from torch->-r requirements.txt (line 23)) (1.12)\n",
      "Requirement already satisfied: filelock in ./venv/lib/python3.8/site-packages (from torch->-r requirements.txt (line 23)) (3.12.4)\n",
      "Requirement already satisfied: multidict<7.0,>=4.5 in ./venv/lib/python3.8/site-packages (from aiohttp<4,>=3.7.4.post0->web3->-r requirements.txt (line 17)) (5.2.0)\n",
      "Requirement already satisfied: yarl<2.0,>=1.0 in ./venv/lib/python3.8/site-packages (from aiohttp<4,>=3.7.4.post0->web3->-r requirements.txt (line 17)) (1.6.3)\n",
      "Requirement already satisfied: chardet<5.0,>=2.0 in ./venv/lib/python3.8/site-packages (from aiohttp<4,>=3.7.4.post0->web3->-r requirements.txt (line 17)) (4.0.0)\n",
      "Requirement already satisfied: async-timeout<4.0,>=3.0 in ./venv/lib/python3.8/site-packages (from aiohttp<4,>=3.7.4.post0->web3->-r requirements.txt (line 17)) (3.0.1)\n",
      "Requirement already satisfied: parsimonious<0.9.0,>=0.8.0 in ./venv/lib/python3.8/site-packages (from eth-abi<3.0.0,>=2.0.0b6->web3->-r requirements.txt (line 17)) (0.8.1)\n",
      "Requirement already satisfied: eth-keyfile<0.6.0,>=0.5.0 in ./venv/lib/python3.8/site-packages (from eth-account<0.6.0,>=0.5.6->web3->-r requirements.txt (line 17)) (0.5.1)\n",
      "Requirement already satisfied: rlp<3,>=1.0.0 in ./venv/lib/python3.8/site-packages (from eth-account<0.6.0,>=0.5.6->web3->-r requirements.txt (line 17)) (2.0.1)\n",
      "Requirement already satisfied: eth-keys!=0.3.2,<0.4.0,>=0.2.1 in ./venv/lib/python3.8/site-packages (from eth-account<0.6.0,>=0.5.6->web3->-r requirements.txt (line 17)) (0.3.3)\n",
      "Requirement already satisfied: bitarray<1.3.0,>=1.2.1 in ./venv/lib/python3.8/site-packages (from eth-account<0.6.0,>=0.5.6->web3->-r requirements.txt (line 17)) (1.2.2)\n",
      "Requirement already satisfied: eth-rlp<2,>=0.1.2 in ./venv/lib/python3.8/site-packages (from eth-account<0.6.0,>=0.5.6->web3->-r requirements.txt (line 17)) (0.2.1)\n",
      "Requirement already satisfied: pycryptodome<4,>=3.6.6 in ./venv/lib/python3.8/site-packages (from eth-hash[pycryptodome]<1.0.0,>=0.2.0->web3->-r requirements.txt (line 17)) (3.10.4)\n",
      "Requirement already satisfied: cytoolz<1.0.0,>=0.9.0 in ./venv/lib/python3.8/site-packages (from eth-keyfile<0.6.0,>=0.5.0->eth-account<0.6.0,>=0.5.6->web3->-r requirements.txt (line 17)) (0.11.0)\n",
      "Requirement already satisfied: toolz>=0.8.0 in ./venv/lib/python3.8/site-packages (from cytoolz<1.0.0,>=0.9.0->eth-keyfile<0.6.0,>=0.5.0->eth-account<0.6.0,>=0.5.6->web3->-r requirements.txt (line 17)) (0.11.1)\n",
      "Requirement already satisfied: setuptools in ./venv/lib/python3.8/site-packages (from jsonschema<4.0.0,>=3.2.0->web3->-r requirements.txt (line 17)) (57.0.0)\n",
      "Requirement already satisfied: pyrsistent>=0.14.0 in ./venv/lib/python3.8/site-packages (from jsonschema<4.0.0,>=3.2.0->web3->-r requirements.txt (line 17)) (0.18.0)\n",
      "Requirement already satisfied: kiwisolver>=1.0.1 in ./venv/lib/python3.8/site-packages (from matplotlib>=2.2->seaborn->-r requirements.txt (line 19)) (1.3.2)\n",
      "Requirement already satisfied: cycler>=0.10 in ./venv/lib/python3.8/site-packages (from matplotlib>=2.2->seaborn->-r requirements.txt (line 19)) (0.11.0)\n",
      "Requirement already satisfied: netaddr in ./venv/lib/python3.8/site-packages (from multiaddr>=0.0.7->ipfshttpclient==0.8.0a2->web3->-r requirements.txt (line 17)) (0.8.0)\n",
      "Requirement already satisfied: varint in ./venv/lib/python3.8/site-packages (from multiaddr>=0.0.7->ipfshttpclient==0.8.0a2->web3->-r requirements.txt (line 17)) (1.0.2)\n",
      "Requirement already satisfied: base58 in ./venv/lib/python3.8/site-packages (from multiaddr>=0.0.7->ipfshttpclient==0.8.0a2->web3->-r requirements.txt (line 17)) (2.1.0)\n",
      "Requirement already satisfied: MarkupSafe>=2.0 in ./venv/lib/python3.8/site-packages (from jinja2->torch-geometric->-r requirements.txt (line 22)) (2.0.1)\n",
      "Requirement already satisfied: threadpoolctl>=2.0.0 in ./venv/lib/python3.8/site-packages (from scikit-learn->sklearn->-r requirements.txt (line 20)) (3.0.0)\n",
      "Requirement already satisfied: mpmath>=0.19 in ./venv/lib/python3.8/site-packages (from sympy->torch->-r requirements.txt (line 23)) (1.3.0)\n",
      "\u001b[33mWARNING: You are using pip version 21.2.4; however, version 23.2.1 is available.\n",
      "You should consider upgrading via the '/Users/rafael/PycharmProjects/etherscan/venv/bin/python3 -m pip install --upgrade pip' command.\u001b[0m\n"
     ]
    }
   ],
   "source": [
    "!pip install  -r requirements.txt\n",
    "#!pip install git+https://github.com/pcko1/etherscan-python.git\n"
   ]
  },
  {
   "cell_type": "code",
   "execution_count": 18,
   "id": "d85df0e3-8e4e-41ce-b30d-0a53aaf268a4",
   "metadata": {},
   "outputs": [],
   "source": [
    "#pip install progressbar2\n"
   ]
  },
  {
   "cell_type": "code",
   "execution_count": 19,
   "id": "579c81b5-c53d-4bf0-8738-4b312010ee6b",
   "metadata": {},
   "outputs": [
    {
     "name": "stdout",
     "output_type": "stream",
     "text": [
      "progressbar                  2.5\n",
      "progressbar2                 3.53.3\n",
      "\u001b[33mWARNING: You are using pip version 21.2.4; however, version 23.2.1 is available.\n",
      "You should consider upgrading via the '/Users/rafael/PycharmProjects/etherscan/venv/bin/python3 -m pip install --upgrade pip' command.\u001b[0m\n"
     ]
    }
   ],
   "source": [
    "!pip list | grep progressbar\n"
   ]
  },
  {
   "cell_type": "code",
   "execution_count": 20,
   "id": "04e16fa6-331c-4ba4-8f7b-fec85bcf2754",
   "metadata": {},
   "outputs": [
    {
     "name": "stdout",
     "output_type": "stream",
     "text": [
      "/Users/rafael/PycharmProjects/etherscan/venv/bin/python3\n"
     ]
    }
   ],
   "source": [
    "import sys\n",
    "print(sys.executable)\n"
   ]
  },
  {
   "cell_type": "code",
   "execution_count": 4,
   "id": "53ae26d8-6f5e-4a40-93d0-c1fa70c114e9",
   "metadata": {},
   "outputs": [],
   "source": [
    "import warnings\n",
    "warnings.filterwarnings('ignore')"
   ]
  },
  {
   "cell_type": "code",
   "execution_count": 5,
   "id": "9fa37783-a941-40a2-a5d2-59252c5ede6b",
   "metadata": {},
   "outputs": [],
   "source": [
    "import json, requests\n",
    "import argparse\n",
    "import sys\n",
    "import csv\n",
    "import datetime, dateutil.parser\n",
    "\n",
    "# lienar algebra library\n",
    "\n",
    "import pandas as pd\n",
    "import time\n",
    "import re\n",
    "import numpy as np\n",
    "\n",
    "import matplotlib as mpl\n",
    "import matplotlib.pyplot as plt\n",
    "import seaborn as sns\n",
    "import string\n",
    "from sklearn.feature_extraction.text import TfidfVectorizer\n",
    "from sklearn.model_selection import train_test_split\n",
    "from nltk.stem import SnowballStemmer\n",
    "from nltk.corpus import stopwords\n",
    "%matplotlib inline\n",
    "\n"
   ]
  },
  {
   "cell_type": "code",
   "execution_count": 6,
   "id": "ae6699c1-e90a-4343-9c46-81965e5074da",
   "metadata": {},
   "outputs": [
    {
     "name": "stdout",
     "output_type": "stream",
     "text": [
      "\n",
      "Usage:   \n",
      "  pip install [options] <requirement specifier> [package-index-options] ...\n",
      "  pip install [options] -r <requirements file> [package-index-options] ...\n",
      "  pip install [options] [-e] <vcs project url> ...\n",
      "  pip install [options] [-e] <local project path> ...\n",
      "  pip install [options] <archive url/path> ...\n",
      "\n",
      "no such option: --yes\n"
     ]
    }
   ],
   "source": []
  },
  {
   "cell_type": "code",
   "execution_count": 7,
   "id": "f4d8e0b8-ba27-4bab-aff0-555e1060d3f9",
   "metadata": {},
   "outputs": [],
   "source": [
    "import  progressbar\n"
   ]
  },
  {
   "cell_type": "code",
   "execution_count": 8,
   "id": "a3d6ecfb-a697-4d88-bf72-d1a03b468f96",
   "metadata": {},
   "outputs": [],
   "source": [
    "data = pd.read_excel('data_ethereum_ponzi_2018.xlsx', index_col=0)"
   ]
  },
  {
   "cell_type": "code",
   "execution_count": 9,
   "id": "657ca03f-304b-4a18-9190-0476e9a0b0ba",
   "metadata": {},
   "outputs": [
    {
     "data": {
      "text/html": [
       "<div>\n",
       "<style scoped>\n",
       "    .dataframe tbody tr th:only-of-type {\n",
       "        vertical-align: middle;\n",
       "    }\n",
       "\n",
       "    .dataframe tbody tr th {\n",
       "        vertical-align: top;\n",
       "    }\n",
       "\n",
       "    .dataframe thead th {\n",
       "        text-align: right;\n",
       "    }\n",
       "</style>\n",
       "<table border=\"1\" class=\"dataframe\">\n",
       "  <thead>\n",
       "    <tr style=\"text-align: right;\">\n",
       "      <th></th>\n",
       "      <th>Name</th>\n",
       "      <th>Address</th>\n",
       "      <th>In Tx</th>\n",
       "      <th>Out Tx</th>\n",
       "      <th>In ETH</th>\n",
       "      <th>Out ETH</th>\n",
       "      <th>In USD</th>\n",
       "      <th>Out USD</th>\n",
       "      <th>Paying</th>\n",
       "      <th>Paid</th>\n",
       "      <th>Date 1st Tx</th>\n",
       "      <th>Date last Tx</th>\n",
       "      <th>Lifetime</th>\n",
       "      <th>Sources</th>\n",
       "      <th>Type</th>\n",
       "    </tr>\n",
       "    <tr>\n",
       "      <th>Id</th>\n",
       "      <th></th>\n",
       "      <th></th>\n",
       "      <th></th>\n",
       "      <th></th>\n",
       "      <th></th>\n",
       "      <th></th>\n",
       "      <th></th>\n",
       "      <th></th>\n",
       "      <th></th>\n",
       "      <th></th>\n",
       "      <th></th>\n",
       "      <th></th>\n",
       "      <th></th>\n",
       "      <th></th>\n",
       "      <th></th>\n",
       "    </tr>\n",
       "  </thead>\n",
       "  <tbody>\n",
       "    <tr>\n",
       "      <th>1</th>\n",
       "      <td>Government</td>\n",
       "      <td>0xf45717552f12ef7cb65e95476f217ea008167ae3</td>\n",
       "      <td>723.0</td>\n",
       "      <td>846.0</td>\n",
       "      <td>2.938886e+07</td>\n",
       "      <td>2.938886e+07</td>\n",
       "      <td>35.738</td>\n",
       "      <td>$40,066.24</td>\n",
       "      <td>40.0</td>\n",
       "      <td>27.0</td>\n",
       "      <td>2016-03-08</td>\n",
       "      <td>2017-03-20</td>\n",
       "      <td>377.0</td>\n",
       "      <td>NaN</td>\n",
       "      <td>Ponzi</td>\n",
       "    </tr>\n",
       "    <tr>\n",
       "      <th>2</th>\n",
       "      <td>EthereumPyramid</td>\n",
       "      <td>0x7011f3edc7fa43c81440f9f43a6458174113b162</td>\n",
       "      <td>978.0</td>\n",
       "      <td>339.0</td>\n",
       "      <td>9.860812e+09</td>\n",
       "      <td>9.167812e+09</td>\n",
       "      <td>5.044</td>\n",
       "      <td>$5,290.46</td>\n",
       "      <td>327.0</td>\n",
       "      <td>125.0</td>\n",
       "      <td>2015-09-07</td>\n",
       "      <td>2018-04-11</td>\n",
       "      <td>947.0</td>\n",
       "      <td>NaN</td>\n",
       "      <td>Ponzi</td>\n",
       "    </tr>\n",
       "    <tr>\n",
       "      <th>3</th>\n",
       "      <td>ProtectTheCastle2</td>\n",
       "      <td>0x7d56485e026d5d3881f778e99969d2b1f90c50af</td>\n",
       "      <td>890.0</td>\n",
       "      <td>1257.0</td>\n",
       "      <td>1.332225e+08</td>\n",
       "      <td>1.332225e+08</td>\n",
       "      <td>186.04</td>\n",
       "      <td>$190,802.38</td>\n",
       "      <td>101.0</td>\n",
       "      <td>68.0</td>\n",
       "      <td>2016-03-20</td>\n",
       "      <td>2018-02-22</td>\n",
       "      <td>704.0</td>\n",
       "      <td>NaN</td>\n",
       "      <td>Ponzi</td>\n",
       "    </tr>\n",
       "    <tr>\n",
       "      <th>4</th>\n",
       "      <td>TreasureChest</td>\n",
       "      <td>0x4865e85c72a27ca6c362da75ba6707c07464b953</td>\n",
       "      <td>73.0</td>\n",
       "      <td>1197.0</td>\n",
       "      <td>8.755649e+09</td>\n",
       "      <td>8.738955e+09</td>\n",
       "      <td>946</td>\n",
       "      <td>$940.82</td>\n",
       "      <td>16.0</td>\n",
       "      <td>10.0</td>\n",
       "      <td>2016-03-26</td>\n",
       "      <td>2016-04-07</td>\n",
       "      <td>12.0</td>\n",
       "      <td>NaN</td>\n",
       "      <td>Ponzi</td>\n",
       "    </tr>\n",
       "    <tr>\n",
       "      <th>5</th>\n",
       "      <td>ZeroPonzi</td>\n",
       "      <td>0x43bbc7fafb860d974037b8f7dd06b6f6fe799b3e</td>\n",
       "      <td>627.0</td>\n",
       "      <td>499.0</td>\n",
       "      <td>4.489784e+09</td>\n",
       "      <td>4.489177e+09</td>\n",
       "      <td>49.816</td>\n",
       "      <td>$49,770.97</td>\n",
       "      <td>47.0</td>\n",
       "      <td>28.0</td>\n",
       "      <td>2016-04-04</td>\n",
       "      <td>2017-10-27</td>\n",
       "      <td>571.0</td>\n",
       "      <td>NaN</td>\n",
       "      <td>Ponzi</td>\n",
       "    </tr>\n",
       "  </tbody>\n",
       "</table>\n",
       "</div>"
      ],
      "text/plain": [
       "                 Name                                     Address  In Tx  \\\n",
       "Id                                                                         \n",
       "1          Government  0xf45717552f12ef7cb65e95476f217ea008167ae3  723.0   \n",
       "2     EthereumPyramid  0x7011f3edc7fa43c81440f9f43a6458174113b162  978.0   \n",
       "3   ProtectTheCastle2  0x7d56485e026d5d3881f778e99969d2b1f90c50af  890.0   \n",
       "4       TreasureChest  0x4865e85c72a27ca6c362da75ba6707c07464b953   73.0   \n",
       "5           ZeroPonzi  0x43bbc7fafb860d974037b8f7dd06b6f6fe799b3e  627.0   \n",
       "\n",
       "    Out Tx        In ETH       Out ETH  In USD      Out USD  Paying   Paid  \\\n",
       "Id                                                                           \n",
       "1    846.0  2.938886e+07  2.938886e+07  35.738   $40,066.24    40.0   27.0   \n",
       "2    339.0  9.860812e+09  9.167812e+09   5.044    $5,290.46   327.0  125.0   \n",
       "3   1257.0  1.332225e+08  1.332225e+08  186.04  $190,802.38   101.0   68.0   \n",
       "4   1197.0  8.755649e+09  8.738955e+09     946      $940.82    16.0   10.0   \n",
       "5    499.0  4.489784e+09  4.489177e+09  49.816   $49,770.97    47.0   28.0   \n",
       "\n",
       "   Date 1st Tx Date last Tx  Lifetime  Sources   Type  \n",
       "Id                                                     \n",
       "1   2016-03-08   2017-03-20     377.0      NaN  Ponzi  \n",
       "2   2015-09-07   2018-04-11     947.0      NaN  Ponzi  \n",
       "3   2016-03-20   2018-02-22     704.0      NaN  Ponzi  \n",
       "4   2016-03-26   2016-04-07      12.0      NaN  Ponzi  \n",
       "5   2016-04-04   2017-10-27     571.0      NaN  Ponzi  "
      ]
     },
     "execution_count": 9,
     "metadata": {},
     "output_type": "execute_result"
    }
   ],
   "source": [
    "data.head()"
   ]
  },
  {
   "cell_type": "code",
   "execution_count": 10,
   "id": "518b59a4-5b31-4229-8ace-42485210c168",
   "metadata": {},
   "outputs": [
    {
     "data": {
      "text/plain": [
       "(1819, 15)"
      ]
     },
     "execution_count": 10,
     "metadata": {},
     "output_type": "execute_result"
    }
   ],
   "source": [
    "data.shape"
   ]
  },
  {
   "cell_type": "code",
   "execution_count": 11,
   "id": "1494113c-858e-4d09-bcaa-ca10b05ce05b",
   "metadata": {},
   "outputs": [],
   "source": [
    "import requests\n",
    "import re\n",
    "from io import StringIO\n",
    "import pandas as pd\n",
    "import time\n",
    "\n",
    "BASE_URL = \"https://etherscan.io/api?module=opcode&action=getopcode&address=\"\n",
    "headers = {\n",
    "    \"User-Agent\": \"my-app/0.0.1\",\n",
    "    \"Accept\": \"/\",\n",
    "    \"Accept-Encoding\": \"gzip, deflate\",\n",
    "    \"Cookie\": \"__cflb=02DiuFnsSsHWYH8WqVXaqGvd6BSBaXQLURYZCq6LPndsS\",\n",
    "    \"Connection\": \"keep-alive\",\n",
    "    \"cache-control\": \"no-cache\"\n",
    "    } \n",
    "\n",
    "def get_opcodes(address, headers=headers):\n",
    "    #address = str(input(\"Please input an address: \").strip())\n",
    "    url = BASE_URL + address \n",
    "    response = requests.get(url,headers=headers )\n",
    "    time.sleep(1)\n",
    "    json_data = json.loads(response.text)\n",
    "    asis_opcode = json_data['result']\n",
    "    opcodes = clean_opcode(asis_opcode)\n",
    "    return opcodes\n",
    "\n",
    "\n",
    "def clean_opcode(asis_opcode):\n",
    "    opcode = re.sub(r'<br>', ',', asis_opcode , flags=re.IGNORECASE) \n",
    "    opcode = re.sub(r',', '\\n', opcode , flags=re.IGNORECASE) \n",
    "    opcode= opcode.splitlines()\n",
    "    opcode = [line.partition(' ')[0]  for line in opcode ]\n",
    "    opcode = ' '.join(map(str, opcode))\n",
    "    return opcode\n",
    "    \n",
    "#vals =get_opcodes('0x6492904953ed9015d6b37f8063b65c8de105d837')\n",
    "#len(vals)\n",
    "#vals"
   ]
  },
  {
   "cell_type": "code",
   "execution_count": 12,
   "id": "1071aae9-0441-48b3-a52c-f0d12cacef3f",
   "metadata": {},
   "outputs": [],
   "source": [
    "#data_copy=data.copy()"
   ]
  },
  {
   "cell_type": "code",
   "execution_count": 13,
   "id": "13f8a959-29b3-4ff0-b19c-f4ad731c8c28",
   "metadata": {},
   "outputs": [],
   "source": [
    "data[\"opcodes\"] = np.nan"
   ]
  },
  {
   "cell_type": "code",
   "execution_count": 14,
   "id": "6484c68c-cb16-4e68-98d5-a66935976f66",
   "metadata": {},
   "outputs": [],
   "source": [
    "def retrieve_opcodes_to_df(data):\n",
    "    with progressbar.ProgressBar(max_value=len(data.index)) as bar:\n",
    "        for index, row in data.iterrows():\n",
    "            opcode = get_opcodes(row['Address'])\n",
    "            data.loc[index,'opcodes'] = opcode\n",
    "            print(index,  row['Address'], row['Name'] )\n",
    "            bar.update(index)\n",
    "        return data"
   ]
  },
  {
   "cell_type": "code",
   "execution_count": 15,
   "id": "acdd3181-e2da-4f53-a2d2-a7d5e10434d6",
   "metadata": {},
   "outputs": [
    {
     "ename": "TypeError",
     "evalue": "__init__() got an unexpected keyword argument 'max_value'",
     "output_type": "error",
     "traceback": [
      "\u001b[0;31m---------------------------------------------------------------------------\u001b[0m",
      "\u001b[0;31mTypeError\u001b[0m                                 Traceback (most recent call last)",
      "\u001b[0;32m/var/folders/sc/lm2p_pts1dng1bmnr486vw_h0000gn/T/ipykernel_93994/504434091.py\u001b[0m in \u001b[0;36m<module>\u001b[0;34m\u001b[0m\n\u001b[1;32m      3\u001b[0m \u001b[0;31m#    data.loc[index,'opcodes'] = opcode\u001b[0m\u001b[0;34m\u001b[0m\u001b[0;34m\u001b[0m\u001b[0;34m\u001b[0m\u001b[0m\n\u001b[1;32m      4\u001b[0m \u001b[0;31m#    print(index,  row['Address'], row['Name'] )\u001b[0m\u001b[0;34m\u001b[0m\u001b[0;34m\u001b[0m\u001b[0;34m\u001b[0m\u001b[0m\n\u001b[0;32m----> 5\u001b[0;31m \u001b[0mdata\u001b[0m \u001b[0;34m=\u001b[0m \u001b[0mretrieve_opcodes_to_df\u001b[0m\u001b[0;34m(\u001b[0m\u001b[0mdata\u001b[0m\u001b[0;34m)\u001b[0m\u001b[0;34m\u001b[0m\u001b[0;34m\u001b[0m\u001b[0m\n\u001b[0m",
      "\u001b[0;32m/var/folders/sc/lm2p_pts1dng1bmnr486vw_h0000gn/T/ipykernel_93994/2246836041.py\u001b[0m in \u001b[0;36mretrieve_opcodes_to_df\u001b[0;34m(data)\u001b[0m\n\u001b[1;32m      1\u001b[0m \u001b[0;32mdef\u001b[0m \u001b[0mretrieve_opcodes_to_df\u001b[0m\u001b[0;34m(\u001b[0m\u001b[0mdata\u001b[0m\u001b[0;34m)\u001b[0m\u001b[0;34m:\u001b[0m\u001b[0;34m\u001b[0m\u001b[0;34m\u001b[0m\u001b[0m\n\u001b[0;32m----> 2\u001b[0;31m     \u001b[0;32mwith\u001b[0m \u001b[0mprogressbar\u001b[0m\u001b[0;34m.\u001b[0m\u001b[0mProgressBar\u001b[0m\u001b[0;34m(\u001b[0m\u001b[0mmax_value\u001b[0m\u001b[0;34m=\u001b[0m\u001b[0mlen\u001b[0m\u001b[0;34m(\u001b[0m\u001b[0mdata\u001b[0m\u001b[0;34m.\u001b[0m\u001b[0mindex\u001b[0m\u001b[0;34m)\u001b[0m\u001b[0;34m)\u001b[0m \u001b[0;32mas\u001b[0m \u001b[0mbar\u001b[0m\u001b[0;34m:\u001b[0m\u001b[0;34m\u001b[0m\u001b[0;34m\u001b[0m\u001b[0m\n\u001b[0m\u001b[1;32m      3\u001b[0m         \u001b[0;32mfor\u001b[0m \u001b[0mindex\u001b[0m\u001b[0;34m,\u001b[0m \u001b[0mrow\u001b[0m \u001b[0;32min\u001b[0m \u001b[0mdata\u001b[0m\u001b[0;34m.\u001b[0m\u001b[0miterrows\u001b[0m\u001b[0;34m(\u001b[0m\u001b[0;34m)\u001b[0m\u001b[0;34m:\u001b[0m\u001b[0;34m\u001b[0m\u001b[0;34m\u001b[0m\u001b[0m\n\u001b[1;32m      4\u001b[0m             \u001b[0mopcode\u001b[0m \u001b[0;34m=\u001b[0m \u001b[0mget_opcodes\u001b[0m\u001b[0;34m(\u001b[0m\u001b[0mrow\u001b[0m\u001b[0;34m[\u001b[0m\u001b[0;34m'Address'\u001b[0m\u001b[0;34m]\u001b[0m\u001b[0;34m)\u001b[0m\u001b[0;34m\u001b[0m\u001b[0;34m\u001b[0m\u001b[0m\n\u001b[1;32m      5\u001b[0m             \u001b[0mdata\u001b[0m\u001b[0;34m.\u001b[0m\u001b[0mloc\u001b[0m\u001b[0;34m[\u001b[0m\u001b[0mindex\u001b[0m\u001b[0;34m,\u001b[0m\u001b[0;34m'opcodes'\u001b[0m\u001b[0;34m]\u001b[0m \u001b[0;34m=\u001b[0m \u001b[0mopcode\u001b[0m\u001b[0;34m\u001b[0m\u001b[0;34m\u001b[0m\u001b[0m\n",
      "\u001b[0;31mTypeError\u001b[0m: __init__() got an unexpected keyword argument 'max_value'"
     ]
    }
   ],
   "source": [
    "#for index, row in data.iterrows():\n",
    "#    opcode = get_opcodes(row['Address'])\n",
    "#    data.loc[index,'opcodes'] = opcode\n",
    "#    print(index,  row['Address'], row['Name'] )\n",
    "data = retrieve_opcodes_to_df(data)"
   ]
  },
  {
   "cell_type": "code",
   "execution_count": 23,
   "id": "62ead89e-a58a-4001-a803-f89efac6375e",
   "metadata": {},
   "outputs": [
    {
     "data": {
      "text/plain": [
       "Id\n",
       "1      NaN\n",
       "2      NaN\n",
       "3      NaN\n",
       "4      NaN\n",
       "5      NaN\n",
       "        ..\n",
       "1815   NaN\n",
       "1816   NaN\n",
       "1817   NaN\n",
       "1818   NaN\n",
       "1819   NaN\n",
       "Name: opcodes, Length: 1819, dtype: float64"
      ]
     },
     "execution_count": 23,
     "metadata": {},
     "output_type": "execute_result"
    }
   ],
   "source": [
    "data['opcodes']"
   ]
  },
  {
   "cell_type": "code",
   "execution_count": 13,
   "id": "6621114e-74cf-4678-98f5-bdd3b3125f23",
   "metadata": {},
   "outputs": [],
   "source": [
    "data.to_excel(\"ehterumOpcodes_datset.xlsx\")  "
   ]
  },
  {
   "cell_type": "code",
   "execution_count": 22,
   "id": "9f84da7b-425f-4916-a87c-3ce6a2ab1fde",
   "metadata": {},
   "outputs": [
    {
     "data": {
      "text/html": [
       "<div>\n",
       "<style scoped>\n",
       "    .dataframe tbody tr th:only-of-type {\n",
       "        vertical-align: middle;\n",
       "    }\n",
       "\n",
       "    .dataframe tbody tr th {\n",
       "        vertical-align: top;\n",
       "    }\n",
       "\n",
       "    .dataframe thead th {\n",
       "        text-align: right;\n",
       "    }\n",
       "</style>\n",
       "<table border=\"1\" class=\"dataframe\">\n",
       "  <thead>\n",
       "    <tr style=\"text-align: right;\">\n",
       "      <th></th>\n",
       "      <th>Name</th>\n",
       "      <th>Address</th>\n",
       "      <th>In Tx</th>\n",
       "      <th>Out Tx</th>\n",
       "      <th>In ETH</th>\n",
       "      <th>Out ETH</th>\n",
       "      <th>In USD</th>\n",
       "      <th>Out USD</th>\n",
       "      <th>Paying</th>\n",
       "      <th>Paid</th>\n",
       "      <th>Date 1st Tx</th>\n",
       "      <th>Date last Tx</th>\n",
       "      <th>Lifetime</th>\n",
       "      <th>Sources</th>\n",
       "      <th>Type</th>\n",
       "      <th>opcodes</th>\n",
       "    </tr>\n",
       "    <tr>\n",
       "      <th>Id</th>\n",
       "      <th></th>\n",
       "      <th></th>\n",
       "      <th></th>\n",
       "      <th></th>\n",
       "      <th></th>\n",
       "      <th></th>\n",
       "      <th></th>\n",
       "      <th></th>\n",
       "      <th></th>\n",
       "      <th></th>\n",
       "      <th></th>\n",
       "      <th></th>\n",
       "      <th></th>\n",
       "      <th></th>\n",
       "      <th></th>\n",
       "      <th></th>\n",
       "    </tr>\n",
       "  </thead>\n",
       "  <tbody>\n",
       "    <tr>\n",
       "      <th>1</th>\n",
       "      <td>Government</td>\n",
       "      <td>0xf45717552f12ef7cb65e95476f217ea008167ae3</td>\n",
       "      <td>723.0</td>\n",
       "      <td>846.0</td>\n",
       "      <td>2.938886e+07</td>\n",
       "      <td>2.938886e+07</td>\n",
       "      <td>35.738</td>\n",
       "      <td>$40,066.24</td>\n",
       "      <td>40.0</td>\n",
       "      <td>27.0</td>\n",
       "      <td>2016-03-08</td>\n",
       "      <td>2017-03-20</td>\n",
       "      <td>377.0</td>\n",
       "      <td>NaN</td>\n",
       "      <td>Ponzi</td>\n",
       "      <td>NaN</td>\n",
       "    </tr>\n",
       "    <tr>\n",
       "      <th>2</th>\n",
       "      <td>EthereumPyramid</td>\n",
       "      <td>0x7011f3edc7fa43c81440f9f43a6458174113b162</td>\n",
       "      <td>978.0</td>\n",
       "      <td>339.0</td>\n",
       "      <td>9.860812e+09</td>\n",
       "      <td>9.167812e+09</td>\n",
       "      <td>5.044</td>\n",
       "      <td>$5,290.46</td>\n",
       "      <td>327.0</td>\n",
       "      <td>125.0</td>\n",
       "      <td>2015-09-07</td>\n",
       "      <td>2018-04-11</td>\n",
       "      <td>947.0</td>\n",
       "      <td>NaN</td>\n",
       "      <td>Ponzi</td>\n",
       "      <td>NaN</td>\n",
       "    </tr>\n",
       "    <tr>\n",
       "      <th>3</th>\n",
       "      <td>ProtectTheCastle2</td>\n",
       "      <td>0x7d56485e026d5d3881f778e99969d2b1f90c50af</td>\n",
       "      <td>890.0</td>\n",
       "      <td>1257.0</td>\n",
       "      <td>1.332225e+08</td>\n",
       "      <td>1.332225e+08</td>\n",
       "      <td>186.04</td>\n",
       "      <td>$190,802.38</td>\n",
       "      <td>101.0</td>\n",
       "      <td>68.0</td>\n",
       "      <td>2016-03-20</td>\n",
       "      <td>2018-02-22</td>\n",
       "      <td>704.0</td>\n",
       "      <td>NaN</td>\n",
       "      <td>Ponzi</td>\n",
       "      <td>NaN</td>\n",
       "    </tr>\n",
       "    <tr>\n",
       "      <th>4</th>\n",
       "      <td>TreasureChest</td>\n",
       "      <td>0x4865e85c72a27ca6c362da75ba6707c07464b953</td>\n",
       "      <td>73.0</td>\n",
       "      <td>1197.0</td>\n",
       "      <td>8.755649e+09</td>\n",
       "      <td>8.738955e+09</td>\n",
       "      <td>946</td>\n",
       "      <td>$940.82</td>\n",
       "      <td>16.0</td>\n",
       "      <td>10.0</td>\n",
       "      <td>2016-03-26</td>\n",
       "      <td>2016-04-07</td>\n",
       "      <td>12.0</td>\n",
       "      <td>NaN</td>\n",
       "      <td>Ponzi</td>\n",
       "      <td>NaN</td>\n",
       "    </tr>\n",
       "    <tr>\n",
       "      <th>5</th>\n",
       "      <td>ZeroPonzi</td>\n",
       "      <td>0x43bbc7fafb860d974037b8f7dd06b6f6fe799b3e</td>\n",
       "      <td>627.0</td>\n",
       "      <td>499.0</td>\n",
       "      <td>4.489784e+09</td>\n",
       "      <td>4.489177e+09</td>\n",
       "      <td>49.816</td>\n",
       "      <td>$49,770.97</td>\n",
       "      <td>47.0</td>\n",
       "      <td>28.0</td>\n",
       "      <td>2016-04-04</td>\n",
       "      <td>2017-10-27</td>\n",
       "      <td>571.0</td>\n",
       "      <td>NaN</td>\n",
       "      <td>Ponzi</td>\n",
       "      <td>NaN</td>\n",
       "    </tr>\n",
       "  </tbody>\n",
       "</table>\n",
       "</div>"
      ],
      "text/plain": [
       "                 Name                                     Address  In Tx  \\\n",
       "Id                                                                         \n",
       "1          Government  0xf45717552f12ef7cb65e95476f217ea008167ae3  723.0   \n",
       "2     EthereumPyramid  0x7011f3edc7fa43c81440f9f43a6458174113b162  978.0   \n",
       "3   ProtectTheCastle2  0x7d56485e026d5d3881f778e99969d2b1f90c50af  890.0   \n",
       "4       TreasureChest  0x4865e85c72a27ca6c362da75ba6707c07464b953   73.0   \n",
       "5           ZeroPonzi  0x43bbc7fafb860d974037b8f7dd06b6f6fe799b3e  627.0   \n",
       "\n",
       "    Out Tx        In ETH       Out ETH  In USD      Out USD  Paying   Paid  \\\n",
       "Id                                                                           \n",
       "1    846.0  2.938886e+07  2.938886e+07  35.738   $40,066.24    40.0   27.0   \n",
       "2    339.0  9.860812e+09  9.167812e+09   5.044    $5,290.46   327.0  125.0   \n",
       "3   1257.0  1.332225e+08  1.332225e+08  186.04  $190,802.38   101.0   68.0   \n",
       "4   1197.0  8.755649e+09  8.738955e+09     946      $940.82    16.0   10.0   \n",
       "5    499.0  4.489784e+09  4.489177e+09  49.816   $49,770.97    47.0   28.0   \n",
       "\n",
       "   Date 1st Tx Date last Tx  Lifetime  Sources   Type  opcodes  \n",
       "Id                                                              \n",
       "1   2016-03-08   2017-03-20     377.0      NaN  Ponzi      NaN  \n",
       "2   2015-09-07   2018-04-11     947.0      NaN  Ponzi      NaN  \n",
       "3   2016-03-20   2018-02-22     704.0      NaN  Ponzi      NaN  \n",
       "4   2016-03-26   2016-04-07      12.0      NaN  Ponzi      NaN  \n",
       "5   2016-04-04   2017-10-27     571.0      NaN  Ponzi      NaN  "
      ]
     },
     "execution_count": 22,
     "metadata": {},
     "output_type": "execute_result"
    }
   ],
   "source": [
    "data.head()"
   ]
  },
  {
   "cell_type": "code",
   "execution_count": 21,
   "id": "29d09156-0deb-4f84-b6dc-2f27b20e6b4e",
   "metadata": {},
   "outputs": [
    {
     "data": {
      "text/html": [
       "<div>\n",
       "<style scoped>\n",
       "    .dataframe tbody tr th:only-of-type {\n",
       "        vertical-align: middle;\n",
       "    }\n",
       "\n",
       "    .dataframe tbody tr th {\n",
       "        vertical-align: top;\n",
       "    }\n",
       "\n",
       "    .dataframe thead tr th {\n",
       "        text-align: left;\n",
       "    }\n",
       "\n",
       "    .dataframe thead tr:last-of-type th {\n",
       "        text-align: right;\n",
       "    }\n",
       "</style>\n",
       "<table border=\"1\" class=\"dataframe\">\n",
       "  <thead>\n",
       "    <tr>\n",
       "      <th></th>\n",
       "      <th colspan=\"8\" halign=\"left\">In Tx</th>\n",
       "      <th colspan=\"2\" halign=\"left\">Out Tx</th>\n",
       "      <th>...</th>\n",
       "      <th colspan=\"2\" halign=\"left\">Sources</th>\n",
       "      <th colspan=\"8\" halign=\"left\">opcodes</th>\n",
       "    </tr>\n",
       "    <tr>\n",
       "      <th></th>\n",
       "      <th>count</th>\n",
       "      <th>mean</th>\n",
       "      <th>std</th>\n",
       "      <th>min</th>\n",
       "      <th>25%</th>\n",
       "      <th>50%</th>\n",
       "      <th>75%</th>\n",
       "      <th>max</th>\n",
       "      <th>count</th>\n",
       "      <th>mean</th>\n",
       "      <th>...</th>\n",
       "      <th>75%</th>\n",
       "      <th>max</th>\n",
       "      <th>count</th>\n",
       "      <th>mean</th>\n",
       "      <th>std</th>\n",
       "      <th>min</th>\n",
       "      <th>25%</th>\n",
       "      <th>50%</th>\n",
       "      <th>75%</th>\n",
       "      <th>max</th>\n",
       "    </tr>\n",
       "    <tr>\n",
       "      <th>Type</th>\n",
       "      <th></th>\n",
       "      <th></th>\n",
       "      <th></th>\n",
       "      <th></th>\n",
       "      <th></th>\n",
       "      <th></th>\n",
       "      <th></th>\n",
       "      <th></th>\n",
       "      <th></th>\n",
       "      <th></th>\n",
       "      <th></th>\n",
       "      <th></th>\n",
       "      <th></th>\n",
       "      <th></th>\n",
       "      <th></th>\n",
       "      <th></th>\n",
       "      <th></th>\n",
       "      <th></th>\n",
       "      <th></th>\n",
       "      <th></th>\n",
       "      <th></th>\n",
       "    </tr>\n",
       "  </thead>\n",
       "  <tbody>\n",
       "    <tr>\n",
       "      <th>Legal</th>\n",
       "      <td>0.0</td>\n",
       "      <td>NaN</td>\n",
       "      <td>NaN</td>\n",
       "      <td>NaN</td>\n",
       "      <td>NaN</td>\n",
       "      <td>NaN</td>\n",
       "      <td>NaN</td>\n",
       "      <td>NaN</td>\n",
       "      <td>0.0</td>\n",
       "      <td>NaN</td>\n",
       "      <td>...</td>\n",
       "      <td>NaN</td>\n",
       "      <td>NaN</td>\n",
       "      <td>0.0</td>\n",
       "      <td>NaN</td>\n",
       "      <td>NaN</td>\n",
       "      <td>NaN</td>\n",
       "      <td>NaN</td>\n",
       "      <td>NaN</td>\n",
       "      <td>NaN</td>\n",
       "      <td>NaN</td>\n",
       "    </tr>\n",
       "    <tr>\n",
       "      <th>Ponzi</th>\n",
       "      <td>184.0</td>\n",
       "      <td>99.429348</td>\n",
       "      <td>174.568681</td>\n",
       "      <td>1.0</td>\n",
       "      <td>4.0</td>\n",
       "      <td>14.0</td>\n",
       "      <td>110.25</td>\n",
       "      <td>978.0</td>\n",
       "      <td>184.0</td>\n",
       "      <td>49.456522</td>\n",
       "      <td>...</td>\n",
       "      <td>NaN</td>\n",
       "      <td>NaN</td>\n",
       "      <td>0.0</td>\n",
       "      <td>NaN</td>\n",
       "      <td>NaN</td>\n",
       "      <td>NaN</td>\n",
       "      <td>NaN</td>\n",
       "      <td>NaN</td>\n",
       "      <td>NaN</td>\n",
       "      <td>NaN</td>\n",
       "    </tr>\n",
       "  </tbody>\n",
       "</table>\n",
       "<p>2 rows × 72 columns</p>\n",
       "</div>"
      ],
      "text/plain": [
       "       In Tx                                                       Out Tx  \\\n",
       "       count       mean         std  min  25%   50%     75%    max  count   \n",
       "Type                                                                        \n",
       "Legal    0.0        NaN         NaN  NaN  NaN   NaN     NaN    NaN    0.0   \n",
       "Ponzi  184.0  99.429348  174.568681  1.0  4.0  14.0  110.25  978.0  184.0   \n",
       "\n",
       "                  ... Sources     opcodes                               \n",
       "            mean  ...     75% max   count mean std min 25% 50% 75% max  \n",
       "Type              ...                                                   \n",
       "Legal        NaN  ...     NaN NaN     0.0  NaN NaN NaN NaN NaN NaN NaN  \n",
       "Ponzi  49.456522  ...     NaN NaN     0.0  NaN NaN NaN NaN NaN NaN NaN  \n",
       "\n",
       "[2 rows x 72 columns]"
      ]
     },
     "execution_count": 21,
     "metadata": {},
     "output_type": "execute_result"
    }
   ],
   "source": [
    "data.groupby('Type').describe()"
   ]
  },
  {
   "cell_type": "code",
   "execution_count": 19,
   "id": "6e68933e-268d-4317-966c-760fec2418a7",
   "metadata": {},
   "outputs": [],
   "source": [
    "data_filtered = pd.concat([data['Type'], data['opcodes']], axis=1)"
   ]
  },
  {
   "cell_type": "code",
   "execution_count": 20,
   "id": "86abe706-cb69-4481-baac-e3f6cb7fecc8",
   "metadata": {},
   "outputs": [
    {
     "data": {
      "text/html": [
       "<div>\n",
       "<style scoped>\n",
       "    .dataframe tbody tr th:only-of-type {\n",
       "        vertical-align: middle;\n",
       "    }\n",
       "\n",
       "    .dataframe tbody tr th {\n",
       "        vertical-align: top;\n",
       "    }\n",
       "\n",
       "    .dataframe thead th {\n",
       "        text-align: right;\n",
       "    }\n",
       "</style>\n",
       "<table border=\"1\" class=\"dataframe\">\n",
       "  <thead>\n",
       "    <tr style=\"text-align: right;\">\n",
       "      <th></th>\n",
       "      <th>Type</th>\n",
       "      <th>opcodes</th>\n",
       "    </tr>\n",
       "    <tr>\n",
       "      <th>Id</th>\n",
       "      <th></th>\n",
       "      <th></th>\n",
       "    </tr>\n",
       "  </thead>\n",
       "  <tbody>\n",
       "    <tr>\n",
       "      <th>1</th>\n",
       "      <td>Ponzi</td>\n",
       "      <td>NaN</td>\n",
       "    </tr>\n",
       "    <tr>\n",
       "      <th>2</th>\n",
       "      <td>Ponzi</td>\n",
       "      <td>NaN</td>\n",
       "    </tr>\n",
       "    <tr>\n",
       "      <th>3</th>\n",
       "      <td>Ponzi</td>\n",
       "      <td>NaN</td>\n",
       "    </tr>\n",
       "    <tr>\n",
       "      <th>4</th>\n",
       "      <td>Ponzi</td>\n",
       "      <td>NaN</td>\n",
       "    </tr>\n",
       "    <tr>\n",
       "      <th>5</th>\n",
       "      <td>Ponzi</td>\n",
       "      <td>NaN</td>\n",
       "    </tr>\n",
       "  </tbody>\n",
       "</table>\n",
       "</div>"
      ],
      "text/plain": [
       "     Type  opcodes\n",
       "Id                \n",
       "1   Ponzi      NaN\n",
       "2   Ponzi      NaN\n",
       "3   Ponzi      NaN\n",
       "4   Ponzi      NaN\n",
       "5   Ponzi      NaN"
      ]
     },
     "execution_count": 20,
     "metadata": {},
     "output_type": "execute_result"
    }
   ],
   "source": [
    "data_filtered.head()"
   ]
  },
  {
   "cell_type": "code",
   "execution_count": 18,
   "id": "9dd0e294-cf4f-4b59-8c88-3f3a2330d237",
   "metadata": {},
   "outputs": [
    {
     "data": {
      "text/html": [
       "<div>\n",
       "<style scoped>\n",
       "    .dataframe tbody tr th:only-of-type {\n",
       "        vertical-align: middle;\n",
       "    }\n",
       "\n",
       "    .dataframe tbody tr th {\n",
       "        vertical-align: top;\n",
       "    }\n",
       "\n",
       "    .dataframe thead tr th {\n",
       "        text-align: left;\n",
       "    }\n",
       "\n",
       "    .dataframe thead tr:last-of-type th {\n",
       "        text-align: right;\n",
       "    }\n",
       "</style>\n",
       "<table border=\"1\" class=\"dataframe\">\n",
       "  <thead>\n",
       "    <tr>\n",
       "      <th></th>\n",
       "      <th colspan=\"4\" halign=\"left\">opcodes</th>\n",
       "    </tr>\n",
       "    <tr>\n",
       "      <th></th>\n",
       "      <th>count</th>\n",
       "      <th>unique</th>\n",
       "      <th>top</th>\n",
       "      <th>freq</th>\n",
       "    </tr>\n",
       "    <tr>\n",
       "      <th>Type</th>\n",
       "      <th></th>\n",
       "      <th></th>\n",
       "      <th></th>\n",
       "      <th></th>\n",
       "    </tr>\n",
       "  </thead>\n",
       "  <tbody>\n",
       "    <tr>\n",
       "      <th>Legal</th>\n",
       "      <td>1635</td>\n",
       "      <td>1203</td>\n",
       "      <td>PUSH1 PUSH1 MSTORE PUSH1 DUP1 REVERT STOP</td>\n",
       "      <td>86</td>\n",
       "    </tr>\n",
       "    <tr>\n",
       "      <th>Ponzi</th>\n",
       "      <td>184</td>\n",
       "      <td>147</td>\n",
       "      <td>PUSH1 PUSH1 MSTORE CALLDATASIZE ISZERO PUSH2 J...</td>\n",
       "      <td>5</td>\n",
       "    </tr>\n",
       "  </tbody>\n",
       "</table>\n",
       "</div>"
      ],
      "text/plain": [
       "      opcodes                                                               \n",
       "        count unique                                                top freq\n",
       "Type                                                                        \n",
       "Legal    1635   1203          PUSH1 PUSH1 MSTORE PUSH1 DUP1 REVERT STOP   86\n",
       "Ponzi     184    147  PUSH1 PUSH1 MSTORE CALLDATASIZE ISZERO PUSH2 J...    5"
      ]
     },
     "execution_count": 18,
     "metadata": {},
     "output_type": "execute_result"
    }
   ],
   "source": [
    "data_filtered.groupby('Type').describe()"
   ]
  },
  {
   "cell_type": "code",
   "execution_count": 19,
   "id": "9bf4a1c2-c0e0-4b9f-99e0-6f995641b611",
   "metadata": {},
   "outputs": [],
   "source": [
    "#data_filtered.shape()"
   ]
  },
  {
   "cell_type": "code",
   "execution_count": 20,
   "id": "d0544fe3-d1c9-48a2-a1c9-66ad1615a230",
   "metadata": {},
   "outputs": [
    {
     "data": {
      "text/html": [
       "<div>\n",
       "<style scoped>\n",
       "    .dataframe tbody tr th:only-of-type {\n",
       "        vertical-align: middle;\n",
       "    }\n",
       "\n",
       "    .dataframe tbody tr th {\n",
       "        vertical-align: top;\n",
       "    }\n",
       "\n",
       "    .dataframe thead th {\n",
       "        text-align: right;\n",
       "    }\n",
       "</style>\n",
       "<table border=\"1\" class=\"dataframe\">\n",
       "  <thead>\n",
       "    <tr style=\"text-align: right;\">\n",
       "      <th></th>\n",
       "      <th>Type</th>\n",
       "      <th>opcodes</th>\n",
       "      <th>length</th>\n",
       "    </tr>\n",
       "    <tr>\n",
       "      <th>Id</th>\n",
       "      <th></th>\n",
       "      <th></th>\n",
       "      <th></th>\n",
       "    </tr>\n",
       "  </thead>\n",
       "  <tbody>\n",
       "    <tr>\n",
       "      <th>1</th>\n",
       "      <td>Ponzi</td>\n",
       "      <td>PUSH1 PUSH1 MSTORE CALLDATASIZE ISZERO PUSH2 J...</td>\n",
       "      <td>9454</td>\n",
       "    </tr>\n",
       "    <tr>\n",
       "      <th>2</th>\n",
       "      <td>Ponzi</td>\n",
       "      <td>PUSH1 PUSH1 MSTORE CALLDATASIZE ISZERO PUSH2 J...</td>\n",
       "      <td>10857</td>\n",
       "    </tr>\n",
       "    <tr>\n",
       "      <th>3</th>\n",
       "      <td>Ponzi</td>\n",
       "      <td>PUSH1 PUSH1 MSTORE CALLDATASIZE ISZERO PUSH2 J...</td>\n",
       "      <td>9441</td>\n",
       "    </tr>\n",
       "    <tr>\n",
       "      <th>4</th>\n",
       "      <td>Ponzi</td>\n",
       "      <td>PUSH1 PUSH1 MSTORE CALLDATASIZE ISZERO PUSH2 J...</td>\n",
       "      <td>6189</td>\n",
       "    </tr>\n",
       "    <tr>\n",
       "      <th>5</th>\n",
       "      <td>Ponzi</td>\n",
       "      <td>PUSH1 PUSH1 MSTORE CALLDATASIZE ISZERO PUSH2 J...</td>\n",
       "      <td>2859</td>\n",
       "    </tr>\n",
       "  </tbody>\n",
       "</table>\n",
       "</div>"
      ],
      "text/plain": [
       "     Type                                            opcodes  length\n",
       "Id                                                                  \n",
       "1   Ponzi  PUSH1 PUSH1 MSTORE CALLDATASIZE ISZERO PUSH2 J...    9454\n",
       "2   Ponzi  PUSH1 PUSH1 MSTORE CALLDATASIZE ISZERO PUSH2 J...   10857\n",
       "3   Ponzi  PUSH1 PUSH1 MSTORE CALLDATASIZE ISZERO PUSH2 J...    9441\n",
       "4   Ponzi  PUSH1 PUSH1 MSTORE CALLDATASIZE ISZERO PUSH2 J...    6189\n",
       "5   Ponzi  PUSH1 PUSH1 MSTORE CALLDATASIZE ISZERO PUSH2 J...    2859"
      ]
     },
     "execution_count": 20,
     "metadata": {},
     "output_type": "execute_result"
    }
   ],
   "source": [
    "data_filtered['length'] = data_filtered['opcodes'].apply(len)\n",
    "data_filtered.head()"
   ]
  },
  {
   "cell_type": "code",
   "execution_count": null,
   "id": "0cad233f-4cfb-4041-bfc0-2c4be72135e7",
   "metadata": {},
   "outputs": [],
   "source": []
  },
  {
   "cell_type": "code",
   "execution_count": 21,
   "id": "6b8e44e3-493d-4d0e-8327-a035a569c2c7",
   "metadata": {},
   "outputs": [
    {
     "name": "stderr",
     "output_type": "stream",
     "text": [
      "/var/folders/sc/lm2p_pts1dng1bmnr486vw_h0000gn/T/ipykernel_76523/3133123295.py:2: MatplotlibDeprecationWarning: The seaborn styles shipped by Matplotlib are deprecated since 3.6, as they no longer correspond to the styles shipped by seaborn. However, they will remain available as 'seaborn-v0_8-<style>'. Alternatively, directly use the seaborn API instead.\n",
      "  plt.style.use('seaborn-bright')\n"
     ]
    },
    {
     "data": {
      "text/plain": [
       "array([<Axes: title={'center': 'Legal'}>,\n",
       "       <Axes: title={'center': 'Ponzi'}>], dtype=object)"
      ]
     },
     "execution_count": 21,
     "metadata": {},
     "output_type": "execute_result"
    },
    {
     "data": {
      "image/png": "[encoded data removed]",
      "text/plain": [
       "<Figure size 1100x500 with 2 Axes>"
      ]
     },
     "metadata": {},
     "output_type": "display_data"
    }
   ],
   "source": [
    "mpl.rcParams['patch.force_edgecolor'] = True\n",
    "plt.style.use('seaborn-bright')\n",
    "data_filtered.hist(column='length', by='Type', bins=50,figsize=(11,5))"
   ]
  },
  {
   "cell_type": "code",
   "execution_count": 22,
   "id": "e7367423-87e0-4209-9be2-1d3481a4100f",
   "metadata": {},
   "outputs": [],
   "source": [
    "#Procesamiento de texto y vectorización de sus mensajes"
   ]
  },
  {
   "cell_type": "code",
   "execution_count": 23,
   "id": "770af434-d30e-4a29-8f26-ebcf6b6add6e",
   "metadata": {},
   "outputs": [],
   "source": [
    "#Creemos un nuevo dataframe. Necesitaremos una copia más tarde"
   ]
  },
  {
   "cell_type": "code",
   "execution_count": 2,
   "id": "c0ce5756-b6d5-43a8-939a-31105480d4e3",
   "metadata": {},
   "outputs": [],
   "source": [
    "#text_feat = data_filtered['opcodes'].copy()\n",
    "import pandas as pd\n",
    "\n",
    "data_path = \"ehterumOpcodes_datset.xlsx\"  # Replace with the path to your spreadsheet\n",
    "data = pd.read_excel(data_path, engine='openpyxl')\n",
    "# Check if the 'opcodes' column is present\n",
    "if 'opcodes' in data.columns:\n",
    "    text_feat = data['opcodes'].copy()\n",
    "else:\n",
    "    print(\"The column 'opcodes' doesn't exist in the provided spreadsheet.\")"
   ]
  },
  {
   "cell_type": "code",
   "execution_count": 3,
   "id": "50d6ffae-d2c8-4a17-addc-1ab3968b171a",
   "metadata": {},
   "outputs": [],
   "source": [
    "#Ahora defina nuestra función de precesión de texto. También eliminará los signos de puntuación y las palabras vacías."
   ]
  },
  {
   "cell_type": "code",
   "execution_count": 4,
   "id": "5cdca03f-56a7-4d22-b6e6-e5d3ed7c600d",
   "metadata": {},
   "outputs": [],
   "source": [
    "def text_process(text):\n",
    "    \n",
    "    text = text.translate(str.maketrans('', '', string.punctuation))\n",
    "    #text = [word for word in text.split() if word.lower() not in stopwords.words('english')]\n",
    "    #TODO:implement stopwords list for some special cases\n",
    "    text = [word for word in text.split()]\n",
    "    return \" \".join(text)"
   ]
  },
  {
   "cell_type": "code",
   "execution_count": 5,
   "id": "56f9eb8a-3107-449f-a300-75e10240e36f",
   "metadata": {},
   "outputs": [
    {
     "ename": "NameError",
     "evalue": "name 'string' is not defined",
     "output_type": "error",
     "traceback": [
      "\u001b[0;31m---------------------------------------------------------------------------\u001b[0m",
      "\u001b[0;31mNameError\u001b[0m                                 Traceback (most recent call last)",
      "\u001b[0;32m/var/folders/sc/lm2p_pts1dng1bmnr486vw_h0000gn/T/ipykernel_44100/1159502214.py\u001b[0m in \u001b[0;36m<module>\u001b[0;34m\u001b[0m\n\u001b[0;32m----> 1\u001b[0;31m \u001b[0mtext_feat\u001b[0m \u001b[0;34m=\u001b[0m \u001b[0mtext_feat\u001b[0m\u001b[0;34m.\u001b[0m\u001b[0mapply\u001b[0m\u001b[0;34m(\u001b[0m\u001b[0mtext_process\u001b[0m\u001b[0;34m)\u001b[0m\u001b[0;34m\u001b[0m\u001b[0;34m\u001b[0m\u001b[0m\n\u001b[0m",
      "\u001b[0;32m~/PycharmProjects/etherscan/venv/lib/python3.8/site-packages/pandas/core/series.py\u001b[0m in \u001b[0;36mapply\u001b[0;34m(self, func, convert_dtype, args, **kwargs)\u001b[0m\n\u001b[1;32m   4355\u001b[0m         \u001b[0mdtype\u001b[0m\u001b[0;34m:\u001b[0m \u001b[0mfloat64\u001b[0m\u001b[0;34m\u001b[0m\u001b[0;34m\u001b[0m\u001b[0m\n\u001b[1;32m   4356\u001b[0m         \"\"\"\n\u001b[0;32m-> 4357\u001b[0;31m         \u001b[0;32mreturn\u001b[0m \u001b[0mSeriesApply\u001b[0m\u001b[0;34m(\u001b[0m\u001b[0mself\u001b[0m\u001b[0;34m,\u001b[0m \u001b[0mfunc\u001b[0m\u001b[0;34m,\u001b[0m \u001b[0mconvert_dtype\u001b[0m\u001b[0;34m,\u001b[0m \u001b[0margs\u001b[0m\u001b[0;34m,\u001b[0m \u001b[0mkwargs\u001b[0m\u001b[0;34m)\u001b[0m\u001b[0;34m.\u001b[0m\u001b[0mapply\u001b[0m\u001b[0;34m(\u001b[0m\u001b[0;34m)\u001b[0m\u001b[0;34m\u001b[0m\u001b[0;34m\u001b[0m\u001b[0m\n\u001b[0m\u001b[1;32m   4358\u001b[0m \u001b[0;34m\u001b[0m\u001b[0m\n\u001b[1;32m   4359\u001b[0m     def _reduce(\n",
      "\u001b[0;32m~/PycharmProjects/etherscan/venv/lib/python3.8/site-packages/pandas/core/apply.py\u001b[0m in \u001b[0;36mapply\u001b[0;34m(self)\u001b[0m\n\u001b[1;32m   1041\u001b[0m             \u001b[0;32mreturn\u001b[0m \u001b[0mself\u001b[0m\u001b[0;34m.\u001b[0m\u001b[0mapply_str\u001b[0m\u001b[0;34m(\u001b[0m\u001b[0;34m)\u001b[0m\u001b[0;34m\u001b[0m\u001b[0;34m\u001b[0m\u001b[0m\n\u001b[1;32m   1042\u001b[0m \u001b[0;34m\u001b[0m\u001b[0m\n\u001b[0;32m-> 1043\u001b[0;31m         \u001b[0;32mreturn\u001b[0m \u001b[0mself\u001b[0m\u001b[0;34m.\u001b[0m\u001b[0mapply_standard\u001b[0m\u001b[0;34m(\u001b[0m\u001b[0;34m)\u001b[0m\u001b[0;34m\u001b[0m\u001b[0;34m\u001b[0m\u001b[0m\n\u001b[0m\u001b[1;32m   1044\u001b[0m \u001b[0;34m\u001b[0m\u001b[0m\n\u001b[1;32m   1045\u001b[0m     \u001b[0;32mdef\u001b[0m \u001b[0magg\u001b[0m\u001b[0;34m(\u001b[0m\u001b[0mself\u001b[0m\u001b[0;34m)\u001b[0m\u001b[0;34m:\u001b[0m\u001b[0;34m\u001b[0m\u001b[0;34m\u001b[0m\u001b[0m\n",
      "\u001b[0;32m~/PycharmProjects/etherscan/venv/lib/python3.8/site-packages/pandas/core/apply.py\u001b[0m in \u001b[0;36mapply_standard\u001b[0;34m(self)\u001b[0m\n\u001b[1;32m   1097\u001b[0m                 \u001b[0;31m# List[Union[Callable[..., Any], str]]]]]\"; expected\u001b[0m\u001b[0;34m\u001b[0m\u001b[0;34m\u001b[0m\u001b[0;34m\u001b[0m\u001b[0m\n\u001b[1;32m   1098\u001b[0m                 \u001b[0;31m# \"Callable[[Any], Any]\"\u001b[0m\u001b[0;34m\u001b[0m\u001b[0;34m\u001b[0m\u001b[0;34m\u001b[0m\u001b[0m\n\u001b[0;32m-> 1099\u001b[0;31m                 mapped = lib.map_infer(\n\u001b[0m\u001b[1;32m   1100\u001b[0m                     \u001b[0mvalues\u001b[0m\u001b[0;34m,\u001b[0m\u001b[0;34m\u001b[0m\u001b[0;34m\u001b[0m\u001b[0m\n\u001b[1;32m   1101\u001b[0m                     \u001b[0mf\u001b[0m\u001b[0;34m,\u001b[0m  \u001b[0;31m# type: ignore[arg-type]\u001b[0m\u001b[0;34m\u001b[0m\u001b[0;34m\u001b[0m\u001b[0m\n",
      "\u001b[0;32m~/PycharmProjects/etherscan/venv/lib/python3.8/site-packages/pandas/_libs/lib.pyx\u001b[0m in \u001b[0;36mpandas._libs.lib.map_infer\u001b[0;34m()\u001b[0m\n",
      "\u001b[0;32m/var/folders/sc/lm2p_pts1dng1bmnr486vw_h0000gn/T/ipykernel_44100/112921458.py\u001b[0m in \u001b[0;36mtext_process\u001b[0;34m(text)\u001b[0m\n\u001b[1;32m      1\u001b[0m \u001b[0;32mdef\u001b[0m \u001b[0mtext_process\u001b[0m\u001b[0;34m(\u001b[0m\u001b[0mtext\u001b[0m\u001b[0;34m)\u001b[0m\u001b[0;34m:\u001b[0m\u001b[0;34m\u001b[0m\u001b[0;34m\u001b[0m\u001b[0m\n\u001b[1;32m      2\u001b[0m \u001b[0;34m\u001b[0m\u001b[0m\n\u001b[0;32m----> 3\u001b[0;31m     \u001b[0mtext\u001b[0m \u001b[0;34m=\u001b[0m \u001b[0mtext\u001b[0m\u001b[0;34m.\u001b[0m\u001b[0mtranslate\u001b[0m\u001b[0;34m(\u001b[0m\u001b[0mstr\u001b[0m\u001b[0;34m.\u001b[0m\u001b[0mmaketrans\u001b[0m\u001b[0;34m(\u001b[0m\u001b[0;34m''\u001b[0m\u001b[0;34m,\u001b[0m \u001b[0;34m''\u001b[0m\u001b[0;34m,\u001b[0m \u001b[0mstring\u001b[0m\u001b[0;34m.\u001b[0m\u001b[0mpunctuation\u001b[0m\u001b[0;34m)\u001b[0m\u001b[0;34m)\u001b[0m\u001b[0;34m\u001b[0m\u001b[0;34m\u001b[0m\u001b[0m\n\u001b[0m\u001b[1;32m      4\u001b[0m     \u001b[0;31m#text = [word for word in text.split() if word.lower() not in stopwords.words('english')]\u001b[0m\u001b[0;34m\u001b[0m\u001b[0;34m\u001b[0m\u001b[0;34m\u001b[0m\u001b[0m\n\u001b[1;32m      5\u001b[0m     \u001b[0;31m#TODO:implement stopwords list for some special cases\u001b[0m\u001b[0;34m\u001b[0m\u001b[0;34m\u001b[0m\u001b[0;34m\u001b[0m\u001b[0m\n",
      "\u001b[0;31mNameError\u001b[0m: name 'string' is not defined"
     ]
    }
   ],
   "source": [
    "text_feat = text_feat.apply(text_process)"
   ]
  },
  {
   "cell_type": "code",
   "execution_count": 28,
   "id": "0dc6f1bc-297b-4be8-b7ff-2351dd1f5738",
   "metadata": {},
   "outputs": [],
   "source": [
    "# TODO: rollback\n",
    "vectorizer = TfidfVectorizer()\n",
    "#using ngrams to vectorize\n",
    "#vectorizer_ngram = TfidfVectorizer(tokenizer=str.split, ngram_range=(1, 3))\n",
    "#ngram_tfidf_matrix = vectorizer_ngram.fit_transform(data_filtered['opcodes'])\n"
   ]
  },
  {
   "cell_type": "code",
   "execution_count": null,
   "id": "cf680485-3674-4e74-ad36-47dcbb13d0c5",
   "metadata": {},
   "outputs": [],
   "source": []
  },
  {
   "cell_type": "code",
   "execution_count": null,
   "id": "c42907d5-a54b-4154-ade9-181b23e38173",
   "metadata": {},
   "outputs": [],
   "source": []
  },
  {
   "cell_type": "code",
   "execution_count": 29,
   "id": "a214103e-403e-4cb4-8275-05a21b354b85",
   "metadata": {},
   "outputs": [],
   "source": [
    "features = vectorizer.fit_transform(text_feat)"
   ]
  },
  {
   "cell_type": "raw",
   "id": "3cc4cc8b-23ac-4ba4-bbc8-c68c95ee4fd0",
   "metadata": {},
   "source": [
    "En primer lugar, dividamos nuestras funciones para probar y entrenar el conjunto "
   ]
  },
  {
   "cell_type": "code",
   "execution_count": 30,
   "id": "0945ef2a-3d84-4c38-ab16-6e94d6f0ae02",
   "metadata": {},
   "outputs": [],
   "source": [
    "features_train, features_test, labels_train, labels_test = train_test_split(features, data['Type'], test_size=0.3, random_state=111, stratify=data['Type'])\n",
    "#features_train, features_test, labels_train, labels_test = train_test_split(features, data['Type'], test_size=0.3, random_state=111, )\n"
   ]
  },
  {
   "cell_type": "raw",
   "id": "c469759a-e70d-4343-89d9-eb0397cd8d58",
   "metadata": {},
   "source": [
    "Ahora importemos un montón de clasificadores, inicialícelos y creemos un diccionario para iterar"
   ]
  },
  {
   "cell_type": "code",
   "execution_count": 31,
   "id": "db9e5d7f-6e44-4de7-9313-3a480c5a0bc8",
   "metadata": {},
   "outputs": [],
   "source": [
    "from sklearn.linear_model import LogisticRegression\n",
    "from sklearn.svm import SVC\n",
    "from sklearn.naive_bayes import MultinomialNB\n",
    "from sklearn.tree import DecisionTreeClassifier\n",
    "from sklearn.neighbors import KNeighborsClassifier\n",
    "from sklearn.ensemble import RandomForestClassifier\n",
    "from sklearn.ensemble import AdaBoostClassifier\n",
    "from sklearn.ensemble import BaggingClassifier\n",
    "from sklearn.ensemble import ExtraTreesClassifier\n",
    "from sklearn.metrics import accuracy_score\n",
    "from sklearn.metrics.pairwise import cosine_similarity\n"
   ]
  },
  {
   "cell_type": "code",
   "execution_count": 32,
   "id": "d8a053a3-6b5f-4415-a94b-6085a6be4200",
   "metadata": {},
   "outputs": [],
   "source": [
    "#TAREAS\n",
    "# validar mas metaparametros, por overfitting\n",
    "# probar f1 accuracy puede ser engañoso para datos desbalanceados\n",
    "# validar para negativos (especificidad??)\n",
    "# verificar que si corresponda segun el ordern de datos\n",
    "# revisar si IT-IDF realmente esta identificando las palabras clave, es por ello que tenemos tanto overfitting?\n",
    "# validar si hay error en el codigo??\n",
    "# hacer una grid refinando el experimento\n",
    "# validar / cambiar hiper parametros y evaluar cambios para proceso experimental\n",
    "svc = SVC(kernel='sigmoid', gamma=1.0)\n",
    "knc = KNeighborsClassifier(n_neighbors=49)\n",
    "mnb = MultinomialNB(alpha=0.2)\n",
    "dtc = DecisionTreeClassifier(min_samples_split=7, random_state=111)\n",
    "lrc = LogisticRegression(solver='liblinear', penalty='l1')\n",
    "rfc = RandomForestClassifier(n_estimators=31, random_state=111)\n",
    "abc = AdaBoostClassifier(n_estimators=62, random_state=111)\n",
    "bc = BaggingClassifier(n_estimators=9, random_state=111)\n",
    "etc = ExtraTreesClassifier(n_estimators=9, random_state=111)"
   ]
  },
  {
   "cell_type": "code",
   "execution_count": 33,
   "id": "cc4339d7-bd41-468a-945e-0df2fec54e00",
   "metadata": {},
   "outputs": [],
   "source": [
    "clfs = {'SVC' : svc,'KN' : knc, 'NB': mnb, 'DT': dtc, 'LR': lrc, 'RF': rfc, 'AdaBoost': abc, 'BgC': bc, 'ETC': etc}\n"
   ]
  },
  {
   "cell_type": "raw",
   "id": "3d32bbe5-7186-4510-81d5-43b4d5fa3e03",
   "metadata": {},
   "source": [
    "Hagamos funciones que se ajusten a nuestros clasificadores y hagamos predicciones\n"
   ]
  },
  {
   "cell_type": "code",
   "execution_count": 34,
   "id": "81b5ae77-a434-4957-91c6-17ace34d5daf",
   "metadata": {},
   "outputs": [],
   "source": [
    "def train_classifier(clf, feature_train, labels_train):    \n",
    "    clf.fit(feature_train, labels_train)\n"
   ]
  },
  {
   "cell_type": "code",
   "execution_count": 35,
   "id": "b391ff3d-6ebc-4c76-a3a0-4f5d731f65dd",
   "metadata": {},
   "outputs": [],
   "source": [
    "def predict_labels(clf, features):\n",
    "    return (clf.predict(features))"
   ]
  },
  {
   "cell_type": "raw",
   "id": "97ca524f-72af-4374-bded-6a6fa0755cbb",
   "metadata": {},
   "source": [
    "Ahora repita los clasificadores y guarde los resultados."
   ]
  },
  {
   "cell_type": "code",
   "execution_count": 37,
   "id": "27d37ab5-aac2-42fd-b7a7-6921625bf790",
   "metadata": {},
   "outputs": [],
   "source": [
    "\n",
    "#introduce senoid \n",
    "\n",
    "from sklearn.metrics.pairwise import cosine_similarity\n",
    "\n",
    "# Compute the centroid vector for each class in the training data\n",
    "class_centroids = {}\n",
    "unique_labels = np.unique(labels_train)\n",
    "for label in unique_labels:\n",
    "    centroid = features_train[labels_train == label].mean(axis=0)\n",
    "    # Convert centroid to numpy array (if it's not already)\n",
    "    class_centroids[label] = np.asarray(centroid).reshape(1, -1)  # Ensure it's a 2D array\n",
    "\n",
    "    \n",
    "# Compute cosine similarity between each document and each class centroid\n",
    "similarity_features_train = np.hstack([cosine_similarity(features_train, class_centroids[label]) for label in unique_labels])\n",
    "similarity_features_test = np.hstack([cosine_similarity(features_test, class_centroids[label]) for label in unique_labels])\n",
    "# Use these similarity scores as additional features\n",
    "features_train_extended = np.hstack((features_train.toarray(), similarity_features_train))\n",
    "features_test_extended = np.hstack((features_test.toarray(), similarity_features_test))"
   ]
  },
  {
   "cell_type": "code",
   "execution_count": 38,
   "id": "baaf2868-615c-45cc-aeac-3ff527fc9960",
   "metadata": {},
   "outputs": [],
   "source": [
    "pred_scores = []\n",
    "for k,v in clfs.items():\n",
    "    train_classifier(v, features_train, labels_train)\n",
    "    pred = predict_labels(v,features_test)\n",
    "    pred_scores.append((k, accuracy_score(labels_test,pred)))\n"
   ]
  },
  {
   "cell_type": "code",
   "execution_count": 39,
   "id": "cc4996a2-421e-4e8e-a237-3a8cfdf559a9",
   "metadata": {},
   "outputs": [
    {
     "data": {
      "text/plain": [
       "[('SVC', 0.9835164835164835),\n",
       " ('KN', 0.9835164835164835),\n",
       " ('NB', 0.8992673992673993),\n",
       " ('DT', 0.9963369963369964),\n",
       " ('LR', 0.9926739926739927),\n",
       " ('RF', 0.9926739926739927),\n",
       " ('AdaBoost', 0.9981684981684982),\n",
       " ('BgC', 0.9945054945054945),\n",
       " ('ETC', 0.9981684981684982)]"
      ]
     },
     "execution_count": 39,
     "metadata": {},
     "output_type": "execute_result"
    }
   ],
   "source": [
    "pred_scores"
   ]
  },
  {
   "cell_type": "code",
   "execution_count": 40,
   "id": "23cc806a-39a7-4c7c-8943-a60007aeff8f",
   "metadata": {},
   "outputs": [
    {
     "data": {
      "text/html": [
       "<div>\n",
       "<style scoped>\n",
       "    .dataframe tbody tr th:only-of-type {\n",
       "        vertical-align: middle;\n",
       "    }\n",
       "\n",
       "    .dataframe tbody tr th {\n",
       "        vertical-align: top;\n",
       "    }\n",
       "\n",
       "    .dataframe thead th {\n",
       "        text-align: right;\n",
       "    }\n",
       "</style>\n",
       "<table border=\"1\" class=\"dataframe\">\n",
       "  <thead>\n",
       "    <tr style=\"text-align: right;\">\n",
       "      <th></th>\n",
       "      <th></th>\n",
       "      <th>Score</th>\n",
       "    </tr>\n",
       "    <tr>\n",
       "      <th></th>\n",
       "      <th></th>\n",
       "      <th></th>\n",
       "    </tr>\n",
       "  </thead>\n",
       "  <tbody>\n",
       "    <tr>\n",
       "      <th>SVC</th>\n",
       "      <td>SVC</td>\n",
       "      <td>0.983516</td>\n",
       "    </tr>\n",
       "    <tr>\n",
       "      <th>KN</th>\n",
       "      <td>KN</td>\n",
       "      <td>0.983516</td>\n",
       "    </tr>\n",
       "    <tr>\n",
       "      <th>NB</th>\n",
       "      <td>NB</td>\n",
       "      <td>0.899267</td>\n",
       "    </tr>\n",
       "    <tr>\n",
       "      <th>DT</th>\n",
       "      <td>DT</td>\n",
       "      <td>0.996337</td>\n",
       "    </tr>\n",
       "    <tr>\n",
       "      <th>LR</th>\n",
       "      <td>LR</td>\n",
       "      <td>0.992674</td>\n",
       "    </tr>\n",
       "    <tr>\n",
       "      <th>RF</th>\n",
       "      <td>RF</td>\n",
       "      <td>0.992674</td>\n",
       "    </tr>\n",
       "    <tr>\n",
       "      <th>AdaBoost</th>\n",
       "      <td>AdaBoost</td>\n",
       "      <td>0.998168</td>\n",
       "    </tr>\n",
       "    <tr>\n",
       "      <th>BgC</th>\n",
       "      <td>BgC</td>\n",
       "      <td>0.994505</td>\n",
       "    </tr>\n",
       "    <tr>\n",
       "      <th>ETC</th>\n",
       "      <td>ETC</td>\n",
       "      <td>0.998168</td>\n",
       "    </tr>\n",
       "  </tbody>\n",
       "</table>\n",
       "</div>"
      ],
      "text/plain": [
       "                       Score\n",
       "                            \n",
       "SVC            SVC  0.983516\n",
       "KN              KN  0.983516\n",
       "NB              NB  0.899267\n",
       "DT              DT  0.996337\n",
       "LR              LR  0.992674\n",
       "RF              RF  0.992674\n",
       "AdaBoost  AdaBoost  0.998168\n",
       "BgC            BgC  0.994505\n",
       "ETC            ETC  0.998168"
      ]
     },
     "execution_count": 40,
     "metadata": {},
     "output_type": "execute_result"
    }
   ],
   "source": [
    "df = pd.DataFrame.from_records(pred_scores, index='', columns=[ '', 'Score'])\n",
    "df"
   ]
  },
  {
   "cell_type": "code",
   "execution_count": 41,
   "id": "be690deb-7cd5-44ee-9a32-4060b7fa804b",
   "metadata": {},
   "outputs": [
    {
     "data": {
      "text/plain": [
       "<matplotlib.legend.Legend at 0x7fcde8609ae0>"
      ]
     },
     "execution_count": 41,
     "metadata": {},
     "output_type": "execute_result"
    },
    {
     "data": {
      "image/png": "[encoded data removed]",
      "text/plain": [
       "<Figure size 1100x600 with 1 Axes>"
      ]
     },
     "metadata": {},
     "output_type": "display_data"
    }
   ],
   "source": [
    "df.plot(kind='bar', ylim=(0.9,1.0), figsize=(11,6), align='center', colormap=\"Accent\")\n",
    "plt.xticks(np.arange(9), df.index)\n",
    "plt.ylabel('Accuracy Score')\n",
    "plt.title('Distribution by Classifier')\n",
    "plt.legend(bbox_to_anchor=(1.05, 1), loc=2, borderaxespad=0.)"
   ]
  },
  {
   "cell_type": "code",
   "execution_count": null,
   "id": "8be51c25-8ba5-454a-9853-f72d15d59439",
   "metadata": {},
   "outputs": [],
   "source": [
    "K-fold Cross validation"
   ]
  },
  {
   "cell_type": "code",
   "execution_count": 45,
   "id": "651d10c9-8443-420b-b64e-d900993df569",
   "metadata": {},
   "outputs": [
    {
     "name": "stdout",
     "output_type": "stream",
     "text": [
      "[0.99450549 1.         1.         0.98626374 0.99724518]\n",
      "Average CV Score: 0.9956028819665184\n"
     ]
    }
   ],
   "source": [
    "from sklearn.model_selection import cross_val_score\n",
    "\n",
    "# Define a classifier\n",
    "clf = RandomForestClassifier(n_estimators=31, random_state=111)\n",
    "\n",
    "# Get cross-validation scores\n",
    "scores = cross_val_score(clf, features, data['Type'], cv=5)\n",
    "\n",
    "# Print each cv score (accuracy) and average them\n",
    "print(scores)\n",
    "print(f\"Average CV Score: {np.mean(scores)}\")"
   ]
  },
  {
   "cell_type": "code",
   "execution_count": 46,
   "id": "44b845a9-46b0-4df3-b5a1-ba8a8a5bda1e",
   "metadata": {},
   "outputs": [
    {
     "name": "stdout",
     "output_type": "stream",
     "text": [
      "[0.99450549 1.         1.         0.98626374 0.99724518]\n",
      "Average CV Score: 0.9956028819665184\n"
     ]
    }
   ],
   "source": [
    "from sklearn.model_selection import StratifiedKFold\n",
    "\n",
    "skf = StratifiedKFold(n_splits=5)\n",
    "clf = RandomForestClassifier(n_estimators=31, random_state=111)\n",
    "\n",
    "scores = cross_val_score(clf, features, data['Type'], cv=skf)\n",
    "\n",
    "print(scores)\n",
    "print(f\"Average CV Score: {np.mean(scores)}\")"
   ]
  },
  {
   "cell_type": "code",
   "execution_count": null,
   "id": "5fe1f1ec-16ef-4ba0-9dbc-e02087d7c328",
   "metadata": {},
   "outputs": [],
   "source": [
    "extraño? vamos a hacer Kfold para todos los modelos"
   ]
  },
  {
   "cell_type": "code",
   "execution_count": 47,
   "id": "b5089c4b-f4a9-4d59-9fc7-2a84b9b2ccbe",
   "metadata": {},
   "outputs": [
    {
     "name": "stdout",
     "output_type": "stream",
     "text": [
      "SVC - Scores: [0.99725275 1.         0.99450549 0.96153846 0.98071625]\n",
      "SVC - Average CV Score: 0.9868025913480458\n",
      "\n",
      "KN - Scores: [0.99725275 1.         0.98626374 0.96428571 1.        ]\n",
      "KN - Average CV Score: 0.9895604395604396\n",
      "\n",
      "NB - Scores: [0.89835165 0.8956044  0.89835165 0.8956044  0.90082645]\n",
      "NB - Average CV Score: 0.8977477068386159\n",
      "\n",
      "DT - Scores: [0.98351648 0.99450549 0.99175824 0.99175824 0.99173554]\n",
      "DT - Average CV Score: 0.9906547997457089\n",
      "\n",
      "LR - Scores: [0.97802198 0.99450549 0.97252747 0.9478022  0.97796143]\n",
      "LR - Average CV Score: 0.974163715072806\n",
      "\n",
      "RF - Scores: [0.99450549 1.         1.         0.98626374 0.99724518]\n",
      "RF - Average CV Score: 0.9956028819665184\n",
      "\n",
      "AdaBoost - Scores: [1.         1.         1.         0.98901099 0.99724518]\n",
      "AdaBoost - Average CV Score: 0.99725123361487\n",
      "\n",
      "BgC - Scores: [0.96703297 0.99450549 1.         0.99175824 1.        ]\n",
      "BgC - Average CV Score: 0.9906593406593407\n",
      "\n",
      "ETC - Scores: [1.         1.         0.99450549 0.97252747 0.99449036]\n",
      "ETC - Average CV Score: 0.9923046650319378\n",
      "\n"
     ]
    }
   ],
   "source": [
    "from sklearn.model_selection import cross_val_score, StratifiedKFold\n",
    "clfs = {\n",
    "    'SVC': SVC(kernel='linear'),\n",
    "    'KN': KNeighborsClassifier(n_neighbors=3),\n",
    "    'NB': MultinomialNB(),\n",
    "    'DT': DecisionTreeClassifier(),\n",
    "    'LR': LogisticRegression(),\n",
    "    'RF': RandomForestClassifier(n_estimators=31, random_state=111),\n",
    "    'AdaBoost': AdaBoostClassifier(n_estimators=31, random_state=111),\n",
    "    'BgC': BaggingClassifier(n_estimators=31, random_state=111),\n",
    "    'ETC': ExtraTreesClassifier(n_estimators=31, random_state=111)\n",
    "}\n",
    "cv_scores = {}  # Dictionary to store CV scores for each classifier\n",
    "\n",
    "skf = StratifiedKFold(n_splits=5)  # Initialize stratified k-fold\n",
    "\n",
    "for name, clf in clfs.items():\n",
    "    scores = cross_val_score(clf, features, data['Type'], cv=skf)\n",
    "    cv_scores[name] = (scores, np.mean(scores))\n",
    "\n",
    "# Print the results\n",
    "for name, (scores, avg_score) in cv_scores.items():\n",
    "    print(f\"{name} - Scores: {scores}\")\n",
    "    print(f\"{name} - Average CV Score: {avg_score}\\n\")\n"
   ]
  },
  {
   "cell_type": "raw",
   "id": "2d8f27d7-d8e5-4424-966e-5656725147b9",
   "metadata": {},
   "source": [
    "Parece que los clasificadores de conjuntos no funcionan tan bien como se esperaba.\n",
    "\n",
    "Stemmer\n",
    "Se dice que detener los mensajes cortos no funciona ni perjudica las predicciones. Probemos esto.\n",
    "\n",
    "Definir nuestra función de lematización"
   ]
  },
  {
   "cell_type": "code",
   "execution_count": null,
   "id": "aba13c76-5220-4c0c-a8a0-22eaf23faa3f",
   "metadata": {},
   "outputs": [],
   "source": [
    "Lest' try to balanace data"
   ]
  },
  {
   "cell_type": "code",
   "execution_count": 48,
   "id": "38953fb6-12e1-458d-b1a4-9ac433bb6442",
   "metadata": {},
   "outputs": [
    {
     "name": "stdout",
     "output_type": "stream",
     "text": [
      "Requirement already satisfied: imbalanced-learn in /Users/rafael/anaconda3/lib/python3.10/site-packages (0.10.1)\n",
      "Requirement already satisfied: numpy>=1.17.3 in /Users/rafael/anaconda3/lib/python3.10/site-packages (from imbalanced-learn) (1.23.5)\n",
      "Requirement already satisfied: scipy>=1.3.2 in /Users/rafael/anaconda3/lib/python3.10/site-packages (from imbalanced-learn) (1.10.0)\n",
      "Requirement already satisfied: scikit-learn>=1.0.2 in /Users/rafael/anaconda3/lib/python3.10/site-packages (from imbalanced-learn) (1.2.1)\n",
      "Requirement already satisfied: joblib>=1.1.1 in /Users/rafael/anaconda3/lib/python3.10/site-packages (from imbalanced-learn) (1.1.1)\n",
      "Requirement already satisfied: threadpoolctl>=2.0.0 in /Users/rafael/anaconda3/lib/python3.10/site-packages (from imbalanced-learn) (2.2.0)\n",
      "\n",
      "\u001b[1m[\u001b[0m\u001b[34;49mnotice\u001b[0m\u001b[1;39;49m]\u001b[0m\u001b[39;49m A new release of pip is available: \u001b[0m\u001b[31;49m23.2\u001b[0m\u001b[39;49m -> \u001b[0m\u001b[32;49m23.2.1\u001b[0m\n",
      "\u001b[1m[\u001b[0m\u001b[34;49mnotice\u001b[0m\u001b[1;39;49m]\u001b[0m\u001b[39;49m To update, run: \u001b[0m\u001b[32;49m/Users/rafael/anaconda3/bin/python -m pip install --upgrade pip\u001b[0m\n",
      "Note: you may need to restart the kernel to use updated packages.\n"
     ]
    }
   ],
   "source": [
    "pip install imbalanced-learn\n"
   ]
  },
  {
   "cell_type": "code",
   "execution_count": 51,
   "id": "b5ee8b41-6d2d-4f82-948a-82e5a07f89ab",
   "metadata": {},
   "outputs": [],
   "source": [
    "from imblearn.over_sampling import SMOTE\n"
   ]
  },
  {
   "cell_type": "code",
   "execution_count": 52,
   "id": "abfa78d4-99f3-4137-ab8d-d2658b9fb6cc",
   "metadata": {},
   "outputs": [],
   "source": [
    "# Split the data into features and labels\n",
    "X = features\n",
    "y = data['Type']\n",
    "\n",
    "# Initialize SMOTE\n",
    "smote = SMOTE(random_state=42)\n",
    "\n",
    "# Fit on data and return a balanced dataset\n",
    "X_resampled, y_resampled = smote.fit_resample(X, y)"
   ]
  },
  {
   "cell_type": "code",
   "execution_count": 53,
   "id": "717629f2-17a6-4d2c-8606-eabb82fe4c76",
   "metadata": {},
   "outputs": [],
   "source": [
    "#Sppliting data\n",
    "from sklearn.model_selection import train_test_split\n",
    "\n",
    "X_train_resampled, X_test_resampled, y_train_resampled, y_test_resampled = train_test_split(X_resampled, y_resampled, test_size=0.25, random_state=42)"
   ]
  },
  {
   "cell_type": "code",
   "execution_count": 54,
   "id": "fbd16ae3-0eb0-43c8-8129-b5d372b97b81",
   "metadata": {},
   "outputs": [],
   "source": [
    "#Using previous clasiffiers\n",
    "for k, v in clfs.items():\n",
    "    v.fit(X_train_resampled, y_train_resampled)"
   ]
  },
  {
   "cell_type": "code",
   "execution_count": 55,
   "id": "5cd49893-a467-48b1-b296-44b5c7e6d979",
   "metadata": {},
   "outputs": [
    {
     "name": "stdout",
     "output_type": "stream",
     "text": [
      "SVC - F1 Scores: [0.9979628  0.99796304 1.         0.99591728 0.99591776]\n",
      "SVC - Average F1 Score: 0.9975521739184654\n",
      "\n",
      "KN - F1 Scores: [1.         0.99592531 1.         0.99795849 0.99795877]\n",
      "KN - Average F1 Score: 0.9983685146502257\n",
      "\n",
      "NB - F1 Scores: [0.98981247 0.98981602 0.99795877 0.98979384 0.98979486]\n",
      "NB - Average F1 Score: 0.9914351915824456\n",
      "\n",
      "DT - F1 Scores: [0.9979628  1.         1.         1.         0.99795849]\n",
      "DT - Average F1 Score: 0.9991842588514193\n",
      "\n",
      "LR - F1 Scores: [0.99592531 0.99185306 0.99795877 0.99183551 0.99183619]\n",
      "LR - Average F1 Score: 0.9938817671688163\n",
      "\n",
      "RF - F1 Scores: [1. 1. 1. 1. 1.]\n",
      "RF - Average F1 Score: 1.0\n",
      "\n",
      "AdaBoost - F1 Scores: [1.         1.         0.99795877 1.         0.99795849]\n",
      "AdaBoost - Average F1 Score: 0.9991834524095617\n",
      "\n",
      "BgC - F1 Scores: [0.9979628  1.         1.         1.         0.99795849]\n",
      "BgC - Average F1 Score: 0.9991842588514193\n",
      "\n",
      "ETC - F1 Scores: [1. 1. 1. 1. 1.]\n",
      "ETC - Average F1 Score: 1.0\n",
      "\n"
     ]
    }
   ],
   "source": [
    "#  Evaluate Model Performance with Cross-Validation\n",
    "from sklearn.model_selection import StratifiedKFold, cross_val_score\n",
    "from sklearn.metrics import make_scorer, f1_score\n",
    "\n",
    "# Stratified K-Fold maintains the class distribution in each fold.\n",
    "skf = StratifiedKFold(n_splits=5)\n",
    "\n",
    "# Create a function to print cross-validation scores for each classifier\n",
    "def print_cv_scores(clfs, X, y, cv):\n",
    "    for name, clf in clfs.items():\n",
    "        f1_scorer = make_scorer(f1_score, average='macro')  # Use macro-average for multi-class problems\n",
    "        scores = cross_val_score(clf, X, y, cv=cv, scoring=f1_scorer)\n",
    "        \n",
    "        print(f\"{name} - F1 Scores: {scores}\")\n",
    "        print(f\"{name} - Average F1 Score: {np.mean(scores)}\\n\")\n",
    "\n",
    "print_cv_scores(clfs, X_train_resampled, y_train_resampled, skf)"
   ]
  },
  {
   "cell_type": "code",
   "execution_count": 56,
   "id": "dd8b6400-d36e-4563-abf7-790937c9d1f1",
   "metadata": {},
   "outputs": [
    {
     "name": "stdout",
     "output_type": "stream",
     "text": [
      "SVC - Test F1 Score: 1.0\n",
      "\n",
      "KN - Test F1 Score: 0.9987747209044897\n",
      "\n",
      "NB - Test F1 Score: 0.9950970990170224\n",
      "\n",
      "DT - Test F1 Score: 1.0\n",
      "\n",
      "LR - Test F1 Score: 0.9950970990170224\n",
      "\n",
      "RF - Test F1 Score: 1.0\n",
      "\n",
      "AdaBoost - Test F1 Score: 1.0\n",
      "\n",
      "BgC - Test F1 Score: 1.0\n",
      "\n",
      "ETC - Test F1 Score: 1.0\n",
      "\n"
     ]
    }
   ],
   "source": [
    "#Evaluate on Test sets\n",
    "\n",
    "for name, clf in clfs.items():\n",
    "    y_pred = clf.predict(X_test_resampled)\n",
    "    f1 = f1_score(y_test_resampled, y_pred, average='macro')\n",
    "    print(f\"{name} - Test F1 Score: {f1}\\n\")"
   ]
  },
  {
   "cell_type": "code",
   "execution_count": null,
   "id": "a78fa96c-7f72-4c5a-95d4-fadb71619765",
   "metadata": {},
   "outputs": [],
   "source": []
  },
  {
   "cell_type": "code",
   "execution_count": null,
   "id": "bd11d1af-dd1b-4caf-993a-6540e132d179",
   "metadata": {},
   "outputs": [],
   "source": []
  },
  {
   "cell_type": "code",
   "execution_count": null,
   "id": "9b989a9f-a8c7-4c43-8175-260e745334c0",
   "metadata": {},
   "outputs": [],
   "source": []
  },
  {
   "cell_type": "code",
   "execution_count": null,
   "id": "57f4b4c9-5fb7-4268-9449-6c855a2ac42b",
   "metadata": {},
   "outputs": [],
   "source": []
  },
  {
   "cell_type": "code",
   "execution_count": null,
   "id": "8a9b388d-a4c4-4ffd-8c14-a9ae26205142",
   "metadata": {},
   "outputs": [],
   "source": []
  },
  {
   "cell_type": "code",
   "execution_count": 42,
   "id": "9fb8a4a2-6d62-4cf5-8309-60c6dca5122c",
   "metadata": {},
   "outputs": [],
   "source": [
    "def stemmer (text):\n",
    "    text = text.split()\n",
    "    words = \"\"\n",
    "    for i in text:\n",
    "            stemmer = SnowballStemmer(\"english\")\n",
    "            words += (stemmer.stem(i))+\" \"\n",
    "    return words"
   ]
  },
  {
   "cell_type": "raw",
   "id": "f9e0dcb1-6978-4fa7-898f-2bfece37e42c",
   "metadata": {},
   "source": [
    "Stem, split, fit - repeat... Predict!\n",
    "\n"
   ]
  },
  {
   "cell_type": "code",
   "execution_count": 43,
   "id": "13a7ef7e-d3ea-4d9d-822a-62ee24317450",
   "metadata": {},
   "outputs": [],
   "source": [
    "text_feat = text_feat.apply(stemmer)"
   ]
  },
  {
   "cell_type": "code",
   "execution_count": 44,
   "id": "8febe9e7-f797-413f-a40a-b5b00d67f167",
   "metadata": {},
   "outputs": [],
   "source": [
    "features = vectorizer.fit_transform(text_feat)\n"
   ]
  },
  {
   "cell_type": "code",
   "execution_count": 43,
   "id": "e55e582f-0c87-4b68-a50f-705dcc5a73b3",
   "metadata": {},
   "outputs": [],
   "source": [
    "features_train, features_test, labels_train, labels_test = train_test_split(features, data['Type'], test_size=0.3, random_state=111, stratify=data['Type'])\n",
    "features_train, features_test, labels_train, labels_test = train_test_split(features, data_filtered['Type'], test_size=0.3, random_state=111)"
   ]
  },
  {
   "cell_type": "code",
   "execution_count": 44,
   "id": "0be19d37-7a0c-4741-adea-c523c1eda7e7",
   "metadata": {},
   "outputs": [],
   "source": [
    "pred_scores = []\n",
    "for k,v in clfs.items():\n",
    "    train_classifier(v, features_train, labels_train)\n",
    "    pred = predict_labels(v,features_test)\n",
    "    pred_scores.append((k, [accuracy_score(labels_test,pred)]))"
   ]
  },
  {
   "cell_type": "code",
   "execution_count": 113,
   "id": "8aa938f5-b0d1-4be1-aec5-ae0275fe8b4f",
   "metadata": {},
   "outputs": [
    {
     "data": {
      "text/html": [
       "<div>\n",
       "<style scoped>\n",
       "    .dataframe tbody tr th:only-of-type {\n",
       "        vertical-align: middle;\n",
       "    }\n",
       "\n",
       "    .dataframe tbody tr th {\n",
       "        vertical-align: top;\n",
       "    }\n",
       "\n",
       "    .dataframe thead th {\n",
       "        text-align: right;\n",
       "    }\n",
       "</style>\n",
       "<table border=\"1\" class=\"dataframe\">\n",
       "  <thead>\n",
       "    <tr style=\"text-align: right;\">\n",
       "      <th></th>\n",
       "      <th></th>\n",
       "      <th>Score</th>\n",
       "      <th></th>\n",
       "      <th>Score2</th>\n",
       "    </tr>\n",
       "    <tr>\n",
       "      <th></th>\n",
       "      <th></th>\n",
       "      <th></th>\n",
       "      <th></th>\n",
       "      <th></th>\n",
       "    </tr>\n",
       "  </thead>\n",
       "  <tbody>\n",
       "    <tr>\n",
       "      <th>SVC</th>\n",
       "      <td>SVC</td>\n",
       "      <td>0.989011</td>\n",
       "      <td>SVC</td>\n",
       "      <td>0.989011</td>\n",
       "    </tr>\n",
       "    <tr>\n",
       "      <th>KN</th>\n",
       "      <td>KN</td>\n",
       "      <td>0.985348</td>\n",
       "      <td>KN</td>\n",
       "      <td>0.985348</td>\n",
       "    </tr>\n",
       "    <tr>\n",
       "      <th>NB</th>\n",
       "      <td>NB</td>\n",
       "      <td>0.908425</td>\n",
       "      <td>NB</td>\n",
       "      <td>0.908425</td>\n",
       "    </tr>\n",
       "    <tr>\n",
       "      <th>DT</th>\n",
       "      <td>DT</td>\n",
       "      <td>0.998168</td>\n",
       "      <td>DT</td>\n",
       "      <td>0.998168</td>\n",
       "    </tr>\n",
       "    <tr>\n",
       "      <th>LR</th>\n",
       "      <td>LR</td>\n",
       "      <td>0.992674</td>\n",
       "      <td>LR</td>\n",
       "      <td>0.990842</td>\n",
       "    </tr>\n",
       "    <tr>\n",
       "      <th>RF</th>\n",
       "      <td>RF</td>\n",
       "      <td>0.998168</td>\n",
       "      <td>RF</td>\n",
       "      <td>0.998168</td>\n",
       "    </tr>\n",
       "    <tr>\n",
       "      <th>AdaBoost</th>\n",
       "      <td>AdaBoost</td>\n",
       "      <td>0.990842</td>\n",
       "      <td>AdaBoost</td>\n",
       "      <td>0.990842</td>\n",
       "    </tr>\n",
       "    <tr>\n",
       "      <th>BgC</th>\n",
       "      <td>BgC</td>\n",
       "      <td>1.000000</td>\n",
       "      <td>BgC</td>\n",
       "      <td>1.000000</td>\n",
       "    </tr>\n",
       "    <tr>\n",
       "      <th>ETC</th>\n",
       "      <td>ETC</td>\n",
       "      <td>0.998168</td>\n",
       "      <td>ETC</td>\n",
       "      <td>0.998168</td>\n",
       "    </tr>\n",
       "  </tbody>\n",
       "</table>\n",
       "</div>"
      ],
      "text/plain": [
       "                       Score              Score2\n",
       "                                                \n",
       "SVC            SVC  0.989011       SVC  0.989011\n",
       "KN              KN  0.985348        KN  0.985348\n",
       "NB              NB  0.908425        NB  0.908425\n",
       "DT              DT  0.998168        DT  0.998168\n",
       "LR              LR  0.992674        LR  0.990842\n",
       "RF              RF  0.998168        RF  0.998168\n",
       "AdaBoost  AdaBoost  0.990842  AdaBoost  0.990842\n",
       "BgC            BgC  1.000000       BgC  1.000000\n",
       "ETC            ETC  0.998168       ETC  0.998168"
      ]
     },
     "execution_count": 113,
     "metadata": {},
     "output_type": "execute_result"
    }
   ],
   "source": [
    "df2 = pd.DataFrame.from_records(pred_scores, index='', columns=['','Score2'])\n",
    "df = pd.concat([df,df2],axis=1)\n",
    "df\n",
    "\n",
    "#pd.DataFrame.from_records(pred_scores, index='', columns=[ '', 'Score'])"
   ]
  },
  {
   "cell_type": "code",
   "execution_count": 114,
   "id": "918e179c-6d9c-4060-8339-a2161b965683",
   "metadata": {},
   "outputs": [
    {
     "data": {
      "text/plain": [
       "<matplotlib.legend.Legend at 0x12e2d3580>"
      ]
     },
     "execution_count": 114,
     "metadata": {},
     "output_type": "execute_result"
    },
    {
     "data": {
      "image/png": "[encoded data removed]",
      "text/plain": [
       "<Figure size 792x432 with 1 Axes>"
      ]
     },
     "metadata": {
      "needs_background": "light"
     },
     "output_type": "display_data"
    }
   ],
   "source": [
    "df.plot(kind='bar', ylim=(0.85,1.0), figsize=(11,6), align='center', colormap=\"Accent\")\n",
    "plt.xticks(np.arange(9), df.index)\n",
    "plt.ylabel('Accuracy Score')\n",
    "plt.title('Distribution by Classifier')\n",
    "plt.legend(bbox_to_anchor=(1.05, 1), loc=2, borderaxespad=0.)"
   ]
  },
  {
   "cell_type": "raw",
   "id": "42fe07c4-4507-416a-b3bb-f08d6bf831b3",
   "metadata": {},
   "source": [
    "Parece casi lo mismo. A los clasificadores de conjuntos les está yendo un poco mejor, NB todavía tiene el liderazgo.\n",
    "\n",
    "¿Qué hemos olvidado? ¡Longitud del mensaje!\n",
    "Agreguemos nuestra característica de longitud de mensaje a la matriz que encajamos en nuestros clasificadores"
   ]
  },
  {
   "cell_type": "code",
   "execution_count": 115,
   "id": "b56994bb-f179-46f1-9dff-ac4cb846db5f",
   "metadata": {},
   "outputs": [],
   "source": [
    "lf = data_filtered['length'].to_numpy()\n",
    "newfeat = np.hstack((features.todense(),lf[:, None]))"
   ]
  },
  {
   "cell_type": "code",
   "execution_count": 116,
   "id": "e156a55b-e4b9-4f61-aa9b-13b2b2139399",
   "metadata": {},
   "outputs": [],
   "source": [
    "features_train, features_test, labels_train, labels_test = train_test_split(newfeat, data_filtered['Type'], test_size=0.3, random_state=111)\n"
   ]
  },
  {
   "cell_type": "code",
   "execution_count": null,
   "id": "df2c907d-5e83-43aa-9921-5f2a762e6a08",
   "metadata": {},
   "outputs": [],
   "source": [
    "\n"
   ]
  },
  {
   "cell_type": "code",
   "execution_count": 117,
   "id": "ac5b1a2a-2dc1-4acd-86c7-4ff52ea2251b",
   "metadata": {},
   "outputs": [],
   "source": [
    "pred_scores = []\n",
    "for k,v in clfs.items():\n",
    "    train_classifier(v, features_train, labels_train)\n",
    "    pred = predict_labels(v,features_test)\n",
    "    pred_scores.append((k, [accuracy_score(labels_test,pred)]))"
   ]
  },
  {
   "cell_type": "code",
   "execution_count": 118,
   "id": "300466c1-ff1d-404b-b0fa-53e23bd6f558",
   "metadata": {},
   "outputs": [
    {
     "data": {
      "text/html": [
       "<div>\n",
       "<style scoped>\n",
       "    .dataframe tbody tr th:only-of-type {\n",
       "        vertical-align: middle;\n",
       "    }\n",
       "\n",
       "    .dataframe tbody tr th {\n",
       "        vertical-align: top;\n",
       "    }\n",
       "\n",
       "    .dataframe thead th {\n",
       "        text-align: right;\n",
       "    }\n",
       "</style>\n",
       "<table border=\"1\" class=\"dataframe\">\n",
       "  <thead>\n",
       "    <tr style=\"text-align: right;\">\n",
       "      <th></th>\n",
       "      <th></th>\n",
       "      <th>Score</th>\n",
       "      <th></th>\n",
       "      <th>Score2</th>\n",
       "      <th></th>\n",
       "      <th>Score3</th>\n",
       "    </tr>\n",
       "    <tr>\n",
       "      <th></th>\n",
       "      <th></th>\n",
       "      <th></th>\n",
       "      <th></th>\n",
       "      <th></th>\n",
       "      <th></th>\n",
       "      <th></th>\n",
       "    </tr>\n",
       "  </thead>\n",
       "  <tbody>\n",
       "    <tr>\n",
       "      <th>SVC</th>\n",
       "      <td>SVC</td>\n",
       "      <td>0.989011</td>\n",
       "      <td>SVC</td>\n",
       "      <td>0.989011</td>\n",
       "      <td>SVC</td>\n",
       "      <td>[0.9084249084249084]</td>\n",
       "    </tr>\n",
       "    <tr>\n",
       "      <th>KN</th>\n",
       "      <td>KN</td>\n",
       "      <td>0.985348</td>\n",
       "      <td>KN</td>\n",
       "      <td>0.985348</td>\n",
       "      <td>KN</td>\n",
       "      <td>[0.9304029304029304]</td>\n",
       "    </tr>\n",
       "    <tr>\n",
       "      <th>NB</th>\n",
       "      <td>NB</td>\n",
       "      <td>0.908425</td>\n",
       "      <td>NB</td>\n",
       "      <td>0.908425</td>\n",
       "      <td>NB</td>\n",
       "      <td>[0.9010989010989011]</td>\n",
       "    </tr>\n",
       "    <tr>\n",
       "      <th>DT</th>\n",
       "      <td>DT</td>\n",
       "      <td>0.998168</td>\n",
       "      <td>DT</td>\n",
       "      <td>0.998168</td>\n",
       "      <td>DT</td>\n",
       "      <td>[0.9926739926739927]</td>\n",
       "    </tr>\n",
       "    <tr>\n",
       "      <th>LR</th>\n",
       "      <td>LR</td>\n",
       "      <td>0.992674</td>\n",
       "      <td>LR</td>\n",
       "      <td>0.990842</td>\n",
       "      <td>LR</td>\n",
       "      <td>[0.9945054945054945]</td>\n",
       "    </tr>\n",
       "    <tr>\n",
       "      <th>RF</th>\n",
       "      <td>RF</td>\n",
       "      <td>0.998168</td>\n",
       "      <td>RF</td>\n",
       "      <td>0.998168</td>\n",
       "      <td>RF</td>\n",
       "      <td>[0.9981684981684982]</td>\n",
       "    </tr>\n",
       "    <tr>\n",
       "      <th>AdaBoost</th>\n",
       "      <td>AdaBoost</td>\n",
       "      <td>0.990842</td>\n",
       "      <td>AdaBoost</td>\n",
       "      <td>0.990842</td>\n",
       "      <td>AdaBoost</td>\n",
       "      <td>[0.9908424908424909]</td>\n",
       "    </tr>\n",
       "    <tr>\n",
       "      <th>BgC</th>\n",
       "      <td>BgC</td>\n",
       "      <td>1.000000</td>\n",
       "      <td>BgC</td>\n",
       "      <td>1.000000</td>\n",
       "      <td>BgC</td>\n",
       "      <td>[1.0]</td>\n",
       "    </tr>\n",
       "    <tr>\n",
       "      <th>ETC</th>\n",
       "      <td>ETC</td>\n",
       "      <td>0.998168</td>\n",
       "      <td>ETC</td>\n",
       "      <td>0.998168</td>\n",
       "      <td>ETC</td>\n",
       "      <td>[0.9963369963369964]</td>\n",
       "    </tr>\n",
       "  </tbody>\n",
       "</table>\n",
       "</div>"
      ],
      "text/plain": [
       "                       Score              Score2            \\\n",
       "                                                             \n",
       "SVC            SVC  0.989011       SVC  0.989011       SVC   \n",
       "KN              KN  0.985348        KN  0.985348        KN   \n",
       "NB              NB  0.908425        NB  0.908425        NB   \n",
       "DT              DT  0.998168        DT  0.998168        DT   \n",
       "LR              LR  0.992674        LR  0.990842        LR   \n",
       "RF              RF  0.998168        RF  0.998168        RF   \n",
       "AdaBoost  AdaBoost  0.990842  AdaBoost  0.990842  AdaBoost   \n",
       "BgC            BgC  1.000000       BgC  1.000000       BgC   \n",
       "ETC            ETC  0.998168       ETC  0.998168       ETC   \n",
       "\n",
       "                        Score3  \n",
       "                                \n",
       "SVC       [0.9084249084249084]  \n",
       "KN        [0.9304029304029304]  \n",
       "NB        [0.9010989010989011]  \n",
       "DT        [0.9926739926739927]  \n",
       "LR        [0.9945054945054945]  \n",
       "RF        [0.9981684981684982]  \n",
       "AdaBoost  [0.9908424908424909]  \n",
       "BgC                      [1.0]  \n",
       "ETC       [0.9963369963369964]  "
      ]
     },
     "execution_count": 118,
     "metadata": {},
     "output_type": "execute_result"
    }
   ],
   "source": [
    "df3 = pd.DataFrame.from_records(pred_scores,index='', columns=['', 'Score3'])\n",
    "df = pd.concat([df,df3],axis=1)\n",
    "df\n",
    "#pd.DataFrame.from_records(pred_scores, index='', columns=[ '', 'Score'])"
   ]
  },
  {
   "cell_type": "code",
   "execution_count": 119,
   "id": "9e4c9969-4f1c-4fa2-9b90-02996c5636db",
   "metadata": {},
   "outputs": [
    {
     "data": {
      "text/plain": [
       "<matplotlib.legend.Legend at 0x12f5df9d0>"
      ]
     },
     "execution_count": 119,
     "metadata": {},
     "output_type": "execute_result"
    },
    {
     "data": {
      "image/png": "[encoded data removed]",
      "text/plain": [
       "<Figure size 792x432 with 1 Axes>"
      ]
     },
     "metadata": {
      "needs_background": "light"
     },
     "output_type": "display_data"
    }
   ],
   "source": [
    "df.plot(kind='bar', ylim=(0.85,1.0), figsize=(11,6), align='center', colormap=\"Accent\")\n",
    "plt.xticks(np.arange(9), df.index)\n",
    "plt.ylabel('Accuracy Score')\n",
    "plt.title('Distribution by Classifier')\n",
    "plt.legend(bbox_to_anchor=(1.05, 1), loc=2, borderaxespad=0.)"
   ]
  },
  {
   "cell_type": "raw",
   "id": "96e69ada-5803-4634-8dd6-72ca8c9560e4",
   "metadata": {},
   "source": [
    "Esta vez, a todos les va un poco peor, a excepción de LinearRegression y RandomForest. Pero el ganador sigue siendo MultinominalNaiveBayes.\n",
    "\n",
    "Clasificador de votaciones\n",
    "Estamos usando algoritmos de conjunto aquí, pero ¿qué pasa con el conjunto de conjuntos? ¿Le ganará a NB?"
   ]
  },
  {
   "cell_type": "code",
   "execution_count": 52,
   "id": "41100aa1-21c7-468d-823d-d0ae5d71e6f1",
   "metadata": {},
   "outputs": [],
   "source": [
    "from sklearn.ensemble import VotingClassifier\n"
   ]
  },
  {
   "cell_type": "code",
   "execution_count": 53,
   "id": "a1494c22-e441-4adf-a1d6-50a79dc367d5",
   "metadata": {},
   "outputs": [],
   "source": [
    "eclf = VotingClassifier(estimators=[('BgC', bc), ('ETC', etc), ('RF', rfc), ('Ada', abc)], voting='soft')\n"
   ]
  },
  {
   "cell_type": "code",
   "execution_count": 54,
   "id": "15c61af4-0c26-4435-b814-88160f1b0c14",
   "metadata": {},
   "outputs": [
    {
     "data": {
      "text/plain": [
       "VotingClassifier(estimators=[('BgC',\n",
       "                              BaggingClassifier(n_estimators=9,\n",
       "                                                random_state=111)),\n",
       "                             ('ETC',\n",
       "                              ExtraTreesClassifier(n_estimators=9,\n",
       "                                                   random_state=111)),\n",
       "                             ('RF',\n",
       "                              RandomForestClassifier(n_estimators=31,\n",
       "                                                     random_state=111)),\n",
       "                             ('Ada',\n",
       "                              AdaBoostClassifier(n_estimators=62,\n",
       "                                                 random_state=111))],\n",
       "                 voting='soft')"
      ]
     },
     "execution_count": 54,
     "metadata": {},
     "output_type": "execute_result"
    }
   ],
   "source": [
    "eclf.fit(features_train,labels_train)\n"
   ]
  },
  {
   "cell_type": "code",
   "execution_count": 55,
   "id": "895e6983-f470-49e9-9799-ec463b5cee3f",
   "metadata": {},
   "outputs": [],
   "source": [
    "pred = eclf.predict(features_test)\n"
   ]
  },
  {
   "cell_type": "code",
   "execution_count": 56,
   "id": "c8029f21-1d91-40a6-a726-e29b3bd601a7",
   "metadata": {},
   "outputs": [
    {
     "name": "stdout",
     "output_type": "stream",
     "text": [
      "1.0\n"
     ]
    }
   ],
   "source": [
    "print(accuracy_score(labels_test,pred))"
   ]
  },
  {
   "cell_type": "code",
   "execution_count": 57,
   "id": "9ac9573a-67f6-4d9d-a63c-df1785da94c3",
   "metadata": {},
   "outputs": [],
   "source": [
    "from wordcloud import WordCloud, STOPWORDS"
   ]
  },
  {
   "cell_type": "code",
   "execution_count": 58,
   "id": "789a0f11-40dc-40c5-b893-594e1b4ddc5d",
   "metadata": {},
   "outputs": [],
   "source": [
    "#STOPWORDS = {'PUSH','PUSH1', 'DUP1', 'DUP' , 'POP', 'POP ', ' POP'}"
   ]
  },
  {
   "cell_type": "code",
   "execution_count": 59,
   "id": "bc3508ab-0795-4a80-923a-b3d025af29c2",
   "metadata": {},
   "outputs": [],
   "source": [
    "data_ponzi = data.query('Type == \"Ponzi\"')"
   ]
  },
  {
   "cell_type": "code",
   "execution_count": 60,
   "id": "fafa97b6-49b6-4a75-84ef-2088d34355d2",
   "metadata": {},
   "outputs": [],
   "source": [
    "data_no_ponzi = data.query('Type == \"Legal\"') "
   ]
  },
  {
   "cell_type": "code",
   "execution_count": 61,
   "id": "72262037-47b3-4428-9844-ab8009dfb2b5",
   "metadata": {},
   "outputs": [],
   "source": [
    "wordcloud_no_ponzi = WordCloud().generate(' '.join(data_no_ponzi['opcodes']))\n",
    "wordcloud_ponzi = WordCloud().generate(' '.join(data_ponzi['opcodes']))"
   ]
  },
  {
   "cell_type": "code",
   "execution_count": 62,
   "id": "b7abba68-0812-49da-acf1-9dd3c2c81918",
   "metadata": {},
   "outputs": [],
   "source": [
    "import matplotlib.pyplot as plt\n"
   ]
  },
  {
   "cell_type": "code",
   "execution_count": 63,
   "id": "66ec7891-1c86-465e-8cb2-bb8be1eabd38",
   "metadata": {},
   "outputs": [
    {
     "data": {
      "image/png": "[encoded data removed]",
      "text/plain": [
       "<Figure size 576x576 with 1 Axes>"
      ]
     },
     "metadata": {
      "needs_background": "light"
     },
     "output_type": "display_data"
    }
   ],
   "source": [
    "# plot the WordCloud image                        \n",
    "plt.figure(figsize = (8, 8), facecolor = None) \n",
    "plt.imshow(wordcloud_no_ponzi) \n",
    "plt.axis(\"off\") \n",
    "plt.tight_layout(pad = 0) \n",
    "\n",
    "plt.show() "
   ]
  },
  {
   "cell_type": "code",
   "execution_count": 64,
   "id": "5f35ae22-c9ac-438c-8930-4fb104f60817",
   "metadata": {},
   "outputs": [
    {
     "data": {
      "image/png": "[encoded data removed]",
      "text/plain": [
       "<Figure size 576x576 with 1 Axes>"
      ]
     },
     "metadata": {
      "needs_background": "light"
     },
     "output_type": "display_data"
    }
   ],
   "source": [
    "# plot the WordCloud image                        \n",
    "plt.figure(figsize = (8, 8), facecolor = None) \n",
    "plt.imshow(wordcloud_ponzi) \n",
    "plt.axis(\"off\") \n",
    "plt.tight_layout(pad = 0) \n",
    "\n",
    "plt.show() \n"
   ]
  },
  {
   "cell_type": "code",
   "execution_count": 65,
   "id": "936ab95d-96e7-48a7-9b54-56239cbbf126",
   "metadata": {},
   "outputs": [],
   "source": [
    "pd.options.display.max_seq_items = 100\n",
    "pd.set_option('display.max_rows', 500)\n"
   ]
  },
  {
   "cell_type": "code",
   "execution_count": 66,
   "id": "437d2d3e-d54f-41f4-a5a2-39364db5d546",
   "metadata": {},
   "outputs": [
    {
     "data": {
      "text/plain": [
       "PUSH1             36842\n",
       "SWAP1             17395\n",
       "DUP2              13245\n",
       "PUSH2             13060\n",
       "POP               11252\n",
       "DUP1              10211\n",
       "ADD                9404\n",
       "SWAP2              9049\n",
       "SLOAD              8710\n",
       "JUMPDEST           7758\n",
       "MSTORE             6929\n",
       "JUMPI              6720\n",
       "DUP3               6120\n",
       "MLOAD              5196\n",
       "AND                4884\n",
       "DUP4               4813\n",
       "ISZERO             4718\n",
       "SUB                4638\n",
       "JUMP               4101\n",
       "EXP                3505\n",
       "SWAP3              3320\n",
       "SSTORE             3144\n",
       "MUL                2844\n",
       "EQ                 2595\n",
       "LT                 2234\n",
       "PUSH4              1924\n",
       "DIV                1792\n",
       "DUP5               1534\n",
       "DUP6               1410\n",
       "SWAP4              1403\n",
       "SHA3               1340\n",
       "NOT                1262\n",
       "GT                 1140\n",
       "DUP9               1044\n",
       "CALLER             1043\n",
       "CODECOPY            997\n",
       "PUSH32              972\n",
       "CALLVALUE           904\n",
       "CALLDATALOAD        811\n",
       "CALL                754\n",
       "RETURN              612\n",
       "OR                  581\n",
       "SWAP5               549\n",
       "PUSH8               414\n",
       "DUP7                400\n",
       "SWAP6               327\n",
       "PUSH20              294\n",
       "DUP8                279\n",
       "STOP                271\n",
       "DUP12               249\n",
       "PUSH9               235\n",
       "SWAP7               230\n",
       "PUSH16              198\n",
       "CALLDATASIZE        188\n",
       "PUSH3               185\n",
       "SWAP8               159\n",
       "CODESIZE            156\n",
       "SWAP10              155\n",
       "GASLIMIT            155\n",
       "'a9'(Unknown        155\n",
       "DUP10               143\n",
       "SWAP12              133\n",
       "PUSH7               132\n",
       "DUP14               130\n",
       "SWAP11              125\n",
       "DUP11               119\n",
       "SWAP9               118\n",
       "'29'(Unknown        118\n",
       "'0d'(Unknown        110\n",
       "'d9'(Unknown        110\n",
       "'ec'(Unknown        110\n",
       "PUSH6               108\n",
       "'fe'(Unknown         95\n",
       "TIMESTAMP            89\n",
       "LOG1                 82\n",
       "ADDRESS              79\n",
       "PUSH5                74\n",
       "BALANCE              69\n",
       "PUSH10               58\n",
       "PUSH13               57\n",
       "DUP13                53\n",
       "PUSH22               43\n",
       "MOD                  43\n",
       "CALLDATACOPY         37\n",
       "PUSH19               36\n",
       "PUSH21               33\n",
       "REVERT               29\n",
       "DUP16                26\n",
       "PUSH24               26\n",
       "SWAP13               24\n",
       "NUMBER               23\n",
       "PUSH14               22\n",
       "SELFDESTRUCT         20\n",
       "LOG3                 20\n",
       "DUP15                20\n",
       "PUSH23               14\n",
       "PUSH25               14\n",
       "MSIZE                12\n",
       "GAS                  12\n",
       "'ed'(Unknown         12\n",
       "MSTORE8              11\n",
       "SWAP14               11\n",
       "'b7'(Unknown         10\n",
       "PUSH29               10\n",
       "'c9'(Unknown         10\n",
       "PUSH15                9\n",
       "PUSH28                9\n",
       "'aa'(Unknown          9\n",
       "BLOCKHASH             9\n",
       "'fc'(Unknown          8\n",
       "'5c'(Unknown          8\n",
       "COINBASE              8\n",
       "'25'(Unknown          8\n",
       "'c0'(Unknown          8\n",
       "'0e'(Unknown          8\n",
       "'2e'(Unknown          8\n",
       "'4f'(Unknown          8\n",
       "'0c'(Unknown          8\n",
       "RETURNDATACOPY        8\n",
       "'2d'(Unknown          6\n",
       "'f9'(Unknown          6\n",
       "STATICCALL            6\n",
       "'f6'(Unknown          6\n",
       "DIFFICULTY            6\n",
       "'b1'(Unknown          6\n",
       "'c3'(Unknown          5\n",
       "'b5'(Unknown          5\n",
       "'26'(Unknown          5\n",
       "LOG2                  5\n",
       "'b8'(Unknown          4\n",
       "'2a'(Unknown          4\n",
       "'bd'(Unknown          4\n",
       "'49'(Unknown          4\n",
       "PUSH12                4\n",
       "'b0'(Unknown          4\n",
       "ORIGIN                4\n",
       "'be'(Unknown          4\n",
       "LOG4                  4\n",
       "'ce'(Unknown          4\n",
       "'2f'(Unknown          3\n",
       "GASPRICE              3\n",
       "SWAP16                2\n",
       "PUSH26                2\n",
       "'d7'(Unknown          2\n",
       "'28'(Unknown          2\n",
       "'db'(Unknown          2\n",
       "SLT                   2\n",
       "'f8'(Unknown          2\n",
       "'c2'(Unknown          2\n",
       "BYTE                  2\n",
       "'bb'(Unknown          2\n",
       "SWAP15                2\n",
       "'e5'(Unknown          2\n",
       "'eb'(Unknown          2\n",
       "EXTCODECOPY           2\n",
       "'e3'(Unknown          2\n",
       "SMOD                  2\n",
       "'5f'(Unknown          2\n",
       "'21'(Unknown          2\n",
       "PUSH11                2\n",
       "SDIV                  1\n",
       "'b6'(Unknown          1\n",
       "'2b'(Unknown          1\n",
       "'a5'(Unknown          1\n",
       "'1e'(Unknown          1\n",
       "'ad'(Unknown          1\n",
       "'5e'(Unknown          1\n",
       "PUSH31                1\n",
       "LOG0                  1\n",
       "'df'(Unknown          1\n",
       "'b4'(Unknown          1\n",
       "CALLCODE              1\n",
       "MULMOD                1\n",
       "PUSH18                1\n",
       "dtype: int64"
      ]
     },
     "execution_count": 66,
     "metadata": {},
     "output_type": "execute_result"
    }
   ],
   "source": [
    "data_ponzi.opcodes.str.split(expand=True).stack().value_counts()"
   ]
  },
  {
   "cell_type": "code",
   "execution_count": 67,
   "id": "0d46ec86-ce55-49a9-b843-e7dc7b2a20d0",
   "metadata": {},
   "outputs": [
    {
     "data": {
      "text/plain": [
       "PUSH1             882505\n",
       "DUP1              374389\n",
       "SWAP1             368446\n",
       "POP               361903\n",
       "PUSH2             361356\n",
       "DUP2              302099\n",
       "ADD               295690\n",
       "JUMPDEST          272078\n",
       "MSTORE            214458\n",
       "SWAP2             169402\n",
       "AND               164002\n",
       "ISZERO            158056\n",
       "MLOAD             156951\n",
       "JUMPI             152733\n",
       "DUP3              148152\n",
       "JUMP              139369\n",
       "SUB               118676\n",
       "DUP4              105173\n",
       "REVERT             82323\n",
       "PUSH20             79793\n",
       "SWAP3              71046\n",
       "PUSH4              63321\n",
       "SLOAD              62564\n",
       "DUP5               43161\n",
       "EQ                 41136\n",
       "SHA3               37486\n",
       "SHL                36765\n",
       "EXP                34948\n",
       "LT                 34387\n",
       "MUL                31822\n",
       "RETURNDATASIZE     30604\n",
       "CALLDATALOAD       30100\n",
       "DUP6               24172\n",
       "DIV                23418\n",
       "PUSH32             22219\n",
       "SWAP4              21785\n",
       "GT                 19488\n",
       "DUP7               19403\n",
       "SSTORE             19192\n",
       "NOT                18736\n",
       "CALLER             17950\n",
       "PUSH3              17735\n",
       "CALLVALUE          17260\n",
       "DUP8               14950\n",
       "CALLDATASIZE       14063\n",
       "RETURN             13404\n",
       "RETURNDATACOPY     11363\n",
       "GAS                10916\n",
       "EXTCODESIZE        10708\n",
       "SWAP5              10669\n",
       "'fe'(Unknown        9408\n",
       "OR                  8897\n",
       "CODECOPY            8464\n",
       "STOP                7730\n",
       "DUP9                7622\n",
       "CALL                6618\n",
       "SWAP6               5163\n",
       "STATICCALL          4572\n",
       "DUP10               4499\n",
       "ADDRESS             4482\n",
       "LOG3                4362\n",
       "PUSH5               3445\n",
       "PUSH8               2831\n",
       "DUP11               2814\n",
       "CALLDATACOPY        2609\n",
       "SWAP7               2439\n",
       "DUP12               2390\n",
       "LOG2                2176\n",
       "SLT                 1673\n",
       "PUSH29              1649\n",
       "TIMESTAMP           1646\n",
       "SWAP8               1625\n",
       "PUSH6               1598\n",
       "LOG1                1561\n",
       "DUP13               1527\n",
       "PUSH16              1468\n",
       "SHR                 1394\n",
       "DUP14               1287\n",
       "PUSH15              1222\n",
       "SIGNEXTEND          1166\n",
       "PUSH19              1139\n",
       "ORIGIN              1117\n",
       "SWAP9               1058\n",
       "PUSH21               996\n",
       "DUP15                957\n",
       "NUMBER               957\n",
       "SWAP10               840\n",
       "GASPRICE             734\n",
       "SWAP11               708\n",
       "PUSH28               654\n",
       "GASLIMIT             640\n",
       "CODESIZE             602\n",
       "PUSH10               593\n",
       "SWAP12               579\n",
       "BALANCE              578\n",
       "PUSH13               528\n",
       "PUSH22               519\n",
       "PUSH7                476\n",
       "LOG4                 424\n",
       "PUSH9                413\n",
       "DELEGATECALL         399\n",
       "PUSH17               379\n",
       "SDIV                 373\n",
       "PUSH27               367\n",
       "PUSH12               365\n",
       "MSTORE8              299\n",
       "PUSH14               293\n",
       "MOD                  275\n",
       "SELFBALANCE          272\n",
       "BYTE                 257\n",
       "DUP16                257\n",
       "PUSH24               253\n",
       "MSIZE                240\n",
       "'4f'(Unknown         223\n",
       "'4d'(Unknown         219\n",
       "SWAP13               198\n",
       "CREATE               168\n",
       "DIFFICULTY           167\n",
       "PUSH18               162\n",
       "PUSH11               158\n",
       "PUSH31               154\n",
       "SGT                  153\n",
       "SWAP14               148\n",
       "EXTCODEHASH          148\n",
       "'49'(Unknown         148\n",
       "CREATE2              143\n",
       "'22'(Unknown         135\n",
       "COINBASE             133\n",
       "PUSH25               126\n",
       "SELFDESTRUCT         125\n",
       "PUSH26               121\n",
       "'5f'(Unknown         115\n",
       "PUSH23               107\n",
       "'4e'(Unknown         105\n",
       "BLOCKHASH            100\n",
       "'b3'(Unknown          99\n",
       "MULMOD                97\n",
       "'23'(Unknown          97\n",
       "'ad'(Unknown          92\n",
       "SWAP15                90\n",
       "'4c'(Unknown          90\n",
       "'e2'(Unknown          88\n",
       "'c8'(Unknown          88\n",
       "'ef'(Unknown          82\n",
       "CHAINID               82\n",
       "'dd'(Unknown          82\n",
       "'0e'(Unknown          80\n",
       "'2e'(Unknown          78\n",
       "PC                    77\n",
       "'0c'(Unknown          76\n",
       "'2d'(Unknown          75\n",
       "'2c'(Unknown          74\n",
       "CALLCODE              73\n",
       "'4b'(Unknown          71\n",
       "SWAP16                69\n",
       "ADDMOD                64\n",
       "'bc'(Unknown          63\n",
       "'f7'(Unknown          61\n",
       "'b7'(Unknown          61\n",
       "'d6'(Unknown          60\n",
       "'da'(Unknown          59\n",
       "'28'(Unknown          58\n",
       "'4a'(Unknown          56\n",
       "'29'(Unknown          56\n",
       "EXTCODECOPY           56\n",
       "'b0'(Unknown          55\n",
       "BASEFEE               55\n",
       "'a6'(Unknown          53\n",
       "'bd'(Unknown          52\n",
       "'cc'(Unknown          52\n",
       "'1e'(Unknown          51\n",
       "'b8'(Unknown          51\n",
       "'24'(Unknown          51\n",
       "'ee'(Unknown          50\n",
       "'27'(Unknown          50\n",
       "'e9'(Unknown          50\n",
       "'e6'(Unknown          50\n",
       "'d8'(Unknown          49\n",
       "'b9'(Unknown          49\n",
       "LOG0                  49\n",
       "'ed'(Unknown          48\n",
       "'0f'(Unknown          48\n",
       "'ea'(Unknown          47\n",
       "'eb'(Unknown          47\n",
       "'ce'(Unknown          46\n",
       "'25'(Unknown          46\n",
       "'2b'(Unknown          45\n",
       "'d1'(Unknown          45\n",
       "SAR                   45\n",
       "'d4'(Unknown          44\n",
       "'be'(Unknown          44\n",
       "'e5'(Unknown          44\n",
       "'5e'(Unknown          43\n",
       "'b2'(Unknown          43\n",
       "'d2'(Unknown          42\n",
       "'ae'(Unknown          42\n",
       "'ca'(Unknown          41\n",
       "'c1'(Unknown          41\n",
       "'f8'(Unknown          41\n",
       "'c6'(Unknown          41\n",
       "'db'(Unknown          41\n",
       "'cd'(Unknown          41\n",
       "'ac'(Unknown          41\n",
       "'e8'(Unknown          40\n",
       "'aa'(Unknown          40\n",
       "'21'(Unknown          40\n",
       "'0d'(Unknown          40\n",
       "'5c'(Unknown          40\n",
       "'2f'(Unknown          40\n",
       "'af'(Unknown          40\n",
       "XOR                   40\n",
       "'5d'(Unknown          40\n",
       "'c5'(Unknown          40\n",
       "'fc'(Unknown          39\n",
       "'c7'(Unknown          39\n",
       "'e7'(Unknown          39\n",
       "'e1'(Unknown          39\n",
       "'c4'(Unknown          39\n",
       "'1f'(Unknown          39\n",
       "'c0'(Unknown          39\n",
       "'cf'(Unknown          39\n",
       "'e0'(Unknown          39\n",
       "'a9'(Unknown          38\n",
       "'a5'(Unknown          38\n",
       "'bf'(Unknown          37\n",
       "'bb'(Unknown          37\n",
       "'d3'(Unknown          37\n",
       "'ba'(Unknown          37\n",
       "'e4'(Unknown          36\n",
       "'ab'(Unknown          36\n",
       "'de'(Unknown          36\n",
       "'f9'(Unknown          36\n",
       "'26'(Unknown          36\n",
       "'c9'(Unknown          35\n",
       "'dc'(Unknown          35\n",
       "SMOD                  35\n",
       "'a7'(Unknown          35\n",
       "'df'(Unknown          35\n",
       "'b1'(Unknown          35\n",
       "'ec'(Unknown          35\n",
       "'d5'(Unknown          34\n",
       "'2a'(Unknown          34\n",
       "'fb'(Unknown          34\n",
       "'b4'(Unknown          34\n",
       "'a8'(Unknown          32\n",
       "'f6'(Unknown          32\n",
       "'c3'(Unknown          31\n",
       "'d7'(Unknown          31\n",
       "'cb'(Unknown          30\n",
       "'b5'(Unknown          29\n",
       "'d9'(Unknown          29\n",
       "'c2'(Unknown          28\n",
       "'b6'(Unknown          27\n",
       "'d0'(Unknown          27\n",
       "'e3'(Unknown          20\n",
       "PUSH30                16\n",
       "dtype: int64"
      ]
     },
     "execution_count": 67,
     "metadata": {},
     "output_type": "execute_result"
    }
   ],
   "source": [
    "data_no_ponzi.opcodes.str.split(expand=True).stack().value_counts()"
   ]
  },
  {
   "cell_type": "code",
   "execution_count": 68,
   "id": "79e406c4-d4f5-428f-9de6-34e582386bb5",
   "metadata": {},
   "outputs": [],
   "source": [
    "stopwords = {'PUSH1','POP', 'ISZERO'}"
   ]
  },
  {
   "cell_type": "code",
   "execution_count": 69,
   "id": "927e9294-4832-45fc-a0a5-862ffb4b426f",
   "metadata": {},
   "outputs": [],
   "source": [
    "# natural language processing: n-gram ranking\n",
    "import re\n",
    "import unicodedata\n",
    "import nltk\n",
    "from nltk.corpus import stopwords"
   ]
  },
  {
   "cell_type": "code",
   "execution_count": null,
   "id": "a48f80bc-22fd-49ca-ad98-2fee1ca61c41",
   "metadata": {},
   "outputs": [],
   "source": []
  },
  {
   "cell_type": "code",
   "execution_count": 70,
   "id": "3d94455c-37d2-4725-bfeb-cd840bb9a22a",
   "metadata": {},
   "outputs": [],
   "source": [
    "# add appropriate words that will be ignored in the analysis\n",
    "ADDITIONAL_STOPWORDS = ['Unknown']\n",
    "\n",
    "import matplotlib.pyplot as plt"
   ]
  },
  {
   "cell_type": "code",
   "execution_count": 71,
   "id": "e0a513c8-2297-42e4-92ca-2f7407a120d9",
   "metadata": {},
   "outputs": [
    {
     "ename": "TypeError",
     "evalue": "'Series' object is not callable",
     "output_type": "error",
     "traceback": [
      "\u001b[0;31m---------------------------------------------------------------------------\u001b[0m",
      "\u001b[0;31mTypeError\u001b[0m                                 Traceback (most recent call last)",
      "\u001b[0;32m/var/folders/sc/lm2p_pts1dng1bmnr486vw_h0000gn/T/ipykernel_33821/4267823628.py\u001b[0m in \u001b[0;36m<module>\u001b[0;34m\u001b[0m\n\u001b[0;32m----> 1\u001b[0;31m \u001b[0;34m(\u001b[0m\u001b[0mpd\u001b[0m\u001b[0;34m.\u001b[0m\u001b[0mSeries\u001b[0m\u001b[0;34m(\u001b[0m\u001b[0mnltk\u001b[0m\u001b[0;34m.\u001b[0m\u001b[0mngrams\u001b[0m\u001b[0;34m(\u001b[0m\u001b[0mdata_ponzi\u001b[0m\u001b[0;34m.\u001b[0m\u001b[0mopcodes\u001b[0m\u001b[0;34m(\u001b[0m\u001b[0;36m0\u001b[0m\u001b[0;34m)\u001b[0m\u001b[0;34m,\u001b[0m \u001b[0;36m2\u001b[0m\u001b[0;34m)\u001b[0m\u001b[0;34m)\u001b[0m\u001b[0;34m.\u001b[0m\u001b[0mvalue_counts\u001b[0m\u001b[0;34m(\u001b[0m\u001b[0;34m)\u001b[0m\u001b[0;34m)\u001b[0m\u001b[0;34m[\u001b[0m\u001b[0;34m:\u001b[0m\u001b[0;36m10\u001b[0m\u001b[0;34m]\u001b[0m\u001b[0;34m\u001b[0m\u001b[0;34m\u001b[0m\u001b[0m\n\u001b[0m",
      "\u001b[0;31mTypeError\u001b[0m: 'Series' object is not callable"
     ]
    }
   ],
   "source": [
    "(pd.Series(nltk.ngrams(data_ponzi.opcodes(0), 2)).value_counts())[:10]\n"
   ]
  },
  {
   "cell_type": "code",
   "execution_count": 72,
   "id": "f3497750-9130-4c4d-a138-904012245787",
   "metadata": {},
   "outputs": [
    {
     "data": {
      "text/plain": [
       "\"PUSH1 PUSH1 MSTORE CALLDATASIZE ISZERO PUSH2 JUMPI PUSH1 PUSH1 EXP PUSH1 CALLDATALOAD DIV PUSH4 DUP2 EQ PUSH2 JUMPI DUP1 PUSH4 EQ PUSH2 JUMPI DUP1 PUSH4 EQ PUSH2 JUMPI DUP1 PUSH4 EQ PUSH2 JUMPI DUP1 PUSH4 EQ PUSH2 JUMPI DUP1 PUSH4 EQ PUSH2 JUMPI DUP1 PUSH4 EQ PUSH2 JUMPI DUP1 PUSH4 EQ PUSH2 JUMPI DUP1 PUSH4 EQ PUSH2 JUMPI DUP1 PUSH4 EQ PUSH2 JUMPI DUP1 PUSH4 EQ PUSH2 JUMPI DUP1 PUSH4 EQ PUSH2 JUMPI DUP1 PUSH4 EQ PUSH2 JUMPI DUP1 PUSH4 EQ PUSH2 JUMPI JUMPDEST PUSH2 PUSH2 PUSH1 PUSH2 JUMP JUMPDEST PUSH2 PUSH1 SLOAD PUSH4 AND DUP2 JUMP JUMPDEST PUSH2 PUSH1 SLOAD PUSH1 AND DUP2 JUMP JUMPDEST PUSH2 PUSH1 SLOAD PUSH1 PUSH1 PUSH1 EXP SUB AND DUP2 JUMP JUMPDEST PUSH2 PUSH1 SLOAD DUP2 JUMP JUMPDEST PUSH2 PUSH1 CALLDATALOAD PUSH1 SLOAD PUSH1 PUSH1 PUSH1 EXP SUB SWAP1 DUP2 AND CALLER SWAP2 SWAP1 SWAP2 AND EQ ISZERO PUSH2 JUMPI PUSH1 DUP1 SLOAD PUSH1 PUSH1 PUSH1 EXP SUB NOT AND DUP3 OR SWAP1 SSTORE POP JUMP JUMPDEST PUSH2 PUSH1 DUP1 SLOAD CALLVALUE ADD SWAP1 SSTORE JUMP JUMPDEST PUSH2 PUSH1 DUP1 JUMPDEST PUSH1 SLOAD PUSH4 AND DUP2 LT ISZERO PUSH2 JUMPI PUSH1 DUP1 SLOAD DUP3 SWAP1 DUP2 LT ISZERO PUSH2 JUMPI POP PUSH1 MSTORE PUSH1 DUP1 MLOAD PUSH1 PUSH2 DUP4 CODECOPY DUP2 MLOAD SWAP2 MSTORE DUP2 ADD SLOAD SWAP1 SWAP2 ADD SWAP1 PUSH1 ADD PUSH2 JUMP JUMPDEST PUSH2 PUSH1 SLOAD DUP2 JUMP JUMPDEST PUSH2 PUSH1 DUP1 MLOAD PUSH1 DUP2 DUP2 ADD DUP4 MSTORE PUSH1 DUP3 MSTORE DUP3 MLOAD PUSH1 DUP1 SLOAD DUP1 DUP5 MUL DUP4 ADD DUP5 ADD SWAP1 SWAP6 MSTORE DUP5 DUP3 MSTORE SWAP3 SWAP4 SWAP1 SWAP3 SWAP2 DUP4 ADD DUP3 DUP3 DUP1 ISZERO PUSH2 JUMPI PUSH1 MUL DUP3 ADD SWAP2 SWAP1 PUSH1 MSTORE PUSH1 PUSH1 SHA3 SWAP1 JUMPDEST DUP2 PUSH1 POP SLOAD DUP2 MSTORE PUSH1 ADD SWAP1 PUSH1 ADD SWAP1 DUP1 DUP4 GT PUSH2 JUMPI JUMPDEST POP POP POP POP POP SWAP1 POP PUSH2 JUMP JUMPDEST PUSH2 PUSH1 CALLDATALOAD PUSH1 DUP1 SLOAD DUP3 SWAP1 DUP2 LT ISZERO PUSH2 JUMPI POP PUSH1 MSTORE PUSH1 DUP1 MLOAD PUSH1 PUSH2 DUP4 CODECOPY DUP2 MLOAD SWAP2 MSTORE ADD SLOAD PUSH1 PUSH1 PUSH1 EXP SUB AND DUP2 JUMP JUMPDEST PUSH2 PUSH1 DUP1 MLOAD PUSH1 DUP2 DUP2 ADD DUP4 MSTORE PUSH1 DUP3 MSTORE DUP3 MLOAD PUSH1 DUP1 SLOAD DUP1 DUP5 MUL DUP4 ADD DUP5 ADD SWAP1 SWAP6 MSTORE DUP5 DUP3 MSTORE SWAP3 SWAP4 SWAP1 SWAP3 SWAP2 DUP4 ADD DUP3 DUP3 DUP1 ISZERO PUSH2 JUMPI PUSH1 MUL DUP3 ADD SWAP2 SWAP1 PUSH1 MSTORE PUSH1 PUSH1 SHA3 SWAP1 JUMPDEST DUP2 SLOAD PUSH1 PUSH1 PUSH1 EXP SUB AND DUP2 MSTORE PUSH1 SWAP2 SWAP1 SWAP2 ADD SWAP1 PUSH1 ADD DUP1 DUP4 GT PUSH2 JUMPI JUMPDEST POP POP POP POP POP SWAP1 POP JUMPDEST SWAP1 JUMP JUMPDEST PUSH2 PUSH1 CALLDATALOAD JUMPDEST PUSH1 PUSH1 CALLVALUE SWAP1 POP TIMESTAMP PUSH2 PUSH1 PUSH1 POP SLOAD ADD LT ISZERO PUSH2 JUMPI PUSH1 MLOAD PUSH1 PUSH1 PUSH1 EXP SUB CALLER AND SWAP1 DUP4 SWAP1 DUP4 SWAP1 DUP3 DUP2 DUP2 DUP2 DUP6 DUP9 DUP4 CALL POP POP PUSH1 DUP1 SLOAD SWAP1 SWAP4 POP PUSH1 NOT DUP2 ADD SWAP3 POP DUP3 LT ISZERO SWAP1 POP PUSH2 JUMPI POP DUP1 SLOAD SWAP1 DUP4 MSTORE PUSH1 SLOAD PUSH1 MLOAD PUSH32 SWAP1 SWAP3 ADD SLOAD PUSH1 PUSH1 PUSH1 EXP SUB AND SWAP2 DUP5 SWAP2 SWAP1 DUP3 DUP2 DUP2 DUP2 DUP6 DUP9 DUP4 CALL POP PUSH1 SLOAD PUSH1 PUSH1 PUSH1 EXP SUB SWAP1 DUP2 AND SWAP5 POP ADDRESS AND BALANCE SWAP2 POP DUP3 DUP2 DUP2 DUP2 DUP6 DUP9 DUP4 CALL POP POP DUP2 SLOAD PUSH4 NOT AND DUP3 SSTORE POP TIMESTAMP PUSH1 SSTORE PUSH1 DUP2 SWAP1 SSTORE PUSH1 MLOAD SWAP1 SWAP2 POP DUP1 MSIZE LT PUSH2 JUMPI POP MSIZE JUMPDEST DUP2 DUP2 MSTORE PUSH1 SWAP2 DUP3 MUL DUP2 ADD DUP3 ADD PUSH1 MSTORE PUSH1 DUP1 SLOAD DUP3 MLOAD DUP1 DUP4 SSTORE PUSH1 DUP4 SWAP1 MSTORE SWAP2 SWAP4 PUSH1 DUP1 MLOAD PUSH1 PUSH2 DUP4 CODECOPY DUP2 MLOAD SWAP2 MSTORE SWAP2 DUP3 ADD SWAP4 ADD DUP3 ISZERO PUSH2 JUMPI SWAP2 PUSH1 MUL DUP3 ADD JUMPDEST DUP3 DUP2 GT ISZERO PUSH2 JUMPI DUP3 MLOAD DUP3 SLOAD PUSH1 PUSH1 PUSH1 EXP SUB NOT AND OR DUP3 SSTORE PUSH1 SWAP3 SWAP1 SWAP3 ADD SWAP2 PUSH1 SWAP2 SWAP1 SWAP2 ADD SWAP1 PUSH2 JUMP JUMPDEST PUSH2 PUSH1 CALLDATALOAD PUSH1 DUP1 SLOAD DUP3 SWAP1 DUP2 LT ISZERO PUSH2 JUMPI POP PUSH1 MSTORE PUSH1 DUP1 MLOAD PUSH1 PUSH2 DUP4 CODECOPY DUP2 MLOAD SWAP2 MSTORE ADD SLOAD DUP2 JUMP JUMPDEST PUSH2 PUSH1 DUP1 SLOAD PUSH4 AND JUMPDEST PUSH1 SLOAD DUP2 LT ISZERO PUSH2 JUMPI PUSH1 DUP1 SLOAD DUP3 SWAP1 DUP2 LT ISZERO PUSH2 JUMPI POP PUSH1 MSTORE PUSH1 DUP1 MLOAD PUSH1 PUSH2 DUP4 CODECOPY DUP2 MLOAD SWAP2 MSTORE DUP2 ADD SLOAD SWAP1 SWAP2 ADD SWAP1 PUSH1 ADD PUSH2 JUMP JUMPDEST STOP JUMPDEST POP JUMP JUMPDEST PUSH1 DUP1 MLOAD PUSH4 SWAP1 SWAP3 AND DUP3 MSTORE MLOAD SWAP1 DUP2 SWAP1 SUB PUSH1 ADD SWAP1 RETURN JUMPDEST PUSH1 DUP1 MLOAD PUSH1 SWAP3 SWAP1 SWAP3 AND DUP3 MSTORE MLOAD SWAP1 DUP2 SWAP1 SUB PUSH1 ADD SWAP1 RETURN JUMPDEST PUSH1 DUP1 MLOAD PUSH1 PUSH1 PUSH1 EXP SUB SWAP3 SWAP1 SWAP3 AND DUP3 MSTORE MLOAD SWAP1 DUP2 SWAP1 SUB PUSH1 ADD SWAP1 RETURN JUMPDEST PUSH1 DUP1 MLOAD SWAP2 DUP3 MSTORE MLOAD SWAP1 DUP2 SWAP1 SUB PUSH1 ADD SWAP1 RETURN JUMPDEST PUSH1 MLOAD DUP1 DUP1 PUSH1 ADD DUP3 DUP2 SUB DUP3 MSTORE DUP4 DUP2 DUP2 MLOAD DUP2 MSTORE PUSH1 ADD SWAP2 POP DUP1 MLOAD SWAP1 PUSH1 ADD SWAP1 PUSH1 MUL DUP1 DUP4 DUP4 DUP3 SWAP1 PUSH1 PUSH1 PUSH1 DUP5 PUSH1 ADD DIV PUSH1 MUL PUSH1 ADD CALL POP SWAP1 POP ADD SWAP3 POP POP POP PUSH1 MLOAD DUP1 SWAP2 SUB SWAP1 RETURN JUMPDEST PUSH8 DUP2 LT PUSH2 JUMPI TIMESTAMP PUSH1 SWAP1 DUP2 SSTORE PUSH1 DUP1 SLOAD SWAP2 DUP3 ADD DUP1 DUP3 SSTORE SWAP1 SWAP2 SWAP1 DUP3 DUP2 DUP4 DUP1 ISZERO DUP3 SWAP1 GT PUSH2 JUMPI DUP2 DUP4 PUSH1 MSTORE PUSH1 PUSH1 SHA3 SWAP2 DUP3 ADD SWAP2 ADD PUSH2 SWAP2 SWAP1 PUSH2 JUMP JUMPDEST POP PUSH2 SWAP3 SWAP2 POP JUMPDEST DUP1 DUP3 GT ISZERO PUSH2 JUMPI DUP1 SLOAD PUSH1 PUSH1 PUSH1 EXP SUB NOT AND DUP2 SSTORE PUSH1 ADD PUSH2 JUMP JUMPDEST POP POP PUSH1 PUSH1 MLOAD DUP1 MSIZE LT PUSH2 JUMPI POP MSIZE JUMPDEST DUP2 DUP2 MSTORE PUSH1 SWAP2 DUP3 MUL DUP2 ADD DUP3 ADD PUSH1 MSTORE PUSH1 DUP1 SLOAD DUP3 MLOAD DUP1 DUP4 SSTORE PUSH1 DUP4 SWAP1 MSTORE SWAP2 SWAP4 PUSH1 DUP1 MLOAD PUSH1 PUSH2 DUP4 CODECOPY DUP2 MLOAD SWAP2 MSTORE SWAP2 DUP3 ADD SWAP4 ADD DUP3 ISZERO PUSH2 JUMPI SWAP2 PUSH1 MUL DUP3 ADD JUMPDEST DUP3 DUP2 GT ISZERO PUSH2 JUMPI DUP3 MLOAD DUP3 PUSH1 POP SSTORE SWAP2 PUSH1 ADD SWAP2 SWAP1 PUSH1 ADD SWAP1 PUSH2 JUMP JUMPDEST POP SWAP1 JUMP JUMPDEST POP PUSH2 SWAP3 SWAP2 POP JUMPDEST DUP1 DUP3 GT ISZERO PUSH2 JUMPI PUSH1 DUP2 SSTORE PUSH1 ADD PUSH2 JUMP JUMPDEST POP POP PUSH1 DUP1 SLOAD PUSH1 NOT DUP2 AND PUSH1 SWAP1 SWAP2 AND PUSH1 ADD OR SWAP1 SSTORE PUSH1 SWAP2 POP JUMPDEST POP SWAP2 SWAP1 POP JUMP JUMPDEST PUSH1 MLOAD PUSH1 PUSH1 PUSH1 EXP SUB CALLER AND SWAP1 PUSH1 SWAP1 DUP4 SWAP1 DUP3 DUP2 DUP2 DUP2 DUP6 DUP9 DUP4 CALL POP SWAP2 SWAP5 POP PUSH2 SWAP3 POP POP POP JUMP JUMPDEST POP POP POP PUSH1 SWAP3 DUP4 MSTORE POP PUSH1 SWAP1 SWAP2 SHA3 ADD DUP1 SLOAD PUSH1 PUSH1 PUSH1 EXP SUB NOT AND CALLER OR SWAP1 SSTORE PUSH1 DUP1 SLOAD PUSH1 DUP2 ADD DUP1 DUP4 SSTORE DUP3 DUP2 DUP4 DUP1 ISZERO DUP3 SWAP1 GT PUSH2 JUMPI DUP2 DUP4 PUSH1 MSTORE PUSH1 PUSH1 SHA3 SWAP2 DUP3 ADD SWAP2 ADD PUSH2 SWAP2 SWAP1 PUSH2 JUMP JUMPDEST POP POP POP PUSH1 SWAP3 DUP4 MSTORE POP PUSH1 DUP3 SHA3 PUSH1 PUSH1 DUP6 MUL DUP2 SWAP1 DIV SWAP2 SWAP1 SWAP3 ADD SSTORE PUSH1 MLOAD PUSH1 DUP1 SLOAD PUSH1 PUSH1 PUSH1 EXP SUB AND SWAP4 SWAP3 SWAP1 DUP6 MUL DIV SWAP1 DUP3 DUP2 DUP2 DUP2 DUP6 DUP9 DUP4 CALL SWAP4 POP POP POP POP POP PUSH10 PUSH1 PUSH1 POP SLOAD LT ISZERO PUSH2 JUMPI PUSH1 DUP1 SLOAD PUSH1 PUSH1 DUP5 MUL DIV ADD SWAP1 SSTORE JUMPDEST PUSH1 PUSH1 PUSH1 EXP SUB DUP4 AND PUSH1 SWAP1 DUP2 MSTORE PUSH1 PUSH1 MSTORE PUSH1 SWAP1 SHA3 SLOAD DUP2 SWAP1 LT PUSH2 JUMPI PUSH1 MLOAD PUSH1 PUSH1 PUSH1 EXP SUB DUP5 AND SWAP1 PUSH1 SWAP1 PUSH1 PUSH1 DUP6 MUL DIV SWAP1 DUP3 DUP2 DUP2 DUP2 DUP6 DUP9 DUP4 CALL POP POP POP POP POP JUMPDEST PUSH1 PUSH1 PUSH1 EXP SUB CALLER DUP2 AND PUSH1 SWAP1 DUP2 MSTORE PUSH1 PUSH1 MSTORE PUSH1 DUP2 SHA3 DUP1 SLOAD PUSH1 PUSH1 DUP7 MUL DIV ADD SWAP1 SSTORE SLOAD PUSH1 SLOAD PUSH1 DUP1 SLOAD ADDRESS SWAP1 SWAP5 AND BALANCE SWAP2 SWAP1 SWAP2 SUB SWAP3 SWAP1 SWAP2 PUSH4 AND SWAP1 DUP2 LT ISZERO PUSH2 JUMPI PUSH1 SWAP2 SWAP1 SWAP2 MSTORE PUSH1 DUP1 MLOAD PUSH1 PUSH2 DUP4 CODECOPY DUP2 MLOAD SWAP2 MSTORE ADD SLOAD GT PUSH2 JUMPI PUSH1 SLOAD PUSH1 DUP1 SLOAD SWAP1 SWAP2 PUSH4 AND SWAP1 DUP2 LT ISZERO PUSH2 JUMPI PUSH1 SWAP2 DUP3 MSTORE PUSH1 DUP1 MLOAD PUSH1 PUSH2 DUP4 CODECOPY DUP2 MLOAD SWAP2 MSTORE ADD SWAP1 SWAP1 SLOAD SWAP1 PUSH2 EXP SWAP1 DIV PUSH1 PUSH1 PUSH1 EXP SUB AND PUSH1 PUSH1 PUSH1 EXP SUB AND PUSH1 PUSH1 PUSH1 POP PUSH1 PUSH1 SWAP1 SLOAD SWAP1 PUSH2 EXP SWAP1 DIV PUSH4 AND DUP2 SLOAD DUP2 LT ISZERO PUSH2 JUMPI SWAP1 DUP3 MSTORE PUSH1 DUP1 MLOAD PUSH1 PUSH2 DUP4 CODECOPY DUP2 MLOAD SWAP2 MSTORE ADD DUP2 POP SLOAD PUSH1 MLOAD PUSH1 DUP2 DUP2 DUP2 DUP6 DUP9 DUP9 CALL POP POP SWAP1 SLOAD PUSH1 DUP1 SLOAD SWAP1 SWAP4 POP PUSH4 SWAP2 SWAP1 SWAP2 AND SWAP2 POP DUP2 LT ISZERO PUSH2 JUMPI PUSH1 SWAP2 DUP3 MSTORE PUSH1 DUP1 SLOAD PUSH1 DUP1 MLOAD PUSH1 PUSH2 DUP4 CODECOPY DUP2 MLOAD SWAP2 MSTORE DUP4 ADD SLOAD SWAP4 PUSH1 SWAP4 SWAP1 SWAP3 SWAP2 DUP2 LT ISZERO PUSH2 JUMPI PUSH1 DUP1 MLOAD PUSH1 PUSH2 DUP4 CODECOPY DUP2 MLOAD SWAP2 MSTORE ADD SLOAD PUSH1 PUSH1 PUSH1 EXP SUB AND DUP3 MSTORE POP PUSH1 SWAP2 SWAP1 SWAP2 MSTORE PUSH1 DUP2 SHA3 DUP1 SLOAD SWAP3 SWAP1 SWAP3 SUB SWAP1 SWAP2 SSTORE DUP1 SLOAD PUSH4 DUP2 AND PUSH1 ADD PUSH4 NOT SWAP2 SWAP1 SWAP2 AND OR SWAP1 SSTORE JUMPDEST PUSH1 SWAP2 POP PUSH2 JUMP 'c2'(Unknown JUMPI GAS '0e'(Unknown SWAP15 MSIZE EXTCODECOPY STOP 'f9'(Unknown MSIZE 'f8'(Unknown 'c9'(Unknown '2f'(Unknown SLT 'db'(Unknown '28'(Unknown PUSH10 DIFFICULTY PUSH16 'd7'(Unknown MULMOD CALLCODE DUP15 DUP7 STOP 'b4'(Unknown 'aa'(Unknown DUP13 PUSH6\""
      ]
     },
     "execution_count": 72,
     "metadata": {},
     "output_type": "execute_result"
    }
   ],
   "source": [
    "data_ponzi.opcodes.iloc[0]"
   ]
  },
  {
   "cell_type": "code",
   "execution_count": null,
   "id": "f46142bd-c98c-479d-81aa-a08869f14015",
   "metadata": {},
   "outputs": [],
   "source": [
    "#Deep Learning Proceess"
   ]
  },
  {
   "cell_type": "code",
   "execution_count": 73,
   "id": "3e9c0fe3-6e23-4156-ab3f-0efb1f02b2de",
   "metadata": {},
   "outputs": [
    {
     "name": "stdout",
     "output_type": "stream",
     "text": [
      "Collecting keras-tcn\n",
      "  Downloading keras_tcn-3.4.3-py3-none-any.whl (13 kB)\n",
      "Requirement already satisfied: numpy in ./venv/lib/python3.8/site-packages (from keras-tcn) (1.21.2)\n",
      "Collecting tensorflow-addons\n",
      "  Downloading tensorflow_addons-0.16.1-cp38-cp38-macosx_10_15_x86_64.whl (588 kB)\n",
      "\u001b[K     |████████████████████████████████| 588 kB 7.2 MB/s eta 0:00:01\n",
      "\u001b[?25hCollecting tensorflow\n",
      "  Downloading tensorflow-2.8.0-cp38-cp38-macosx_10_14_x86_64.whl (217.4 MB)\n",
      "\u001b[K     |████████████████████████████████| 217.4 MB 15 kB/s s eta 0:00:01███████████████▎| 212.8 MB 11.0 MB/s eta 0:00:01\n",
      "\u001b[?25hCollecting h5py>=2.9.0\n",
      "  Downloading h5py-3.6.0-cp38-cp38-macosx_10_9_x86_64.whl (3.1 MB)\n",
      "\u001b[K     |████████████████████████████████| 3.1 MB 8.7 MB/s eta 0:00:01\n",
      "\u001b[?25hRequirement already satisfied: typing-extensions>=3.6.6 in ./venv/lib/python3.8/site-packages (from tensorflow->keras-tcn) (3.10.0.2)\n",
      "Collecting wrapt>=1.11.0\n",
      "  Downloading wrapt-1.14.1-cp38-cp38-macosx_10_9_x86_64.whl (35 kB)\n",
      "Collecting libclang>=9.0.1\n",
      "  Downloading libclang-14.0.1-py2.py3-none-macosx_10_9_x86_64.whl (13.2 MB)\n",
      "\u001b[K     |████████████████████████████████| 13.2 MB 3.3 MB/s eta 0:00:011\n",
      "\u001b[?25hCollecting termcolor>=1.1.0\n",
      "  Downloading termcolor-1.1.0.tar.gz (3.9 kB)\n",
      "Collecting grpcio<2.0,>=1.24.3\n",
      "  Downloading grpcio-1.46.0-cp38-cp38-macosx_10_10_x86_64.whl (4.4 MB)\n",
      "\u001b[K     |████████████████████████████████| 4.4 MB 9.0 MB/s eta 0:00:01\n",
      "\u001b[?25hCollecting tensorboard<2.9,>=2.8\n",
      "  Downloading tensorboard-2.8.0-py3-none-any.whl (5.8 MB)\n",
      "\u001b[K     |████████████████████████████████| 5.8 MB 18.1 MB/s eta 0:00:01\n",
      "\u001b[?25hRequirement already satisfied: protobuf>=3.9.2 in ./venv/lib/python3.8/site-packages (from tensorflow->keras-tcn) (3.18.0)\n",
      "Collecting astunparse>=1.6.0\n",
      "  Downloading astunparse-1.6.3-py2.py3-none-any.whl (12 kB)\n",
      "Collecting keras<2.9,>=2.8.0rc0\n",
      "  Downloading keras-2.8.0-py2.py3-none-any.whl (1.4 MB)\n",
      "\u001b[K     |████████████████████████████████| 1.4 MB 17.4 MB/s eta 0:00:01\n",
      "\u001b[?25hRequirement already satisfied: setuptools in ./venv/lib/python3.8/site-packages (from tensorflow->keras-tcn) (57.0.0)\n",
      "Collecting tf-estimator-nightly==2.8.0.dev2021122109\n",
      "  Downloading tf_estimator_nightly-2.8.0.dev2021122109-py2.py3-none-any.whl (462 kB)\n",
      "\u001b[K     |████████████████████████████████| 462 kB 24.7 MB/s eta 0:00:01\n",
      "\u001b[?25hRequirement already satisfied: six>=1.12.0 in ./venv/lib/python3.8/site-packages (from tensorflow->keras-tcn) (1.16.0)\n",
      "Collecting tensorflow-io-gcs-filesystem>=0.23.1\n",
      "  Downloading tensorflow_io_gcs_filesystem-0.25.0-cp38-cp38-macosx_10_14_x86_64.whl (1.6 MB)\n",
      "\u001b[K     |████████████████████████████████| 1.6 MB 16.5 MB/s eta 0:00:01\n",
      "\u001b[?25hCollecting opt-einsum>=2.3.2\n",
      "  Downloading opt_einsum-3.3.0-py3-none-any.whl (65 kB)\n",
      "\u001b[K     |████████████████████████████████| 65 kB 11.0 MB/s eta 0:00:01\n",
      "\u001b[?25hCollecting google-pasta>=0.1.1\n",
      "  Downloading google_pasta-0.2.0-py3-none-any.whl (57 kB)\n",
      "\u001b[K     |████████████████████████████████| 57 kB 12.8 MB/s eta 0:00:01\n",
      "\u001b[?25hCollecting flatbuffers>=1.12\n",
      "  Downloading flatbuffers-2.0-py2.py3-none-any.whl (26 kB)\n",
      "Collecting keras-preprocessing>=1.1.1\n",
      "  Downloading Keras_Preprocessing-1.1.2-py2.py3-none-any.whl (42 kB)\n",
      "\u001b[K     |████████████████████████████████| 42 kB 2.3 MB/s  eta 0:00:01\n",
      "\u001b[?25hCollecting gast>=0.2.1\n",
      "  Downloading gast-0.5.3-py3-none-any.whl (19 kB)\n",
      "Collecting absl-py>=0.4.0\n",
      "  Downloading absl_py-1.0.0-py3-none-any.whl (126 kB)\n",
      "\u001b[K     |████████████████████████████████| 126 kB 27.0 MB/s eta 0:00:01\n",
      "\u001b[?25hRequirement already satisfied: wheel<1.0,>=0.23.0 in ./venv/lib/python3.8/site-packages (from astunparse>=1.6.0->tensorflow->keras-tcn) (0.36.2)\n",
      "Collecting tensorboard-plugin-wit>=1.6.0\n",
      "  Downloading tensorboard_plugin_wit-1.8.1-py3-none-any.whl (781 kB)\n",
      "\u001b[K     |████████████████████████████████| 781 kB 29.1 MB/s eta 0:00:01\n",
      "\u001b[?25hCollecting google-auth<3,>=1.6.3\n",
      "  Downloading google_auth-2.6.6-py2.py3-none-any.whl (156 kB)\n",
      "\u001b[K     |████████████████████████████████| 156 kB 25.1 MB/s eta 0:00:01\n",
      "\u001b[?25hRequirement already satisfied: requests<3,>=2.21.0 in ./venv/lib/python3.8/site-packages (from tensorboard<2.9,>=2.8->tensorflow->keras-tcn) (2.26.0)\n",
      "Collecting tensorboard-data-server<0.7.0,>=0.6.0\n",
      "  Downloading tensorboard_data_server-0.6.1-py3-none-macosx_10_9_x86_64.whl (3.5 MB)\n",
      "\u001b[K     |████████████████████████████████| 3.5 MB 14.9 MB/s eta 0:00:01\n",
      "\u001b[?25hCollecting google-auth-oauthlib<0.5,>=0.4.1\n",
      "  Downloading google_auth_oauthlib-0.4.6-py2.py3-none-any.whl (18 kB)\n",
      "Collecting werkzeug>=0.11.15\n",
      "  Downloading Werkzeug-2.1.2-py3-none-any.whl (224 kB)\n",
      "\u001b[K     |████████████████████████████████| 224 kB 8.5 MB/s eta 0:00:01\n",
      "\u001b[?25hCollecting markdown>=2.6.8\n",
      "  Downloading Markdown-3.3.7-py3-none-any.whl (97 kB)\n",
      "\u001b[K     |████████████████████████████████| 97 kB 9.5 MB/s  eta 0:00:01\n",
      "\u001b[?25hCollecting pyasn1-modules>=0.2.1\n",
      "  Using cached pyasn1_modules-0.2.8-py2.py3-none-any.whl (155 kB)\n",
      "Collecting rsa<5,>=3.1.4\n",
      "  Using cached rsa-4.8-py3-none-any.whl (39 kB)\n",
      "Collecting cachetools<6.0,>=2.0.0\n",
      "  Downloading cachetools-5.0.0-py3-none-any.whl (9.1 kB)\n",
      "Collecting requests-oauthlib>=0.7.0\n",
      "  Using cached requests_oauthlib-1.3.1-py2.py3-none-any.whl (23 kB)\n",
      "Collecting importlib-metadata>=4.4\n",
      "  Using cached importlib_metadata-4.11.3-py3-none-any.whl (18 kB)\n",
      "Collecting zipp>=0.5\n",
      "  Using cached zipp-3.8.0-py3-none-any.whl (5.4 kB)\n",
      "Collecting pyasn1<0.5.0,>=0.4.6\n",
      "  Using cached pyasn1-0.4.8-py2.py3-none-any.whl (77 kB)\n",
      "Requirement already satisfied: charset-normalizer~=2.0.0 in ./venv/lib/python3.8/site-packages (from requests<3,>=2.21.0->tensorboard<2.9,>=2.8->tensorflow->keras-tcn) (2.0.4)\n",
      "Requirement already satisfied: urllib3<1.27,>=1.21.1 in ./venv/lib/python3.8/site-packages (from requests<3,>=2.21.0->tensorboard<2.9,>=2.8->tensorflow->keras-tcn) (1.26.6)\n",
      "Requirement already satisfied: idna<4,>=2.5 in ./venv/lib/python3.8/site-packages (from requests<3,>=2.21.0->tensorboard<2.9,>=2.8->tensorflow->keras-tcn) (3.2)\n",
      "Requirement already satisfied: certifi>=2017.4.17 in ./venv/lib/python3.8/site-packages (from requests<3,>=2.21.0->tensorboard<2.9,>=2.8->tensorflow->keras-tcn) (2021.5.30)\n",
      "Collecting oauthlib>=3.0.0\n",
      "  Using cached oauthlib-3.2.0-py3-none-any.whl (151 kB)\n",
      "Collecting typeguard>=2.7\n",
      "  Downloading typeguard-2.13.3-py3-none-any.whl (17 kB)\n",
      "Building wheels for collected packages: termcolor\n",
      "  Building wheel for termcolor (setup.py) ... \u001b[?25ldone\n",
      "\u001b[?25h  Created wheel for termcolor: filename=termcolor-1.1.0-py3-none-any.whl size=4847 sha256=1a7ea49d250efd72ed7a16e0f75793fa70d81af7b7f64a8b70f3db82c5d1a881\n",
      "  Stored in directory: /Users/rafael/Library/Caches/pip/wheels/a0/16/9c/5473df82468f958445479c59e784896fa24f4a5fc024b0f501\n",
      "Successfully built termcolor\n",
      "Installing collected packages: pyasn1, zipp, rsa, pyasn1-modules, oauthlib, cachetools, requests-oauthlib, importlib-metadata, google-auth, werkzeug, tensorboard-plugin-wit, tensorboard-data-server, markdown, grpcio, google-auth-oauthlib, absl-py, wrapt, typeguard, tf-estimator-nightly, termcolor, tensorflow-io-gcs-filesystem, tensorboard, opt-einsum, libclang, keras-preprocessing, keras, h5py, google-pasta, gast, flatbuffers, astunparse, tensorflow-addons, tensorflow, keras-tcn\n",
      "Successfully installed absl-py-1.0.0 astunparse-1.6.3 cachetools-5.0.0 flatbuffers-2.0 gast-0.5.3 google-auth-2.6.6 google-auth-oauthlib-0.4.6 google-pasta-0.2.0 grpcio-1.46.0 h5py-3.6.0 importlib-metadata-4.11.3 keras-2.8.0 keras-preprocessing-1.1.2 keras-tcn-3.4.3 libclang-14.0.1 markdown-3.3.7 oauthlib-3.2.0 opt-einsum-3.3.0 pyasn1-0.4.8 pyasn1-modules-0.2.8 requests-oauthlib-1.3.1 rsa-4.8 tensorboard-2.8.0 tensorboard-data-server-0.6.1 tensorboard-plugin-wit-1.8.1 tensorflow-2.8.0 tensorflow-addons-0.16.1 tensorflow-io-gcs-filesystem-0.25.0 termcolor-1.1.0 tf-estimator-nightly-2.8.0.dev2021122109 typeguard-2.13.3 werkzeug-2.1.2 wrapt-1.14.1 zipp-3.8.0\n",
      "\u001b[33mWARNING: You are using pip version 21.2.4; however, version 22.0.4 is available.\n",
      "You should consider upgrading via the '/Users/rafael/PycharmProjects/etherscan/venv/bin/python3 -m pip install --upgrade pip' command.\u001b[0m\n",
      "Note: you may need to restart the kernel to use updated packages.\n"
     ]
    }
   ],
   "source": [
    "pip install keras-tcn"
   ]
  },
  {
   "cell_type": "code",
   "execution_count": null,
   "id": "322564c8-2df6-43bb-835c-4e0bdc91eab9",
   "metadata": {},
   "outputs": [],
   "source": []
  },
  {
   "cell_type": "code",
   "execution_count": 45,
   "id": "8d29ea7f-5785-47ad-af94-0594f5011869",
   "metadata": {},
   "outputs": [],
   "source": [
    "#using TDIDF ()\n",
    "# is a handy algorithm that uses the frequency of words to determine how relevant those words are to a given document.\n",
    "# It’s a relatively simple but intuitive approach to weighting words,\n",
    "# allowing it to act as a great jumping off point for a variety of tasks\n",
    "\n",
    "from sklearn.feature_extraction.text import TfidfVectorizer\n",
    "import pandas as pd"
   ]
  },
  {
   "cell_type": "code",
   "execution_count": null,
   "id": "5c2ec10a-b79d-44ca-a7d3-30d9b54bcabe",
   "metadata": {},
   "outputs": [],
   "source": []
  }
 ],
 "metadata": {
  "kernelspec": {
   "display_name": "Python 3 (ipykernel)",
   "language": "python",
   "name": "python3"
  },
  "language_info": {
   "codemirror_mode": {
    "name": "ipython",
    "version": 3
   },
   "file_extension": ".py",
   "mimetype": "text/x-python",
   "name": "python",
   "nbconvert_exporter": "python",
   "pygments_lexer": "ipython3",
   "version": "3.8.9"
  }
 },
 "nbformat": 4,
 "nbformat_minor": 5
}
