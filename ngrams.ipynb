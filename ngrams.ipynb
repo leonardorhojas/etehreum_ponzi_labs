{
 "cells": [
  {
   "cell_type": "code",
   "execution_count": null,
   "id": "1db1e2b2-056c-4458-ba68-82a5a55a8a1e",
   "metadata": {},
   "outputs": [],
   "source": [
    "!pip install  -r requirements.txt\n"
   ]
  },
  {
   "cell_type": "code",
   "execution_count": 2,
   "id": "8b341d60-0d8c-425e-a2bb-e32e047400e3",
   "metadata": {},
   "outputs": [],
   "source": [
    "import json, requests\n",
    "import argparse\n",
    "import sys\n",
    "import csv\n",
    "import datetime, dateutil.parser\n",
    "\n",
    "# lienar algebra library\n",
    "\n",
    "import pandas as pd\n",
    "import time\n",
    "import re\n",
    "import numpy as np\n",
    "\n",
    "import matplotlib as mpl\n",
    "import matplotlib.pyplot as plt\n",
    "import seaborn as sns\n",
    "import string\n",
    "from sklearn.feature_extraction.text import TfidfVectorizer\n",
    "from sklearn.model_selection import train_test_split\n",
    "from nltk.stem import SnowballStemmer\n",
    "from nltk.corpus import stopwords\n",
    "%matplotlib inline"
   ]
  },
  {
   "cell_type": "code",
   "execution_count": 3,
   "id": "a9da8db2-6e6b-48e2-80c4-fccd6eb9c4c6",
   "metadata": {},
   "outputs": [],
   "source": [
    "data_path = \"ehterumOpcodes_datset.xlsx\"\n",
    "data = pd.read_excel(data_path, engine='openpyxl')\n",
    "\n",
    "# Check if the 'opcodes' column is present\n",
    "if 'opcodes' in data.columns:\n",
    "    text_feat = data['opcodes'].copy()\n",
    "else:\n",
    "    print(\"The column 'opcodes' doesn't exist in the provided spreadsheet.\")"
   ]
  },
  {
   "cell_type": "code",
   "execution_count": 4,
   "id": "c0417ed5-e095-47f6-8754-fe804b7db485",
   "metadata": {},
   "outputs": [
    {
     "data": {
      "text/html": [
       "<div>\n",
       "<style scoped>\n",
       "    .dataframe tbody tr th:only-of-type {\n",
       "        vertical-align: middle;\n",
       "    }\n",
       "\n",
       "    .dataframe tbody tr th {\n",
       "        vertical-align: top;\n",
       "    }\n",
       "\n",
       "    .dataframe thead th {\n",
       "        text-align: right;\n",
       "    }\n",
       "</style>\n",
       "<table border=\"1\" class=\"dataframe\">\n",
       "  <thead>\n",
       "    <tr style=\"text-align: right;\">\n",
       "      <th></th>\n",
       "      <th>Id</th>\n",
       "      <th>Name</th>\n",
       "      <th>Address</th>\n",
       "      <th>In Tx</th>\n",
       "      <th>Out Tx</th>\n",
       "      <th>In ETH</th>\n",
       "      <th>Out ETH</th>\n",
       "      <th>In USD</th>\n",
       "      <th>Out USD</th>\n",
       "      <th>Paying</th>\n",
       "      <th>Paid</th>\n",
       "      <th>Date 1st Tx</th>\n",
       "      <th>Date last Tx</th>\n",
       "      <th>Lifetime</th>\n",
       "      <th>Sources</th>\n",
       "      <th>Type</th>\n",
       "      <th>opcodes</th>\n",
       "    </tr>\n",
       "  </thead>\n",
       "  <tbody>\n",
       "    <tr>\n",
       "      <th>0</th>\n",
       "      <td>1</td>\n",
       "      <td>Government</td>\n",
       "      <td>0xf45717552f12ef7cb65e95476f217ea008167ae3</td>\n",
       "      <td>723.0</td>\n",
       "      <td>846.0</td>\n",
       "      <td>2.938886e+07</td>\n",
       "      <td>2.938886e+07</td>\n",
       "      <td>35.738</td>\n",
       "      <td>$40,066.24</td>\n",
       "      <td>40.0</td>\n",
       "      <td>27.0</td>\n",
       "      <td>2016-03-08</td>\n",
       "      <td>2017-03-20</td>\n",
       "      <td>377.0</td>\n",
       "      <td>NaN</td>\n",
       "      <td>Ponzi</td>\n",
       "      <td>PUSH1 PUSH1 MSTORE CALLDATASIZE ISZERO PUSH2 J...</td>\n",
       "    </tr>\n",
       "    <tr>\n",
       "      <th>1</th>\n",
       "      <td>2</td>\n",
       "      <td>EthereumPyramid</td>\n",
       "      <td>0x7011f3edc7fa43c81440f9f43a6458174113b162</td>\n",
       "      <td>978.0</td>\n",
       "      <td>339.0</td>\n",
       "      <td>9.860812e+09</td>\n",
       "      <td>9.167812e+09</td>\n",
       "      <td>5.044</td>\n",
       "      <td>$5,290.46</td>\n",
       "      <td>327.0</td>\n",
       "      <td>125.0</td>\n",
       "      <td>2015-09-07</td>\n",
       "      <td>2018-04-11</td>\n",
       "      <td>947.0</td>\n",
       "      <td>NaN</td>\n",
       "      <td>Ponzi</td>\n",
       "      <td>PUSH1 PUSH1 MSTORE CALLDATASIZE ISZERO PUSH2 J...</td>\n",
       "    </tr>\n",
       "    <tr>\n",
       "      <th>2</th>\n",
       "      <td>3</td>\n",
       "      <td>ProtectTheCastle2</td>\n",
       "      <td>0x7d56485e026d5d3881f778e99969d2b1f90c50af</td>\n",
       "      <td>890.0</td>\n",
       "      <td>1257.0</td>\n",
       "      <td>1.332225e+08</td>\n",
       "      <td>1.332225e+08</td>\n",
       "      <td>186.04</td>\n",
       "      <td>$190,802.38</td>\n",
       "      <td>101.0</td>\n",
       "      <td>68.0</td>\n",
       "      <td>2016-03-20</td>\n",
       "      <td>2018-02-22</td>\n",
       "      <td>704.0</td>\n",
       "      <td>NaN</td>\n",
       "      <td>Ponzi</td>\n",
       "      <td>PUSH1 PUSH1 MSTORE CALLDATASIZE ISZERO PUSH2 J...</td>\n",
       "    </tr>\n",
       "    <tr>\n",
       "      <th>3</th>\n",
       "      <td>4</td>\n",
       "      <td>TreasureChest</td>\n",
       "      <td>0x4865e85c72a27ca6c362da75ba6707c07464b953</td>\n",
       "      <td>73.0</td>\n",
       "      <td>1197.0</td>\n",
       "      <td>8.755649e+09</td>\n",
       "      <td>8.738955e+09</td>\n",
       "      <td>946</td>\n",
       "      <td>$940.82</td>\n",
       "      <td>16.0</td>\n",
       "      <td>10.0</td>\n",
       "      <td>2016-03-26</td>\n",
       "      <td>2016-04-07</td>\n",
       "      <td>12.0</td>\n",
       "      <td>NaN</td>\n",
       "      <td>Ponzi</td>\n",
       "      <td>PUSH1 PUSH1 MSTORE CALLDATASIZE ISZERO PUSH2 J...</td>\n",
       "    </tr>\n",
       "    <tr>\n",
       "      <th>4</th>\n",
       "      <td>5</td>\n",
       "      <td>ZeroPonzi</td>\n",
       "      <td>0x43bbc7fafb860d974037b8f7dd06b6f6fe799b3e</td>\n",
       "      <td>627.0</td>\n",
       "      <td>499.0</td>\n",
       "      <td>4.489784e+09</td>\n",
       "      <td>4.489177e+09</td>\n",
       "      <td>49.816</td>\n",
       "      <td>$49,770.97</td>\n",
       "      <td>47.0</td>\n",
       "      <td>28.0</td>\n",
       "      <td>2016-04-04</td>\n",
       "      <td>2017-10-27</td>\n",
       "      <td>571.0</td>\n",
       "      <td>NaN</td>\n",
       "      <td>Ponzi</td>\n",
       "      <td>PUSH1 PUSH1 MSTORE CALLDATASIZE ISZERO PUSH2 J...</td>\n",
       "    </tr>\n",
       "  </tbody>\n",
       "</table>\n",
       "</div>"
      ],
      "text/plain": [
       "   Id               Name                                     Address  In Tx  \\\n",
       "0   1         Government  0xf45717552f12ef7cb65e95476f217ea008167ae3  723.0   \n",
       "1   2    EthereumPyramid  0x7011f3edc7fa43c81440f9f43a6458174113b162  978.0   \n",
       "2   3  ProtectTheCastle2  0x7d56485e026d5d3881f778e99969d2b1f90c50af  890.0   \n",
       "3   4      TreasureChest  0x4865e85c72a27ca6c362da75ba6707c07464b953   73.0   \n",
       "4   5          ZeroPonzi  0x43bbc7fafb860d974037b8f7dd06b6f6fe799b3e  627.0   \n",
       "\n",
       "   Out Tx        In ETH       Out ETH  In USD      Out USD  Paying   Paid  \\\n",
       "0   846.0  2.938886e+07  2.938886e+07  35.738   $40,066.24    40.0   27.0   \n",
       "1   339.0  9.860812e+09  9.167812e+09   5.044    $5,290.46   327.0  125.0   \n",
       "2  1257.0  1.332225e+08  1.332225e+08  186.04  $190,802.38   101.0   68.0   \n",
       "3  1197.0  8.755649e+09  8.738955e+09     946      $940.82    16.0   10.0   \n",
       "4   499.0  4.489784e+09  4.489177e+09  49.816   $49,770.97    47.0   28.0   \n",
       "\n",
       "  Date 1st Tx Date last Tx  Lifetime  Sources   Type  \\\n",
       "0  2016-03-08   2017-03-20     377.0      NaN  Ponzi   \n",
       "1  2015-09-07   2018-04-11     947.0      NaN  Ponzi   \n",
       "2  2016-03-20   2018-02-22     704.0      NaN  Ponzi   \n",
       "3  2016-03-26   2016-04-07      12.0      NaN  Ponzi   \n",
       "4  2016-04-04   2017-10-27     571.0      NaN  Ponzi   \n",
       "\n",
       "                                             opcodes  \n",
       "0  PUSH1 PUSH1 MSTORE CALLDATASIZE ISZERO PUSH2 J...  \n",
       "1  PUSH1 PUSH1 MSTORE CALLDATASIZE ISZERO PUSH2 J...  \n",
       "2  PUSH1 PUSH1 MSTORE CALLDATASIZE ISZERO PUSH2 J...  \n",
       "3  PUSH1 PUSH1 MSTORE CALLDATASIZE ISZERO PUSH2 J...  \n",
       "4  PUSH1 PUSH1 MSTORE CALLDATASIZE ISZERO PUSH2 J...  "
      ]
     },
     "execution_count": 4,
     "metadata": {},
     "output_type": "execute_result"
    }
   ],
   "source": [
    "data.head()"
   ]
  },
  {
   "cell_type": "code",
   "execution_count": 5,
   "id": "497186a9-80c2-4298-91a5-c603a4ca73ab",
   "metadata": {},
   "outputs": [],
   "source": [
    "data_filtered = pd.concat([data['Type'], data['opcodes']], axis=1)"
   ]
  },
  {
   "cell_type": "code",
   "execution_count": 6,
   "id": "f4ab3f64-f8ab-4576-9109-c9c17b9aa042",
   "metadata": {},
   "outputs": [
    {
     "data": {
      "text/html": [
       "<div>\n",
       "<style scoped>\n",
       "    .dataframe tbody tr th:only-of-type {\n",
       "        vertical-align: middle;\n",
       "    }\n",
       "\n",
       "    .dataframe tbody tr th {\n",
       "        vertical-align: top;\n",
       "    }\n",
       "\n",
       "    .dataframe thead th {\n",
       "        text-align: right;\n",
       "    }\n",
       "</style>\n",
       "<table border=\"1\" class=\"dataframe\">\n",
       "  <thead>\n",
       "    <tr style=\"text-align: right;\">\n",
       "      <th></th>\n",
       "      <th>Type</th>\n",
       "      <th>opcodes</th>\n",
       "    </tr>\n",
       "  </thead>\n",
       "  <tbody>\n",
       "    <tr>\n",
       "      <th>0</th>\n",
       "      <td>Ponzi</td>\n",
       "      <td>PUSH1 PUSH1 MSTORE CALLDATASIZE ISZERO PUSH2 J...</td>\n",
       "    </tr>\n",
       "    <tr>\n",
       "      <th>1</th>\n",
       "      <td>Ponzi</td>\n",
       "      <td>PUSH1 PUSH1 MSTORE CALLDATASIZE ISZERO PUSH2 J...</td>\n",
       "    </tr>\n",
       "    <tr>\n",
       "      <th>2</th>\n",
       "      <td>Ponzi</td>\n",
       "      <td>PUSH1 PUSH1 MSTORE CALLDATASIZE ISZERO PUSH2 J...</td>\n",
       "    </tr>\n",
       "    <tr>\n",
       "      <th>3</th>\n",
       "      <td>Ponzi</td>\n",
       "      <td>PUSH1 PUSH1 MSTORE CALLDATASIZE ISZERO PUSH2 J...</td>\n",
       "    </tr>\n",
       "    <tr>\n",
       "      <th>4</th>\n",
       "      <td>Ponzi</td>\n",
       "      <td>PUSH1 PUSH1 MSTORE CALLDATASIZE ISZERO PUSH2 J...</td>\n",
       "    </tr>\n",
       "  </tbody>\n",
       "</table>\n",
       "</div>"
      ],
      "text/plain": [
       "    Type                                            opcodes\n",
       "0  Ponzi  PUSH1 PUSH1 MSTORE CALLDATASIZE ISZERO PUSH2 J...\n",
       "1  Ponzi  PUSH1 PUSH1 MSTORE CALLDATASIZE ISZERO PUSH2 J...\n",
       "2  Ponzi  PUSH1 PUSH1 MSTORE CALLDATASIZE ISZERO PUSH2 J...\n",
       "3  Ponzi  PUSH1 PUSH1 MSTORE CALLDATASIZE ISZERO PUSH2 J...\n",
       "4  Ponzi  PUSH1 PUSH1 MSTORE CALLDATASIZE ISZERO PUSH2 J..."
      ]
     },
     "execution_count": 6,
     "metadata": {},
     "output_type": "execute_result"
    }
   ],
   "source": [
    "data_filtered.head()"
   ]
  },
  {
   "cell_type": "code",
   "execution_count": 7,
   "id": "e2f9204e-2765-4fa2-855c-8ee5b7393ab3",
   "metadata": {},
   "outputs": [
    {
     "data": {
      "text/html": [
       "<div>\n",
       "<style scoped>\n",
       "    .dataframe tbody tr th:only-of-type {\n",
       "        vertical-align: middle;\n",
       "    }\n",
       "\n",
       "    .dataframe tbody tr th {\n",
       "        vertical-align: top;\n",
       "    }\n",
       "\n",
       "    .dataframe thead tr th {\n",
       "        text-align: left;\n",
       "    }\n",
       "\n",
       "    .dataframe thead tr:last-of-type th {\n",
       "        text-align: right;\n",
       "    }\n",
       "</style>\n",
       "<table border=\"1\" class=\"dataframe\">\n",
       "  <thead>\n",
       "    <tr>\n",
       "      <th></th>\n",
       "      <th colspan=\"8\" halign=\"left\">Id</th>\n",
       "      <th colspan=\"2\" halign=\"left\">In Tx</th>\n",
       "      <th>...</th>\n",
       "      <th colspan=\"2\" halign=\"left\">Lifetime</th>\n",
       "      <th colspan=\"8\" halign=\"left\">Sources</th>\n",
       "    </tr>\n",
       "    <tr>\n",
       "      <th></th>\n",
       "      <th>count</th>\n",
       "      <th>mean</th>\n",
       "      <th>std</th>\n",
       "      <th>min</th>\n",
       "      <th>25%</th>\n",
       "      <th>50%</th>\n",
       "      <th>75%</th>\n",
       "      <th>max</th>\n",
       "      <th>count</th>\n",
       "      <th>mean</th>\n",
       "      <th>...</th>\n",
       "      <th>75%</th>\n",
       "      <th>max</th>\n",
       "      <th>count</th>\n",
       "      <th>mean</th>\n",
       "      <th>std</th>\n",
       "      <th>min</th>\n",
       "      <th>25%</th>\n",
       "      <th>50%</th>\n",
       "      <th>75%</th>\n",
       "      <th>max</th>\n",
       "    </tr>\n",
       "    <tr>\n",
       "      <th>Type</th>\n",
       "      <th></th>\n",
       "      <th></th>\n",
       "      <th></th>\n",
       "      <th></th>\n",
       "      <th></th>\n",
       "      <th></th>\n",
       "      <th></th>\n",
       "      <th></th>\n",
       "      <th></th>\n",
       "      <th></th>\n",
       "      <th></th>\n",
       "      <th></th>\n",
       "      <th></th>\n",
       "      <th></th>\n",
       "      <th></th>\n",
       "      <th></th>\n",
       "      <th></th>\n",
       "      <th></th>\n",
       "      <th></th>\n",
       "      <th></th>\n",
       "      <th></th>\n",
       "    </tr>\n",
       "  </thead>\n",
       "  <tbody>\n",
       "    <tr>\n",
       "      <th>Legal</th>\n",
       "      <td>1635.0</td>\n",
       "      <td>1002.0</td>\n",
       "      <td>472.128161</td>\n",
       "      <td>185.0</td>\n",
       "      <td>593.50</td>\n",
       "      <td>1002.0</td>\n",
       "      <td>1410.50</td>\n",
       "      <td>1819.0</td>\n",
       "      <td>0.0</td>\n",
       "      <td>NaN</td>\n",
       "      <td>...</td>\n",
       "      <td>NaN</td>\n",
       "      <td>NaN</td>\n",
       "      <td>0.0</td>\n",
       "      <td>NaN</td>\n",
       "      <td>NaN</td>\n",
       "      <td>NaN</td>\n",
       "      <td>NaN</td>\n",
       "      <td>NaN</td>\n",
       "      <td>NaN</td>\n",
       "      <td>NaN</td>\n",
       "    </tr>\n",
       "    <tr>\n",
       "      <th>Ponzi</th>\n",
       "      <td>184.0</td>\n",
       "      <td>92.5</td>\n",
       "      <td>53.260367</td>\n",
       "      <td>1.0</td>\n",
       "      <td>46.75</td>\n",
       "      <td>92.5</td>\n",
       "      <td>138.25</td>\n",
       "      <td>184.0</td>\n",
       "      <td>184.0</td>\n",
       "      <td>99.429348</td>\n",
       "      <td>...</td>\n",
       "      <td>533.5</td>\n",
       "      <td>1050.0</td>\n",
       "      <td>0.0</td>\n",
       "      <td>NaN</td>\n",
       "      <td>NaN</td>\n",
       "      <td>NaN</td>\n",
       "      <td>NaN</td>\n",
       "      <td>NaN</td>\n",
       "      <td>NaN</td>\n",
       "      <td>NaN</td>\n",
       "    </tr>\n",
       "  </tbody>\n",
       "</table>\n",
       "<p>2 rows × 72 columns</p>\n",
       "</div>"
      ],
      "text/plain": [
       "           Id                                                              \\\n",
       "        count    mean         std    min     25%     50%      75%     max   \n",
       "Type                                                                        \n",
       "Legal  1635.0  1002.0  472.128161  185.0  593.50  1002.0  1410.50  1819.0   \n",
       "Ponzi   184.0    92.5   53.260367    1.0   46.75    92.5   138.25   184.0   \n",
       "\n",
       "       In Tx             ... Lifetime         Sources                       \\\n",
       "       count       mean  ...      75%     max   count mean std min 25% 50%   \n",
       "Type                     ...                                                 \n",
       "Legal    0.0        NaN  ...      NaN     NaN     0.0  NaN NaN NaN NaN NaN   \n",
       "Ponzi  184.0  99.429348  ...    533.5  1050.0     0.0  NaN NaN NaN NaN NaN   \n",
       "\n",
       "               \n",
       "      75% max  \n",
       "Type           \n",
       "Legal NaN NaN  \n",
       "Ponzi NaN NaN  \n",
       "\n",
       "[2 rows x 72 columns]"
      ]
     },
     "execution_count": 7,
     "metadata": {},
     "output_type": "execute_result"
    }
   ],
   "source": [
    "data.groupby('Type').describe()"
   ]
  },
  {
   "cell_type": "code",
   "execution_count": 10,
   "id": "d9f653c6-e073-4122-a5d5-eac15c3f4cf6",
   "metadata": {},
   "outputs": [
    {
     "data": {
      "text/plain": [
       "0       PUSH1 PUSH1 MSTORE CALLDATASIZE ISZERO PUSH2 J...\n",
       "1       PUSH1 PUSH1 MSTORE CALLDATASIZE ISZERO PUSH2 J...\n",
       "2       PUSH1 PUSH1 MSTORE CALLDATASIZE ISZERO PUSH2 J...\n",
       "3       PUSH1 PUSH1 MSTORE CALLDATASIZE ISZERO PUSH2 J...\n",
       "4       PUSH1 PUSH1 MSTORE CALLDATASIZE ISZERO PUSH2 J...\n",
       "                              ...                        \n",
       "1815    PUSH1 PUSH1 MSTORE CALLVALUE DUP1 ISZERO PUSH2...\n",
       "1816    PUSH1 PUSH1 MSTORE CALLVALUE DUP1 ISZERO PUSH2...\n",
       "1817    PUSH1 PUSH1 MSTORE CALLVALUE DUP1 ISZERO PUSH2...\n",
       "1818                                                  NaN\n",
       "1819    PUSH1 PUSH1 MSTORE CALLDATASIZE ISZERO PUSH2 J...\n",
       "Name: opcodes, Length: 1820, dtype: object"
      ]
     },
     "execution_count": 10,
     "metadata": {},
     "output_type": "execute_result"
    }
   ],
   "source": [
    "data_filtered['opcodes']"
   ]
  },
  {
   "cell_type": "code",
   "execution_count": 11,
   "id": "88159928-d439-4108-9b0c-7c36b9d57621",
   "metadata": {},
   "outputs": [],
   "source": [
    "data_filtered = data_filtered[data_filtered['opcodes'].apply(isinstance, args=(str,))]\n"
   ]
  },
  {
   "cell_type": "code",
   "execution_count": 12,
   "id": "7d52ef7f-ee03-45d6-8f6f-ec9cd660f11d",
   "metadata": {},
   "outputs": [],
   "source": [
    "data_filtered['length'] = data_filtered['opcodes'].apply(len)\n"
   ]
  },
  {
   "cell_type": "code",
   "execution_count": 13,
   "id": "c68d4539-5f15-40d7-a60e-d9f3ba80ff98",
   "metadata": {},
   "outputs": [
    {
     "data": {
      "text/html": [
       "<div>\n",
       "<style scoped>\n",
       "    .dataframe tbody tr th:only-of-type {\n",
       "        vertical-align: middle;\n",
       "    }\n",
       "\n",
       "    .dataframe tbody tr th {\n",
       "        vertical-align: top;\n",
       "    }\n",
       "\n",
       "    .dataframe thead th {\n",
       "        text-align: right;\n",
       "    }\n",
       "</style>\n",
       "<table border=\"1\" class=\"dataframe\">\n",
       "  <thead>\n",
       "    <tr style=\"text-align: right;\">\n",
       "      <th></th>\n",
       "      <th>Type</th>\n",
       "      <th>opcodes</th>\n",
       "      <th>length</th>\n",
       "    </tr>\n",
       "  </thead>\n",
       "  <tbody>\n",
       "    <tr>\n",
       "      <th>0</th>\n",
       "      <td>Ponzi</td>\n",
       "      <td>PUSH1 PUSH1 MSTORE CALLDATASIZE ISZERO PUSH2 J...</td>\n",
       "      <td>10857</td>\n",
       "    </tr>\n",
       "    <tr>\n",
       "      <th>1</th>\n",
       "      <td>Ponzi</td>\n",
       "      <td>PUSH1 PUSH1 MSTORE CALLDATASIZE ISZERO PUSH2 J...</td>\n",
       "      <td>9441</td>\n",
       "    </tr>\n",
       "    <tr>\n",
       "      <th>2</th>\n",
       "      <td>Ponzi</td>\n",
       "      <td>PUSH1 PUSH1 MSTORE CALLDATASIZE ISZERO PUSH2 J...</td>\n",
       "      <td>6189</td>\n",
       "    </tr>\n",
       "    <tr>\n",
       "      <th>3</th>\n",
       "      <td>Ponzi</td>\n",
       "      <td>PUSH1 PUSH1 MSTORE CALLDATASIZE ISZERO PUSH2 J...</td>\n",
       "      <td>2859</td>\n",
       "    </tr>\n",
       "    <tr>\n",
       "      <th>4</th>\n",
       "      <td>Ponzi</td>\n",
       "      <td>PUSH1 PUSH1 MSTORE CALLDATASIZE ISZERO PUSH2 J...</td>\n",
       "      <td>32767</td>\n",
       "    </tr>\n",
       "  </tbody>\n",
       "</table>\n",
       "</div>"
      ],
      "text/plain": [
       "    Type                                            opcodes  length\n",
       "0  Ponzi  PUSH1 PUSH1 MSTORE CALLDATASIZE ISZERO PUSH2 J...   10857\n",
       "1  Ponzi  PUSH1 PUSH1 MSTORE CALLDATASIZE ISZERO PUSH2 J...    9441\n",
       "2  Ponzi  PUSH1 PUSH1 MSTORE CALLDATASIZE ISZERO PUSH2 J...    6189\n",
       "3  Ponzi  PUSH1 PUSH1 MSTORE CALLDATASIZE ISZERO PUSH2 J...    2859\n",
       "4  Ponzi  PUSH1 PUSH1 MSTORE CALLDATASIZE ISZERO PUSH2 J...   32767"
      ]
     },
     "execution_count": 13,
     "metadata": {},
     "output_type": "execute_result"
    }
   ],
   "source": [
    "data_filtered.head()"
   ]
  },
  {
   "cell_type": "code",
   "execution_count": 14,
   "id": "78ca6a99-cf48-420f-abed-ec1150002671",
   "metadata": {},
   "outputs": [
    {
     "data": {
      "text/plain": [
       "array([<AxesSubplot:title={'center':'Legal'}>,\n",
       "       <AxesSubplot:title={'center':'Ponzi'}>], dtype=object)"
      ]
     },
     "execution_count": 14,
     "metadata": {},
     "output_type": "execute_result"
    },
    {
     "data": {
      "image/png": "[encoded data removed]",
      "text/plain": [
       "<Figure size 792x360 with 2 Axes>"
      ]
     },
     "metadata": {
      "needs_background": "light"
     },
     "output_type": "display_data"
    }
   ],
   "source": [
    "mpl.rcParams['patch.force_edgecolor'] = True\n",
    "plt.style.use('seaborn-bright')\n",
    "data_filtered.hist(column='length', by='Type', bins=50,figsize=(11,5))"
   ]
  },
  {
   "cell_type": "code",
   "execution_count": 15,
   "id": "ef07fb02-9ebb-440a-be3a-cfef66811aa6",
   "metadata": {},
   "outputs": [],
   "source": [
    "text_feat = data_filtered['opcodes'].copy()"
   ]
  },
  {
   "cell_type": "code",
   "execution_count": 16,
   "id": "ddd9348d-1896-4e11-9d80-923c0a2e40a7",
   "metadata": {},
   "outputs": [],
   "source": [
    "def text_process(text):\n",
    "    \n",
    "    text = text.translate(str.maketrans('', '', string.punctuation))\n",
    "    #text = [word for word in text.split() if word.lower() not in stopwords.words('english')]\n",
    "    #TODO:implement stopwords list for some special cases\n",
    "    text = [word for word in text.split()]\n",
    "    return \" \".join(text)"
   ]
  },
  {
   "cell_type": "code",
   "execution_count": 17,
   "id": "9e8c5d5e-c2a2-486d-a0f3-fc302f84880f",
   "metadata": {},
   "outputs": [],
   "source": [
    "text_feat = text_feat.apply(text_process)"
   ]
  },
  {
   "cell_type": "code",
   "execution_count": 32,
   "id": "dd8a11d4-4a7f-4abb-b959-3868b4f951f2",
   "metadata": {},
   "outputs": [],
   "source": [
    "# Ngrams=3\n",
    "vectorizer = TfidfVectorizer(tokenizer=str.split, ngram_range=(1, 3))\n",
    "features = vectorizer.fit_transform(text_feat)\n",
    "data_filtered = data_filtered.dropna(subset=['Type'])\n",
    "features = vectorizer.fit_transform(data_filtered['opcodes'])\n",
    "\n",
    "features_train, features_test, labels_train, labels_test = train_test_split(\n",
    "    features, \n",
    "    data_filtered['Type'], \n",
    "    test_size=0.3, \n",
    "    random_state=111, \n",
    "    stratify=data_filtered['Type']\n",
    ")"
   ]
  },
  {
   "cell_type": "code",
   "execution_count": 33,
   "id": "34c07df2-98d0-45f2-83d9-073657bc6ee2",
   "metadata": {},
   "outputs": [],
   "source": [
    "from sklearn.linear_model import LogisticRegression\n",
    "from sklearn.svm import SVC\n",
    "from sklearn.naive_bayes import MultinomialNB\n",
    "from sklearn.tree import DecisionTreeClassifier\n",
    "from sklearn.neighbors import KNeighborsClassifier\n",
    "from sklearn.ensemble import RandomForestClassifier\n",
    "from sklearn.ensemble import AdaBoostClassifier\n",
    "from sklearn.ensemble import BaggingClassifier\n",
    "from sklearn.ensemble import ExtraTreesClassifier\n",
    "from sklearn.metrics import accuracy_score\n",
    "from sklearn.metrics.pairwise import cosine_similarity\n",
    "svc = SVC(kernel='sigmoid', gamma=1.0)\n",
    "knc = KNeighborsClassifier(n_neighbors=49)\n",
    "mnb = MultinomialNB(alpha=0.2)\n",
    "dtc = DecisionTreeClassifier(min_samples_split=7, random_state=111)\n",
    "lrc = LogisticRegression(solver='liblinear', penalty='l1')\n",
    "rfc = RandomForestClassifier(n_estimators=31, random_state=111)\n",
    "abc = AdaBoostClassifier(n_estimators=62, random_state=111)\n",
    "bc = BaggingClassifier(n_estimators=9, random_state=111)\n",
    "etc = ExtraTreesClassifier(n_estimators=9, random_state=111)"
   ]
  },
  {
   "cell_type": "code",
   "execution_count": 34,
   "id": "4f681460-3b4e-4caf-b276-d784201f337e",
   "metadata": {},
   "outputs": [],
   "source": [
    "clfs = {'SVC' : svc,'KN' : knc, 'NB': mnb, 'DT': dtc, 'LR': lrc, 'RF': rfc, 'AdaBoost': abc, 'BgC': bc, 'ETC': etc}\n"
   ]
  },
  {
   "cell_type": "code",
   "execution_count": 35,
   "id": "3b223474-430b-40aa-9f07-00e0bfcc526b",
   "metadata": {},
   "outputs": [],
   "source": [
    "def train_classifier(clf, feature_train, labels_train):    \n",
    "    clf.fit(feature_train, labels_train)\n",
    "def predict_labels(clf, features):\n",
    "    return (clf.predict(features))"
   ]
  },
  {
   "cell_type": "code",
   "execution_count": 36,
   "id": "42e40be4-1822-497a-8e0f-8dd41ebc3e7d",
   "metadata": {},
   "outputs": [],
   "source": [
    "\n",
    "from sklearn.metrics.pairwise import cosine_similarity\n",
    "\n",
    "# Compute the centroid vector for each class in the training data\n",
    "class_centroids = {}\n",
    "unique_labels = np.unique(labels_train)\n",
    "for label in unique_labels:\n",
    "    centroid = features_train[labels_train == label].mean(axis=0)\n",
    "    # Convert centroid to numpy array (if it's not already)\n",
    "    class_centroids[label] = np.asarray(centroid).reshape(1, -1)  # Ensure it's a 2D array\n",
    "\n",
    "    \n",
    "# Compute cosine similarity between each document and each class centroid\n",
    "similarity_features_train = np.hstack([cosine_similarity(features_train, class_centroids[label]) for label in unique_labels])\n",
    "similarity_features_test = np.hstack([cosine_similarity(features_test, class_centroids[label]) for label in unique_labels])\n",
    "# Use these similarity scores as additional features\n",
    "features_train_extended = np.hstack((features_train.toarray(), similarity_features_train))\n",
    "features_test_extended = np.hstack((features_test.toarray(), similarity_features_test))"
   ]
  },
  {
   "cell_type": "code",
   "execution_count": 37,
   "id": "234e8f4d-2a0d-4430-be34-5450c64235c4",
   "metadata": {},
   "outputs": [],
   "source": [
    "pred_scores = []\n",
    "for k,v in clfs.items():\n",
    "    train_classifier(v, features_train, labels_train)\n",
    "    pred = predict_labels(v,features_test)\n",
    "    pred_scores.append((k, accuracy_score(labels_test,pred)))\n"
   ]
  },
  {
   "cell_type": "code",
   "execution_count": 38,
   "id": "818abfe8-8d5a-4c39-a960-aeeaf3bfba3b",
   "metadata": {},
   "outputs": [
    {
     "data": {
      "text/plain": [
       "[('SVC', 0.9963302752293578),\n",
       " ('KN', 0.9798165137614679),\n",
       " ('NB', 0.9688073394495413),\n",
       " ('DT', 0.998165137614679),\n",
       " ('LR', 0.9853211009174312),\n",
       " ('RF', 0.9926605504587156),\n",
       " ('AdaBoost', 0.998165137614679),\n",
       " ('BgC', 0.9963302752293578),\n",
       " ('ETC', 0.9944954128440368)]"
      ]
     },
     "execution_count": 38,
     "metadata": {},
     "output_type": "execute_result"
    }
   ],
   "source": [
    "pred_scores"
   ]
  },
  {
   "cell_type": "code",
   "execution_count": 39,
   "id": "d3fe92ab-feb2-4d56-bda3-505b516f5cca",
   "metadata": {},
   "outputs": [
    {
     "data": {
      "text/html": [
       "<div>\n",
       "<style scoped>\n",
       "    .dataframe tbody tr th:only-of-type {\n",
       "        vertical-align: middle;\n",
       "    }\n",
       "\n",
       "    .dataframe tbody tr th {\n",
       "        vertical-align: top;\n",
       "    }\n",
       "\n",
       "    .dataframe thead th {\n",
       "        text-align: right;\n",
       "    }\n",
       "</style>\n",
       "<table border=\"1\" class=\"dataframe\">\n",
       "  <thead>\n",
       "    <tr style=\"text-align: right;\">\n",
       "      <th></th>\n",
       "      <th></th>\n",
       "      <th>Score</th>\n",
       "    </tr>\n",
       "    <tr>\n",
       "      <th></th>\n",
       "      <th></th>\n",
       "      <th></th>\n",
       "    </tr>\n",
       "  </thead>\n",
       "  <tbody>\n",
       "    <tr>\n",
       "      <th>SVC</th>\n",
       "      <td>SVC</td>\n",
       "      <td>0.996330</td>\n",
       "    </tr>\n",
       "    <tr>\n",
       "      <th>KN</th>\n",
       "      <td>KN</td>\n",
       "      <td>0.979817</td>\n",
       "    </tr>\n",
       "    <tr>\n",
       "      <th>NB</th>\n",
       "      <td>NB</td>\n",
       "      <td>0.968807</td>\n",
       "    </tr>\n",
       "    <tr>\n",
       "      <th>DT</th>\n",
       "      <td>DT</td>\n",
       "      <td>0.998165</td>\n",
       "    </tr>\n",
       "    <tr>\n",
       "      <th>LR</th>\n",
       "      <td>LR</td>\n",
       "      <td>0.985321</td>\n",
       "    </tr>\n",
       "    <tr>\n",
       "      <th>RF</th>\n",
       "      <td>RF</td>\n",
       "      <td>0.992661</td>\n",
       "    </tr>\n",
       "    <tr>\n",
       "      <th>AdaBoost</th>\n",
       "      <td>AdaBoost</td>\n",
       "      <td>0.998165</td>\n",
       "    </tr>\n",
       "    <tr>\n",
       "      <th>BgC</th>\n",
       "      <td>BgC</td>\n",
       "      <td>0.996330</td>\n",
       "    </tr>\n",
       "    <tr>\n",
       "      <th>ETC</th>\n",
       "      <td>ETC</td>\n",
       "      <td>0.994495</td>\n",
       "    </tr>\n",
       "  </tbody>\n",
       "</table>\n",
       "</div>"
      ],
      "text/plain": [
       "                       Score\n",
       "                            \n",
       "SVC            SVC  0.996330\n",
       "KN              KN  0.979817\n",
       "NB              NB  0.968807\n",
       "DT              DT  0.998165\n",
       "LR              LR  0.985321\n",
       "RF              RF  0.992661\n",
       "AdaBoost  AdaBoost  0.998165\n",
       "BgC            BgC  0.996330\n",
       "ETC            ETC  0.994495"
      ]
     },
     "execution_count": 39,
     "metadata": {},
     "output_type": "execute_result"
    }
   ],
   "source": [
    "df = pd.DataFrame.from_records(pred_scores, index='', columns=[ '', 'Score'])\n",
    "df"
   ]
  },
  {
   "cell_type": "code",
   "execution_count": 40,
   "id": "3c3e2500-4837-4de8-9c56-66dc434fd2a7",
   "metadata": {},
   "outputs": [
    {
     "data": {
      "text/plain": [
       "<matplotlib.legend.Legend at 0x1302a0d30>"
      ]
     },
     "execution_count": 40,
     "metadata": {},
     "output_type": "execute_result"
    },
    {
     "data": {
      "image/png": "[encoded data removed]",
      "text/plain": [
       "<Figure size 792x432 with 1 Axes>"
      ]
     },
     "metadata": {
      "needs_background": "light"
     },
     "output_type": "display_data"
    }
   ],
   "source": [
    "df.plot(kind='bar', ylim=(0.9,1.0), figsize=(11,6), align='center', colormap=\"Accent\")\n",
    "plt.xticks(np.arange(9), df.index)\n",
    "plt.ylabel('Accuracy Score')\n",
    "plt.title('Distribution by Classifier')\n",
    "plt.legend(bbox_to_anchor=(1.05, 1), loc=2, borderaxespad=0.)"
   ]
  },
  {
   "cell_type": "code",
   "execution_count": 41,
   "id": "fa31ee18-20b5-4ca3-a4fc-164e0716471b",
   "metadata": {},
   "outputs": [],
   "source": [
    "#N gram = n\n",
    "vectorizer = TfidfVectorizer(tokenizer=str.split, ngram_range=(1, 2))\n",
    "features = vectorizer.fit_transform(text_feat)\n",
    "data_filtered = data_filtered.dropna(subset=['Type'])\n",
    "features = vectorizer.fit_transform(data_filtered['opcodes'])\n",
    "\n",
    "features_train, features_test, labels_train, labels_test = train_test_split(\n",
    "    features, \n",
    "    data_filtered['Type'], \n",
    "    test_size=0.3, \n",
    "    random_state=111, \n",
    "    stratify=data_filtered['Type']\n",
    ")\n",
    "pred_scores = []\n",
    "for k,v in clfs.items():\n",
    "    train_classifier(v, features_train, labels_train)\n",
    "    pred = predict_labels(v,features_test)\n",
    "    pred_scores.append((k, accuracy_score(labels_test,pred)))\n",
    "pred_scores"
   ]
  },
  {
   "cell_type": "code",
   "execution_count": 46,
   "id": "5a58ecdc-1a46-4517-b3c3-a6627946eb3f",
   "metadata": {},
   "outputs": [
    {
     "data": {
      "text/html": [
       "<div>\n",
       "<style scoped>\n",
       "    .dataframe tbody tr th:only-of-type {\n",
       "        vertical-align: middle;\n",
       "    }\n",
       "\n",
       "    .dataframe tbody tr th {\n",
       "        vertical-align: top;\n",
       "    }\n",
       "\n",
       "    .dataframe thead th {\n",
       "        text-align: right;\n",
       "    }\n",
       "</style>\n",
       "<table border=\"1\" class=\"dataframe\">\n",
       "  <thead>\n",
       "    <tr style=\"text-align: right;\">\n",
       "      <th></th>\n",
       "      <th></th>\n",
       "      <th>Score</th>\n",
       "    </tr>\n",
       "    <tr>\n",
       "      <th></th>\n",
       "      <th></th>\n",
       "      <th></th>\n",
       "    </tr>\n",
       "  </thead>\n",
       "  <tbody>\n",
       "    <tr>\n",
       "      <th>SVC</th>\n",
       "      <td>SVC</td>\n",
       "      <td>0.988991</td>\n",
       "    </tr>\n",
       "    <tr>\n",
       "      <th>KN</th>\n",
       "      <td>KN</td>\n",
       "      <td>0.977982</td>\n",
       "    </tr>\n",
       "    <tr>\n",
       "      <th>NB</th>\n",
       "      <td>NB</td>\n",
       "      <td>0.954128</td>\n",
       "    </tr>\n",
       "    <tr>\n",
       "      <th>DT</th>\n",
       "      <td>DT</td>\n",
       "      <td>0.996330</td>\n",
       "    </tr>\n",
       "    <tr>\n",
       "      <th>LR</th>\n",
       "      <td>LR</td>\n",
       "      <td>0.985321</td>\n",
       "    </tr>\n",
       "    <tr>\n",
       "      <th>RF</th>\n",
       "      <td>RF</td>\n",
       "      <td>0.994495</td>\n",
       "    </tr>\n",
       "    <tr>\n",
       "      <th>AdaBoost</th>\n",
       "      <td>AdaBoost</td>\n",
       "      <td>0.998165</td>\n",
       "    </tr>\n",
       "    <tr>\n",
       "      <th>BgC</th>\n",
       "      <td>BgC</td>\n",
       "      <td>0.996330</td>\n",
       "    </tr>\n",
       "    <tr>\n",
       "      <th>ETC</th>\n",
       "      <td>ETC</td>\n",
       "      <td>0.990826</td>\n",
       "    </tr>\n",
       "  </tbody>\n",
       "</table>\n",
       "</div>"
      ],
      "text/plain": [
       "                       Score\n",
       "                            \n",
       "SVC            SVC  0.988991\n",
       "KN              KN  0.977982\n",
       "NB              NB  0.954128\n",
       "DT              DT  0.996330\n",
       "LR              LR  0.985321\n",
       "RF              RF  0.994495\n",
       "AdaBoost  AdaBoost  0.998165\n",
       "BgC            BgC  0.996330\n",
       "ETC            ETC  0.990826"
      ]
     },
     "execution_count": 46,
     "metadata": {},
     "output_type": "execute_result"
    }
   ],
   "source": [
    "df = pd.DataFrame.from_records(pred_scores, index='', columns=[ '', 'Score'])\n",
    "df"
   ]
  },
  {
   "cell_type": "code",
   "execution_count": 47,
   "id": "f446ba94-1f96-4b4e-a879-bdcf21ead2dd",
   "metadata": {},
   "outputs": [
    {
     "data": {
      "text/plain": [
       "<matplotlib.legend.Legend at 0x130a721f0>"
      ]
     },
     "execution_count": 47,
     "metadata": {},
     "output_type": "execute_result"
    },
    {
     "data": {
      "image/png": "[encoded data removed]",
      "text/plain": [
       "<Figure size 792x432 with 1 Axes>"
      ]
     },
     "metadata": {
      "needs_background": "light"
     },
     "output_type": "display_data"
    }
   ],
   "source": [
    "df.plot(kind='bar', ylim=(0.9,1.0), figsize=(11,6), align='center', colormap=\"Accent\")\n",
    "plt.xticks(np.arange(9), df.index)\n",
    "plt.ylabel('Accuracy Score')\n",
    "plt.title('Distribution by Classifier')\n",
    "plt.legend(bbox_to_anchor=(1.05, 1), loc=2, borderaxespad=0.)"
   ]
  },
  {
   "cell_type": "code",
   "execution_count": 50,
   "id": "9fe3093f-c39f-499b-8722-148424a75e6d",
   "metadata": {},
   "outputs": [
    {
     "data": {
      "text/plain": [
       "[('SVC', 0.9963302752293578),\n",
       " ('KN', 0.9761467889908257),\n",
       " ('NB', 0.9743119266055046),\n",
       " ('DT', 0.9963302752293578),\n",
       " ('LR', 0.9834862385321101),\n",
       " ('RF', 0.9908256880733946),\n",
       " ('AdaBoost', 0.9963302752293578),\n",
       " ('BgC', 0.9963302752293578),\n",
       " ('ETC', 0.9944954128440368)]"
      ]
     },
     "execution_count": 50,
     "metadata": {},
     "output_type": "execute_result"
    }
   ],
   "source": [
    "# N-gram = 5\n",
    "vectorizer = TfidfVectorizer(tokenizer=str.split, ngram_range=(1, 5))\n",
    "features = vectorizer.fit_transform(text_feat)\n",
    "data_filtered = data_filtered.dropna(subset=['Type'])\n",
    "features = vectorizer.fit_transform(data_filtered['opcodes'])\n",
    "\n",
    "features_train, features_test, labels_train, labels_test = train_test_split(\n",
    "    features, \n",
    "    data_filtered['Type'], \n",
    "    test_size=0.3, \n",
    "    random_state=111, \n",
    "    stratify=data_filtered['Type']\n",
    ")\n",
    "pred_scores = []\n",
    "for k,v in clfs.items():\n",
    "    train_classifier(v, features_train, labels_train)\n",
    "    pred = predict_labels(v,features_test)\n",
    "    pred_scores.append((k, accuracy_score(labels_test,pred)))\n",
    "pred_scores"
   ]
  },
  {
   "cell_type": "code",
   "execution_count": 51,
   "id": "8e427efc-3cfb-48ef-8714-5211d5a99c2b",
   "metadata": {},
   "outputs": [
    {
     "data": {
      "text/html": [
       "<div>\n",
       "<style scoped>\n",
       "    .dataframe tbody tr th:only-of-type {\n",
       "        vertical-align: middle;\n",
       "    }\n",
       "\n",
       "    .dataframe tbody tr th {\n",
       "        vertical-align: top;\n",
       "    }\n",
       "\n",
       "    .dataframe thead th {\n",
       "        text-align: right;\n",
       "    }\n",
       "</style>\n",
       "<table border=\"1\" class=\"dataframe\">\n",
       "  <thead>\n",
       "    <tr style=\"text-align: right;\">\n",
       "      <th></th>\n",
       "      <th></th>\n",
       "      <th>Score</th>\n",
       "    </tr>\n",
       "    <tr>\n",
       "      <th></th>\n",
       "      <th></th>\n",
       "      <th></th>\n",
       "    </tr>\n",
       "  </thead>\n",
       "  <tbody>\n",
       "    <tr>\n",
       "      <th>SVC</th>\n",
       "      <td>SVC</td>\n",
       "      <td>0.996330</td>\n",
       "    </tr>\n",
       "    <tr>\n",
       "      <th>KN</th>\n",
       "      <td>KN</td>\n",
       "      <td>0.976147</td>\n",
       "    </tr>\n",
       "    <tr>\n",
       "      <th>NB</th>\n",
       "      <td>NB</td>\n",
       "      <td>0.974312</td>\n",
       "    </tr>\n",
       "    <tr>\n",
       "      <th>DT</th>\n",
       "      <td>DT</td>\n",
       "      <td>0.996330</td>\n",
       "    </tr>\n",
       "    <tr>\n",
       "      <th>LR</th>\n",
       "      <td>LR</td>\n",
       "      <td>0.983486</td>\n",
       "    </tr>\n",
       "    <tr>\n",
       "      <th>RF</th>\n",
       "      <td>RF</td>\n",
       "      <td>0.990826</td>\n",
       "    </tr>\n",
       "    <tr>\n",
       "      <th>AdaBoost</th>\n",
       "      <td>AdaBoost</td>\n",
       "      <td>0.996330</td>\n",
       "    </tr>\n",
       "    <tr>\n",
       "      <th>BgC</th>\n",
       "      <td>BgC</td>\n",
       "      <td>0.996330</td>\n",
       "    </tr>\n",
       "    <tr>\n",
       "      <th>ETC</th>\n",
       "      <td>ETC</td>\n",
       "      <td>0.994495</td>\n",
       "    </tr>\n",
       "  </tbody>\n",
       "</table>\n",
       "</div>"
      ],
      "text/plain": [
       "                       Score\n",
       "                            \n",
       "SVC            SVC  0.996330\n",
       "KN              KN  0.976147\n",
       "NB              NB  0.974312\n",
       "DT              DT  0.996330\n",
       "LR              LR  0.983486\n",
       "RF              RF  0.990826\n",
       "AdaBoost  AdaBoost  0.996330\n",
       "BgC            BgC  0.996330\n",
       "ETC            ETC  0.994495"
      ]
     },
     "execution_count": 51,
     "metadata": {},
     "output_type": "execute_result"
    }
   ],
   "source": [
    "df = pd.DataFrame.from_records(pred_scores, index='', columns=[ '', 'Score'])\n",
    "df"
   ]
  },
  {
   "cell_type": "code",
   "execution_count": 52,
   "id": "be2cf6c1-fad2-4dfd-be3a-bbc7bfa90d5c",
   "metadata": {},
   "outputs": [
    {
     "data": {
      "text/plain": [
       "<matplotlib.legend.Legend at 0x130ba1670>"
      ]
     },
     "execution_count": 52,
     "metadata": {},
     "output_type": "execute_result"
    },
    {
     "data": {
      "image/png": "[encoded data removed]",
      "text/plain": [
       "<Figure size 792x432 with 1 Axes>"
      ]
     },
     "metadata": {
      "needs_background": "light"
     },
     "output_type": "display_data"
    }
   ],
   "source": [
    "df.plot(kind='bar', ylim=(0.9,1.0), figsize=(11,6), align='center', colormap=\"Accent\")\n",
    "plt.xticks(np.arange(9), df.index)\n",
    "plt.ylabel('Accuracy Score')\n",
    "plt.title('Distribution by Classifier')\n",
    "plt.legend(bbox_to_anchor=(1.05, 1), loc=2, borderaxespad=0.)"
   ]
  },
  {
   "cell_type": "code",
   "execution_count": 53,
   "id": "f5ec298a-4923-4ff7-b365-70446c354104",
   "metadata": {},
   "outputs": [
    {
     "data": {
      "text/plain": [
       "[('SVC', 0.9963302752293578),\n",
       " ('KN', 0.9779816513761468),\n",
       " ('NB', 0.9761467889908257),\n",
       " ('DT', 0.9944954128440368),\n",
       " ('LR', 0.981651376146789),\n",
       " ('RF', 0.9908256880733946),\n",
       " ('AdaBoost', 0.9963302752293578),\n",
       " ('BgC', 0.9944954128440368),\n",
       " ('ETC', 0.9944954128440368)]"
      ]
     },
     "execution_count": 53,
     "metadata": {},
     "output_type": "execute_result"
    }
   ],
   "source": [
    "# N-gram = 7\n",
    "vectorizer = TfidfVectorizer(tokenizer=str.split, ngram_range=(1, 7))\n",
    "features = vectorizer.fit_transform(text_feat)\n",
    "data_filtered = data_filtered.dropna(subset=['Type'])\n",
    "features = vectorizer.fit_transform(data_filtered['opcodes'])\n",
    "\n",
    "features_train, features_test, labels_train, labels_test = train_test_split(\n",
    "    features, \n",
    "    data_filtered['Type'], \n",
    "    test_size=0.3, \n",
    "    random_state=111, \n",
    "    stratify=data_filtered['Type']\n",
    ")\n",
    "pred_scores = []\n",
    "for k,v in clfs.items():\n",
    "    train_classifier(v, features_train, labels_train)\n",
    "    pred = predict_labels(v,features_test)\n",
    "    pred_scores.append((k, accuracy_score(labels_test,pred)))\n",
    "pred_scores"
   ]
  },
  {
   "cell_type": "code",
   "execution_count": null,
   "id": "ac7ed86d-803e-4ebc-a3b6-d4a5a15f96ea",
   "metadata": {},
   "outputs": [],
   "source": []
  }
 ],
 "metadata": {
  "kernelspec": {
   "display_name": "Python 3 (ipykernel)",
   "language": "python",
   "name": "python3"
  },
  "language_info": {
   "codemirror_mode": {
    "name": "ipython",
    "version": 3
   },
   "file_extension": ".py",
   "mimetype": "text/x-python",
   "name": "python",
   "nbconvert_exporter": "python",
   "pygments_lexer": "ipython3",
   "version": "3.8.9"
  }
 },
 "nbformat": 4,
 "nbformat_minor": 5
}
